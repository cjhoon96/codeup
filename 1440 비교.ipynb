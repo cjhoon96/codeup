{
 "cells": [
  {
   "cell_type": "markdown",
   "metadata": {},
   "source": [
    "문제 설명      \n",
    "n개의 숫자가 입력되면, 다음과 같이 크기를 비교한 후 양식에 맞춰 출력하시오.\n",
    "\n",
    "예를 들어, 1 2 3 2 1 이라는 숫자가 입력되면,\n",
    "\n",
    "첫 번째 1과 나머지 2, 3, 2, 1을 비교하면 1 < 2,  1 < 3, 1 < 2, 1 = 1 이므로 < < < = 를 출력한다.\n",
    "\n",
    "두 번째 2와 나머지 1, 3, 2, 1을 비교하면 2 > 1, 2 < 3, 2 = 2, 2 > 1 이므로 > < = > 를 출력한다.\n",
    "\n",
    "세 번째 3과 나머지 1, 2, 2, 1을 비교하면 3 > 1, 3 > 2, 3 > 2, 3 > 1 이므로 > > > > 를 출력한다.\n",
    "\n",
    "같은 방법으로 네 번째는 > = < >, 다섯번째는 = < < < 를 출력한다.\n",
    "\n",
    "이와 같은 방식의 대소 비교 결과를 출력하시오. \n",
    "\n",
    "입력\n",
    "첫째 줄에 숫자의 개수 n이 입력된다. ( 2 <= n <= 1000)\n",
    "\n",
    "다음 줄에 n개의 숫자 k가 공백으로 입력된다.( k는 int범위)\n",
    "\n",
    "출력\n",
    "샘플 출력 양식에 맞추어 비교 결과를 출력한다.\n",
    "\n",
    "입력 예시   \n",
    "5\n",
    "1 2 3 2 1 \n",
    "\n",
    "출력 예시\n",
    "1: < < < = \n",
    "2: > < = > \n",
    "3: > > > > \n",
    "4: > = < > \n",
    "5: = < < < "
   ]
  },
  {
   "cell_type": "code",
   "execution_count": 1,
   "metadata": {},
   "outputs": [
    {
     "ename": "SyntaxError",
     "evalue": "invalid syntax (<ipython-input-1-7be8d0bf0c75>, line 7)",
     "output_type": "error",
     "traceback": [
      "\u001b[1;36m  File \u001b[1;32m\"<ipython-input-1-7be8d0bf0c75>\"\u001b[1;36m, line \u001b[1;32m7\u001b[0m\n\u001b[1;33m    for idx in range(N):\u001b[0m\n\u001b[1;37m                       ^\u001b[0m\n\u001b[1;31mSyntaxError\u001b[0m\u001b[1;31m:\u001b[0m invalid syntax\n"
     ]
    }
   ],
   "source": [
    "import sys\n",
    "input=sys.stdin.readline\n",
    "\n",
    "N=int(input())\n",
    "l=list(map(int,input().split()))\n",
    "\n",
    "for idx in range(N):\n",
    "    re_l=l.copy()\n",
    "    n=re_l.pop(idx)\n",
    "    print('%d:'%(idx+1),end=' ')\n",
    "    for i in re_l:\n",
    "        if n<i:\n",
    "            print('<',end=' ')\n",
    "        elif n>i:\n",
    "            print('>',end=' ')\n",
    "        elif n==i:\n",
    "            print('=',end=' ')\n",
    "    print()"
   ]
  }
 ],
 "metadata": {
  "kernelspec": {
   "display_name": "Python 3",
   "language": "python",
   "name": "python3"
  },
  "language_info": {
   "codemirror_mode": {
    "name": "ipython",
    "version": 3
   },
   "file_extension": ".py",
   "mimetype": "text/x-python",
   "name": "python",
   "nbconvert_exporter": "python",
   "pygments_lexer": "ipython3",
   "version": "3.8.5"
  }
 },
 "nbformat": 4,
 "nbformat_minor": 4
}
