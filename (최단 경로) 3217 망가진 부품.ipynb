{
 "cells": [
  {
   "cell_type": "code",
   "execution_count": null,
   "metadata": {},
   "outputs": [],
   "source": [
    "import heapq\n",
    "import sys\n",
    "input = sys.stdin.readline\n",
    "INF = int(1e9) \n",
    "\n",
    "T = int(input())\n",
    "\n",
    "for _ in range(T):\n",
    "    n,d,c = map(int,input().split())\n",
    "    graph = [[] for _ in range(n+1)]\n",
    "    for _ in range(d):\n",
    "        a,b,s = map(int,input().split())\n",
    "        graph[b].append((a,s))\n",
    "\n",
    "    time = [INF for _ in range(n+1)]\n",
    "\n",
    "    time[c] = 0\n",
    "    q = []\n",
    "    heapq.heappush(q, (0,c))\n",
    "    while q:\n",
    "        t , now = heapq.heappop(q)\n",
    "        if time[now] < t:\n",
    "            continue\n",
    "        for i in graph[now]:\n",
    "            cost = t + i[1]\n",
    "            if cost < time[i[0]]:\n",
    "                time[i[0]] = cost\n",
    "                heapq.heappush(q, (cost, i[0]))\n",
    "    cnt = 0\n",
    "    maxi = 0\n",
    "    for i in time:\n",
    "        if i != INF:\n",
    "            cnt += 1\n",
    "            if maxi < i:\n",
    "                maxi = i\n",
    "    print(cnt, maxi)"
   ]
  }
 ],
 "metadata": {
  "kernelspec": {
   "display_name": "Python 3",
   "language": "python",
   "name": "python3"
  },
  "language_info": {
   "codemirror_mode": {
    "name": "ipython",
    "version": 3
   },
   "file_extension": ".py",
   "mimetype": "text/x-python",
   "name": "python",
   "nbconvert_exporter": "python",
   "pygments_lexer": "ipython3",
   "version": "3.8.5"
  }
 },
 "nbformat": 4,
 "nbformat_minor": 4
}
