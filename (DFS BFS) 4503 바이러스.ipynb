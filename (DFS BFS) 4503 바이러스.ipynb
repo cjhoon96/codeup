{
 "cells": [
  {
   "cell_type": "code",
   "execution_count": null,
   "metadata": {},
   "outputs": [],
   "source": [
    "import sys\n",
    "input=sys.stdin.readline\n",
    "from collections import deque\n",
    "\n",
    "n = int(input())\n",
    "m = int(input())\n",
    "\n",
    "net_list = [[] for _ in range(n+1)]\n",
    "infect = [1 for _ in range(n+1)]\n",
    "\n",
    "for _ in range(m):\n",
    "    a,b = map(int,input().split())\n",
    "    net_list[a].append(b)\n",
    "    net_list[b].append(a)\n",
    "\n",
    "def virus(a):\n",
    "    queue = deque(net_list[a])\n",
    "\n",
    "    while queue:\n",
    "        check = queue.popleft()\n",
    "        if infect[check]:\n",
    "            infect[check] = 0\n",
    "            for i in net_list[check]:\n",
    "                if infect[i] and i not in queue:\n",
    "                    queue.append(i)\n",
    "\n",
    "virus(1)\n",
    "print(infect.count(0)-1)\n"
   ]
  },
  {
   "cell_type": "code",
   "execution_count": null,
   "metadata": {},
   "outputs": [],
   "source": [
    "import sys\n",
    "input=sys.stdin.readline\n",
    "from collections import deque\n",
    "\n",
    "n = int(input())\n",
    "m = int(input())\n",
    "\n",
    "net_list = [[] for _ in range(n+1)]\n",
    "infect = [0 for _ in range(n+1)]\n",
    "\n",
    "for _ in range(m):\n",
    "    a,b = map(int,input().split())\n",
    "    net_list[a].append(b)\n",
    "    net_list[b].append(a)\n",
    "\n",
    "def virus(a):\n",
    "    queue = deque(net_list[a])\n",
    "\n",
    "    while queue:\n",
    "        check = queue.popleft()\n",
    "        if infect[check] == 0:\n",
    "            infect[check] = 1\n",
    "            for i in net_list[check]:\n",
    "                if infect[i] == 0 and i not in queue:\n",
    "                    queue.append(i)\n",
    "\n",
    "virus(1)\n",
    "print(sum(infect)-1)"
   ]
  },
  {
   "cell_type": "code",
   "execution_count": 2,
   "metadata": {},
   "outputs": [
    {
     "name": "stdout",
     "output_type": "stream",
     "text": [
      "deque([5, 6, 7, 1, 2, 3, 4, 5])\n"
     ]
    }
   ],
   "source": [
    "from collections import deque\n",
    "\n",
    "queue = deque([5,6,7])\n",
    "a = deque([1,2,3,4,5])\n",
    "queue += a\n",
    "print(queue)"
   ]
  }
 ],
 "metadata": {
  "kernelspec": {
   "display_name": "Python 3",
   "language": "python",
   "name": "python3"
  },
  "language_info": {
   "codemirror_mode": {
    "name": "ipython",
    "version": 3
   },
   "file_extension": ".py",
   "mimetype": "text/x-python",
   "name": "python",
   "nbconvert_exporter": "python",
   "pygments_lexer": "ipython3",
   "version": "3.8.5"
  }
 },
 "nbformat": 4,
 "nbformat_minor": 4
}
