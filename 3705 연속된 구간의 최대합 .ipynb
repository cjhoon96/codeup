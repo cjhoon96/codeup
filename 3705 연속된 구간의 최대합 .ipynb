{
 "cells": [
  {
   "cell_type": "markdown",
   "metadata": {},
   "source": [
    "## 문제 설명\n",
    "어떤 수열이 있을 때 연속된 구간의 최대합을 출력하려고 한다.\n",
    "\n",
    "예를 들어\n",
    "\n",
    "2 -6 4 5 -2 6 2 -1이라는 수열이 있다면 \n",
    "\n",
    "연속된 구간의 최대 부분합은 15이다. (4+5+ -2 + 6 + 2)\n",
    "\n",
    "## 입력\n",
    "첫째줄에 수열의 원소의 개수 n이 입력된다. (1 <= n <= 100,000)\n",
    "\n",
    "둘째 줄에 n개의 정수 원소 값이 차례대로 입력된다. (값의 범위: -100 ~ + 100)\n",
    "\n",
    "## 출력\n",
    "연속된 구간의 최대합을 출력한다.\n",
    "\n",
    "## 입력 예시   \n",
    "8\n",
    "2 -6 4 5 -2 6 2 -1\n",
    "\n",
    "## 출력 예시\n",
    "15"
   ]
  },
  {
   "cell_type": "code",
   "execution_count": 6,
   "metadata": {},
   "outputs": [
    {
     "name": "stdout",
     "output_type": "stream",
     "text": [
      "8\n",
      "2 -6 4 5 -2 6 2 -1\n"
     ]
    },
    {
     "ename": "NameError",
     "evalue": "name 'divde_conquer' is not defined",
     "output_type": "error",
     "traceback": [
      "\u001b[1;31m---------------------------------------------------------------------------\u001b[0m",
      "\u001b[1;31mNameError\u001b[0m                                 Traceback (most recent call last)",
      "\u001b[1;32m<ipython-input-6-997d2e80ba9c>\u001b[0m in \u001b[0;36m<module>\u001b[1;34m\u001b[0m\n\u001b[0;32m     32\u001b[0m \u001b[0mn\u001b[0m\u001b[1;33m=\u001b[0m\u001b[0mint\u001b[0m\u001b[1;33m(\u001b[0m\u001b[0minput\u001b[0m\u001b[1;33m(\u001b[0m\u001b[1;33m)\u001b[0m\u001b[1;33m)\u001b[0m\u001b[1;33m\u001b[0m\u001b[1;33m\u001b[0m\u001b[0m\n\u001b[0;32m     33\u001b[0m \u001b[0ma\u001b[0m\u001b[1;33m=\u001b[0m\u001b[0mlist\u001b[0m\u001b[1;33m(\u001b[0m\u001b[0mmap\u001b[0m\u001b[1;33m(\u001b[0m\u001b[0mint\u001b[0m\u001b[1;33m,\u001b[0m\u001b[0minput\u001b[0m\u001b[1;33m(\u001b[0m\u001b[1;33m)\u001b[0m\u001b[1;33m.\u001b[0m\u001b[0msplit\u001b[0m\u001b[1;33m(\u001b[0m\u001b[1;33m)\u001b[0m\u001b[1;33m)\u001b[0m\u001b[1;33m)\u001b[0m\u001b[1;33m\u001b[0m\u001b[1;33m\u001b[0m\u001b[0m\n\u001b[1;32m---> 34\u001b[1;33m \u001b[0mdivde_conquer\u001b[0m\u001b[1;33m(\u001b[0m\u001b[0ma\u001b[0m\u001b[1;33m)\u001b[0m\u001b[1;33m\u001b[0m\u001b[1;33m\u001b[0m\u001b[0m\n\u001b[0m",
      "\u001b[1;31mNameError\u001b[0m: name 'divde_conquer' is not defined"
     ]
    }
   ],
   "source": [
    "def divide_conquer(arr):\n",
    "    N = len(arr)\n",
    "\n",
    "    def find(lo, hi):\n",
    "        # 1.\n",
    "        if lo == hi:\n",
    "            return arr[lo]\n",
    "\n",
    "        mid = (lo + hi) // 2\n",
    "\t# 2.\n",
    "        left = find(lo, mid)\n",
    "        right = find(mid+1, hi)\n",
    "\n",
    "        # 3.\n",
    "        tmp = 0\n",
    "        left_part = MIN\n",
    "        for i in range(mid, lo-1, -1):\n",
    "            tmp += arr[i]\n",
    "            left_part = max(left_part, tmp)\n",
    "\n",
    "        tmp = 0\n",
    "        right_part = MIN\n",
    "        for i in range(mid+1, hi+1):\n",
    "            tmp += arr[i]\n",
    "            right_part = max(right_part, tmp)\n",
    "\n",
    "        # 4.\n",
    "        return max(left, right, left_part + right_part)\n",
    "\n",
    "    # 5.\n",
    "    return find(0, N-1)\n",
    "n=int(input())\n",
    "a=list(map(int,input().split()))\n",
    "divde_conquer(a)"
   ]
  },
  {
   "cell_type": "code",
   "execution_count": 12,
   "metadata": {},
   "outputs": [
    {
     "name": "stdout",
     "output_type": "stream",
     "text": [
      "1\n",
      "-68\n",
      "-68\n"
     ]
    }
   ],
   "source": [
    "def dynamic_programming(arr):\n",
    "    cache = [None for _ in range(len(arr))]\n",
    "    cache[0] = arr[0]\n",
    "    for i in range(1, len(arr)):\n",
    "        cache[i] = max(0, cache[i-1]) + arr[i] ##전에값이 음수면 리샛\n",
    "        \n",
    "    return max(cache)\n",
    "n=int(input())\n",
    "a=list(map(int,input().split()))\n",
    "print(dynamic_programming(a))"
   ]
  },
  {
   "cell_type": "code",
   "execution_count": 13,
   "metadata": {},
   "outputs": [
    {
     "name": "stdout",
     "output_type": "stream",
     "text": [
      "1\n",
      "-68\n",
      "0\n"
     ]
    }
   ],
   "source": [
    "def subtotal(lst):\n",
    "    sum_data=[None for _ in range(len(lst))]\n",
    "    sum_data[0]=lst[0]\n",
    "    for i in range(1,len(lst)):\n",
    "        sum_data[i]=max(0,sum_data[i-1])+lst[i]\n",
    "    return max(sum_data)\n",
    "n=int(input())\n",
    "print(subtotal(list(map(int, input().split()))))\n",
    "    "
   ]
  }
 ],
 "metadata": {
  "kernelspec": {
   "display_name": "Python 3",
   "language": "python",
   "name": "python3"
  },
  "language_info": {
   "codemirror_mode": {
    "name": "ipython",
    "version": 3
   },
   "file_extension": ".py",
   "mimetype": "text/x-python",
   "name": "python",
   "nbconvert_exporter": "python",
   "pygments_lexer": "ipython3",
   "version": "3.8.5"
  }
 },
 "nbformat": 4,
 "nbformat_minor": 4
}
