{
 "cells": [
  {
   "cell_type": "markdown",
   "metadata": {},
   "source": [
    "KOI 부설 과학연구소에서는 많은 종류의 산성 용액과 알칼리성 용액을 보유하고 있다. 각 용액에는 그 용액의 특성을 나타내는 하나의 정수가 주어져있다.  \n",
    "산성 용액의 특성값은 1부터 1,000,000,000까지의 양의 정수로 나타내고, \n",
    "알칼리성 용액의 특성값은 -1부터 -1,000,000,000까지의 음의 정수로 나타낸다.\n",
    "\n",
    "같은 양의 두 용액을 혼합한 용액의 특성값은 혼합에 사용된 각 용액의 특성값의 합으로 정의한다. \n",
    "이 연구소에서는 같은 양의 두 용액을 혼합하여 특성값이 0에 가장 가까운 용액을 만들려고 한다. \n",
    "\n",
    "예를 들어, 주어진 용액들의 특성값이 [-2, 4, -99, -1, 98]인 경우에는 특성값이 -99인 용액과 특성값이 98인 용액을 혼합하면 특성값이 -1인 용액을 만들 수 있고, 이 용액이 특성값이 0에 가장 가까운 용액이다. 참고로, 두 종류의 알칼리성 용액만으로나 혹은 두 종류의 산성 용액만으로 특성값이 0에 가장 가까운 혼합 용액을 만드는 경우도 존재할 수 있다.\n",
    "\n",
    "산성 용액과 알칼리성 용액의 특성값이 주어졌을 때, 이 중 두 개의 서로 다른 용액을 혼합하여 특성값이 0에 가장 가까운 용액을 만들어내는 두 용액을 찾는 프로그램을 작성하시오.\n",
    "\n",
    "입력"
   ]
  },
  {
   "cell_type": "markdown",
   "metadata": {},
   "source": [
    "첫째 줄에는 전체 용액의 수 N이 입력된다. N은 2 이상 100,000 이하이다. 둘째 줄에는 용액의 특성값을 나타내는 N개의 정수가 빈칸을 사이에 두고 주어진다. 이 수들은 모두 -1,000,000,000 이상 1,000,000,000 이하이다. N개의 용액들의 특성값은 모두 다르고, 산성 용액만으로나 알칼리성 용액만으로 입력이 주어지는 경우도 있을 수 있다.\n"
   ]
  },
  {
   "cell_type": "markdown",
   "metadata": {},
   "source": [
    "출력\n",
    "첫째 줄에 특성값이 0에 가장 가까운 용액을 만들어내는 두 용액의 특성값을 출력한다. 출력해야하는 두 용액은 특성값의 오름차순으로 출력한다. 특성값이 0에 가장 가까운 용액을 만들어내는 경우가 두 개 이상일 경우에는 그 중 아무것이나 하나를 출력한다."
   ]
  },
  {
   "cell_type": "code",
   "execution_count": 12,
   "metadata": {},
   "outputs": [
    {
     "name": "stdout",
     "output_type": "stream",
     "text": [
      "5\n",
      "-2 4 -99 -4 98\n",
      "-4 4\n"
     ]
    }
   ],
   "source": [
    "n=int(input())\n",
    "list_data=list(map(int, input().split()))\n",
    "\n",
    "\n",
    "plus_list = []\n",
    "    \n",
    "minus_list = []\n",
    "\n",
    "for i in range(len(list_data)):\n",
    "    if list_data[i] > 0 :\n",
    "        plus_list.append(list_data[i])\n",
    "            \n",
    "    else:\n",
    "        minus_list.append(list_data[i])\n",
    "\n",
    "plus_list.sort()\n",
    "minus_list.sort(reverse=True)\n",
    "\n",
    "if len(plus_list)==0:\n",
    "    a=minus_list[0]\n",
    "    b=minus_list[1]\n",
    "    c=[a,b]\n",
    "elif len(minus_list)==0:\n",
    "    a=plus_list[0]\n",
    "    b=plus_list[1]\n",
    "    c=[a,b]\n",
    "else:\n",
    "    plus_list.sort()\n",
    "    minus_list.sort(reverse=True)\n",
    "    j=0\n",
    "    minimum_dic={}    \n",
    "    for i in range(len(plus_list)):\n",
    "        minimum=2000000000000000000000000000\n",
    "        while abs(plus_list[i]+minus_list[j])<minimum:\n",
    "            a, b, minimum = plus_list[i], minus_list[j], abs(plus_list[i]+minus_list[j])\n",
    "            if j==len(minus_list)-1:\n",
    "                break\n",
    "            else:\n",
    "                j+=1\n",
    "        minimum_dic[minimum]=[a,b]\n",
    "        j-=1\n",
    "        if minimum==0:\n",
    "            break\n",
    "    min_key=min(minimum_dic)\n",
    "    c=minimum_dic[min_key]\n",
    "\n",
    "print(min(c),max(c))"
   ]
  },
  {
   "cell_type": "code",
   "execution_count": 14,
   "metadata": {},
   "outputs": [
    {
     "ename": "SyntaxError",
     "evalue": "invalid syntax (<ipython-input-14-860295bd857e>, line 1)",
     "output_type": "error",
     "traceback": [
      "\u001b[1;36m  File \u001b[1;32m\"<ipython-input-14-860295bd857e>\"\u001b[1;36m, line \u001b[1;32m1\u001b[0m\n\u001b[1;33m    -2 4 -99 -1 98\u001b[0m\n\u001b[1;37m       ^\u001b[0m\n\u001b[1;31mSyntaxError\u001b[0m\u001b[1;31m:\u001b[0m invalid syntax\n"
     ]
    }
   ],
   "source": [
    "-2 4 -99 -1 98\n",
    "1 4 5 7 8 9 10 \n",
    "-3 -6 -8 -10 -11 -17\n",
    "\n",
    "4 98\n",
    "-1 -2 -99"
   ]
  },
  {
   "cell_type": "code",
   "execution_count": 16,
   "metadata": {},
   "outputs": [
    {
     "name": "stdout",
     "output_type": "stream",
     "text": [
      "1\n"
     ]
    }
   ],
   "source": [
    "[str(1)\n",
    "'{}'.format(1)\n",
    "'%d'%(1)\n",
    "\n",
    "print(a)"
   ]
  }
 ],
 "metadata": {
  "kernelspec": {
   "display_name": "Python 3",
   "language": "python",
   "name": "python3"
  },
  "language_info": {
   "codemirror_mode": {
    "name": "ipython",
    "version": 3
   },
   "file_extension": ".py",
   "mimetype": "text/x-python",
   "name": "python",
   "nbconvert_exporter": "python",
   "pygments_lexer": "ipython3",
   "version": "3.8.5"
  }
 },
 "nbformat": 4,
 "nbformat_minor": 4
}
