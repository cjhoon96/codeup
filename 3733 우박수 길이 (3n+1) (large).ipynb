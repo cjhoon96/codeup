{
 "cells": [
  {
   "cell_type": "markdown",
   "metadata": {},
   "source": [
    "문제 분류 : 보기\n",
    "문제 설명    \n",
    "콜라츠의 추측, 3n+1 문제, 우박수 문제라고 불리는 이 문제는 다음과 같다.\n",
    "\n",
    "1, 어떤 자연수 n이 입력되면,\n",
    "\n",
    "2. n이 홀수이면 3n+1을 하고,\n",
    "\n",
    "3. n이 짝수이면 n/2를 한다.\n",
    "\n",
    "4. 이 n이 1이 될때까지 2~3과정을 반복한다.\n",
    "\n",
    "예를 들어 5는 5 → 16 → 8 → 4 → 2 → 1 이 된다.\n",
    "\n",
    "여기서 5가 1이되기 위해 6개의 숫자를 나열하게 된다. 이것을 길이라고 하면 5의 길이는 6이된다.\n",
    "\n",
    "시작수와 마지막 수가 입력되면 그 두 사이게 길이가 가장긴 우박수와 그 길이를 출력하시오.\n",
    "\n",
    "입력\n",
    "두 자연수 a, b가 공백으로 분리되어 입력된다. ( 1 <= a <= b <= 10,000,000 )\n",
    "\n",
    "출력\n",
    "a에서 b사이에 길이가 가장긴 우박수와 그 길이를 출력한다. 만약 가장 긴 수가 두 개이상인 경우, 작은 숫자를 출력하시오.\n",
    "\n",
    "입력 예시   \n",
    "1 10\n",
    "\n",
    "출력 예시\n",
    "9 20"
   ]
  },
  {
   "cell_type": "code",
   "execution_count": 40,
   "metadata": {},
   "outputs": [
    {
     "name": "stdout",
     "output_type": "stream",
     "text": [
      "1 10\n",
      "9 20\n"
     ]
    }
   ],
   "source": [
    "n,m=map(int,input().split())\n",
    "def col_len(a):\n",
    "    num=1\n",
    "    while a!=1:\n",
    "        if a%2==0:\n",
    "            a/=2\n",
    "            num+=1\n",
    "        else:\n",
    "            a=3*a+1\n",
    "            num+=1\n",
    "    return num\n",
    "\n",
    "last_len=0\n",
    "\n",
    "for i in range(n,m+1):\n",
    "    cor_len=col_len(i)\n",
    "    if cor_len>last_len:\n",
    "        last_len=cor_len\n",
    "        numb=i\n",
    "print(numb,last_len)\n"
   ]
  },
  {
   "cell_type": "code",
   "execution_count": 1,
   "metadata": {},
   "outputs": [
    {
     "name": "stdout",
     "output_type": "stream",
     "text": [
      "665\n"
     ]
    }
   ],
   "source": [
    "def col_len(a):\n",
    "    num=1\n",
    "    while a!=1:\n",
    "        if a%2==0:\n",
    "            a/=2\n",
    "            num+=1\n",
    "        else:\n",
    "            a=3*a+1\n",
    "            num+=1\n",
    "    return num\n",
    "print(col_len(6649279))"
   ]
  },
  {
   "cell_type": "code",
   "execution_count": 9,
   "metadata": {},
   "outputs": [
    {
     "name": "stdout",
     "output_type": "stream",
     "text": [
      "1 10\n"
     ]
    },
    {
     "ename": "KeyError",
     "evalue": "10",
     "output_type": "error",
     "traceback": [
      "\u001b[1;31m---------------------------------------------------------------------------\u001b[0m",
      "\u001b[1;31mKeyError\u001b[0m                                  Traceback (most recent call last)",
      "\u001b[1;32m<ipython-input-9-6b0305501455>\u001b[0m in \u001b[0;36m<module>\u001b[1;34m\u001b[0m\n\u001b[0;32m     25\u001b[0m \u001b[1;33m\u001b[0m\u001b[0m\n\u001b[0;32m     26\u001b[0m \u001b[1;33m\u001b[0m\u001b[0m\n\u001b[1;32m---> 27\u001b[1;33m \u001b[0mcol_max\u001b[0m\u001b[1;33m(\u001b[0m\u001b[0mn\u001b[0m\u001b[1;33m,\u001b[0m\u001b[0mm\u001b[0m\u001b[1;33m)\u001b[0m\u001b[1;33m\u001b[0m\u001b[1;33m\u001b[0m\u001b[0m\n\u001b[0m",
      "\u001b[1;32m<ipython-input-9-6b0305501455>\u001b[0m in \u001b[0;36mcol_max\u001b[1;34m(n, m)\u001b[0m\n\u001b[0;32m     20\u001b[0m             \u001b[1;32melse\u001b[0m\u001b[1;33m:\u001b[0m\u001b[1;33m\u001b[0m\u001b[1;33m\u001b[0m\u001b[0m\n\u001b[0;32m     21\u001b[0m                 \u001b[0mnum\u001b[0m\u001b[1;33m+=\u001b[0m\u001b[1;36m1\u001b[0m\u001b[1;33m\u001b[0m\u001b[1;33m\u001b[0m\u001b[0m\n\u001b[1;32m---> 22\u001b[1;33m                 \u001b[0mcol_dic\u001b[0m\u001b[1;33m[\u001b[0m\u001b[0ma\u001b[0m\u001b[1;33m]\u001b[0m\u001b[1;33m=\u001b[0m\u001b[1;36m1\u001b[0m\u001b[1;33m+\u001b[0m\u001b[0mcol_dic\u001b[0m\u001b[1;33m[\u001b[0m\u001b[1;36m3\u001b[0m\u001b[1;33m*\u001b[0m\u001b[0ma\u001b[0m\u001b[1;33m+\u001b[0m\u001b[1;36m1\u001b[0m\u001b[1;33m]\u001b[0m\u001b[1;33m\u001b[0m\u001b[1;33m\u001b[0m\u001b[0m\n\u001b[0m\u001b[0;32m     23\u001b[0m                 \u001b[0ma\u001b[0m\u001b[1;33m=\u001b[0m\u001b[1;36m3\u001b[0m\u001b[1;33m*\u001b[0m\u001b[0ma\u001b[0m\u001b[1;33m+\u001b[0m\u001b[1;36m1\u001b[0m\u001b[1;33m\u001b[0m\u001b[1;33m\u001b[0m\u001b[0m\n\u001b[0;32m     24\u001b[0m     \u001b[1;32mreturn\u001b[0m \u001b[0mprint\u001b[0m\u001b[1;33m(\u001b[0m\u001b[0mcol_dic\u001b[0m\u001b[1;33m)\u001b[0m\u001b[1;33m\u001b[0m\u001b[1;33m\u001b[0m\u001b[0m\n",
      "\u001b[1;31mKeyError\u001b[0m: 10"
     ]
    }
   ],
   "source": [
    "n,m=map(int,input().split())\n",
    "def col(a):\n",
    "    num=1\n",
    "    while a!=1:\n",
    "        if a%2==0:\n",
    "            a/=2\n",
    "            num+=1\n",
    "        else:\n",
    "            a=3*a+1\n",
    "            num+=1\n",
    "    return num\n",
    "\n",
    "last_len=0\n",
    "def col_max(n,m):\n",
    "    col_dic={}\n",
    "    col_dic[1]=0\n",
    "    for i in range(n,m+1):\n",
    "        num=1\n",
    "        a=i\n",
    "        while a!=1:\n",
    "            if a in col_dic:\n",
    "                col_dic[i]=num+col_dic[a]\n",
    "                a=1\n",
    "        \n",
    "            elif a%2==0:\n",
    "                num+=1\n",
    "                col_dic[a]=num+col_dic[a/2]\n",
    "                a/=2\n",
    "        \n",
    "            else:\n",
    "                num+=1\n",
    "                col_dic[a]=1+col_dic[3*a+1]\n",
    "                a=3*a+1\n",
    "    return print(col_dic)\n",
    "\n",
    "\n",
    "col_max(n,m)"
   ]
  },
  {
   "cell_type": "code",
   "execution_count": 12,
   "metadata": {},
   "outputs": [
    {
     "name": "stdout",
     "output_type": "stream",
     "text": [
      "1 99999999\n"
     ]
    },
    {
     "ename": "KeyboardInterrupt",
     "evalue": "",
     "output_type": "error",
     "traceback": [
      "\u001b[1;31m---------------------------------------------------------------------------\u001b[0m",
      "\u001b[1;31mKeyboardInterrupt\u001b[0m                         Traceback (most recent call last)",
      "\u001b[1;32m<ipython-input-12-e2fdadb641a6>\u001b[0m in \u001b[0;36m<module>\u001b[1;34m\u001b[0m\n\u001b[0;32m     27\u001b[0m             \u001b[0mtemp_list\u001b[0m\u001b[1;33m.\u001b[0m\u001b[0mappend\u001b[0m\u001b[1;33m(\u001b[0m\u001b[0mn\u001b[0m\u001b[1;33m)\u001b[0m \u001b[1;31m# 우박수 길이 계산하면서 나오는 수들 저장\u001b[0m\u001b[1;33m\u001b[0m\u001b[1;33m\u001b[0m\u001b[0m\n\u001b[0;32m     28\u001b[0m \u001b[1;33m\u001b[0m\u001b[0m\n\u001b[1;32m---> 29\u001b[1;33m         \u001b[0mdic\u001b[0m\u001b[1;33m[\u001b[0m\u001b[0mnum\u001b[0m\u001b[1;33m]\u001b[0m \u001b[1;33m=\u001b[0m \u001b[0mcount\u001b[0m \u001b[1;33m+\u001b[0m \u001b[0mdic\u001b[0m\u001b[1;33m[\u001b[0m\u001b[0mn\u001b[0m\u001b[1;33m]\u001b[0m\u001b[1;33m\u001b[0m\u001b[1;33m\u001b[0m\u001b[0m\n\u001b[0m\u001b[0;32m     30\u001b[0m \u001b[1;33m\u001b[0m\u001b[0m\n\u001b[0;32m     31\u001b[0m         \u001b[1;31m# 우박수 길이 계산하면서 나오는 수들의 우박수 길이를 딕셔너리에 저장\u001b[0m\u001b[1;33m\u001b[0m\u001b[1;33m\u001b[0m\u001b[1;33m\u001b[0m\u001b[0m\n",
      "\u001b[1;31mKeyboardInterrupt\u001b[0m: "
     ]
    }
   ],
   "source": [
    "a, b  = map(int, input().split())\n",
    "\n",
    "# n을 입력하면 n부터 1까지 \n",
    "# 우박수의 길이를 메모이제이션 할 딕셔너리\n",
    "dic = {1:1} \n",
    "\n",
    "# a,b 사이의 우박수 길이를 저장할 딕셔너리\n",
    "answer = {}\n",
    "\n",
    "for num in range(a, b+1): # num : a,b 사이의 수\n",
    "    \n",
    "    if num not in dic: # num의 우박수 길이를 모른다면\n",
    "\n",
    "        n = num\n",
    "        count = 0  # 우박수 길이를 카운트\n",
    "        temp_list = [] # 우박수 길이 계산하면서 나오는 수들 저장\n",
    "        \n",
    "        while (n not in dic):\n",
    "            \n",
    "            if n%2 ==0:\n",
    "                n = int(n/2)\n",
    "                \n",
    "            else:\n",
    "                n = 3*n +1\n",
    "                \n",
    "            count += 1\n",
    "            temp_list.append(n) # 우박수 길이 계산하면서 나오는 수들 저장\n",
    "        \n",
    "        dic[num] = count + dic[n]\n",
    "        \n",
    "        # 우박수 길이 계산하면서 나오는 수들의 우박수 길이를 딕셔너리에 저장\n",
    "        for idx in range(len(temp_list)):\n",
    "            dic[temp_list[idx]] = dic[num] - (idx+1)\n",
    "\n",
    "    answer[num] = dic[num]\n",
    "\n",
    "max_len=max(answer.values())\n",
    "\n",
    "for i in range(a,b+1):\n",
    "    if answer[i]==max_len:\n",
    "        a=i\n",
    "        break\n",
    "\n",
    "print(a, max_len)"
   ]
  }
 ],
 "metadata": {
  "kernelspec": {
   "display_name": "Python 3",
   "language": "python",
   "name": "python3"
  },
  "language_info": {
   "codemirror_mode": {
    "name": "ipython",
    "version": 3
   },
   "file_extension": ".py",
   "mimetype": "text/x-python",
   "name": "python",
   "nbconvert_exporter": "python",
   "pygments_lexer": "ipython3",
   "version": "3.8.5"
  }
 },
 "nbformat": 4,
 "nbformat_minor": 4
}
