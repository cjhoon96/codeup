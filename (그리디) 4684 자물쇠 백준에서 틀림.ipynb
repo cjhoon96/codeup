{
 "cells": [
  {
   "cell_type": "markdown",
   "metadata": {},
   "source": [
    "# 4684 : 자물쇠\n",
    "시간 제한: 1 Sec  메모리 제한: 128 MB  Special Judge\n",
    "제출: 482  해결 문제 수: 61\n",
    "\n",
    "# 문제 설명    \n",
    "### 띠 모양의 자물쇠가 있다. 이 자물쇠는 한 줄로 늘어선 N개의 칸으로 이루어져 있고, 각 칸에는 1부터 N까지의 숫자가 하나씩 들어 있다. \n",
    "### 맨 처음에는 1번째 칸부터 N번째 칸까지 1부터 N까지 숫자가 순서대로 하나씩 들어 있다. \n",
    "### 아래 그림 1은 10개의 칸으로 이루어진 자물쇠의 맨 처음 모양을 보여주고 있다. \n",
    "\n",
    "\n",
    "\n",
    "### 이 자물쇠를 잠그기 위해서는 다음과 같은 3회의 동작을 연속적으로 수행해야 한다. \n",
    "\n",
    "\n",
    "### ➀ 왼쪽으로 밀기 \n",
    "### ➁ 구간 뒤집기 \n",
    "### ➂ 왼쪽으로 밀기 \n",
    "\n",
    "### 첫 번째 동작은 왼쪽으로 밀기이다. 칸 밖으로 밀려나간 번호는 다시 오른쪽으로 돌아온다. \n",
    "### 그림 1의 자물쇠를 왼쪽으로 3칸 밀고 나면 그림 2와 같게 된다. \n",
    "### 이렇게 왼쪽으로 K칸 밀기 동작을 K-왼쪽밀기라고 부른다. 이때 이다. \n",
    "\n",
    "\n",
    "\n",
    "### 그 다음 동작은 정해진 구간의 숫자를 뒤집는 것이다. \n",
    "### 예를 들어 그림 2의 자물쇠에서 7번째 칸에서부터 9번째 칸까지 숫자 <10,1,2>를 뒤집으면 다음 그림 3과 같게 된다. \n",
    "### P번째 칸부터 Q번째 칸까지 숫자들을 뒤집는 동작을 (P,Q)-구간뒤집기라고 한다. 이때 항상 P<Q이다. \n",
    "\n",
    "\n",
    "\n",
    "### 이 상황에서 다시 5-왼쪽밀기 동작을 수행하였다면 자물쇠 모양은 아래 그림 4와 같게 된다. \n",
    "\n",
    "\n",
    "\n",
    "### 위에서 3-왼쪽밀기, (7,9)-구간뒤집기, 다시 5-왼쪽밀기의 동작을 차례로 수행하여 자물쇠를 잠궜다. \n",
    "\n",
    "### 잠긴 자물쇠의 마지막 상태를 입력으로 받아서 그렇게 만든 3회의 동작을 찾아내는 프로그램을 작성하시오. 예를 들어 자물쇠 모양이 그림 4와 같다면 그 답은 3-왼쪽밀기, (7,9)-구간뒤집기, 5-왼쪽밀기이다.\n",
    "\n",
    "# 입력\n",
    "### 첫째 줄에 자물쇠에 있는 칸의 수를 나타내는 정수 N이 주어진다. N은 10 이상 500 이하이다.\n",
    "\n",
    "### 둘째 줄에는 잠겨 있는 자물쇠의 1번째 칸부터N 번째 칸까지 들어 있는 숫자들이 순서대로 빈칸을 사이에 두고 입력된다. \n",
    "\n",
    "# 출력\n",
    "### 처음 K-왼쪽밀기의 를 첫째 줄에, (P,Q)-구간뒤집기의 P와 Q를 빈칸을 사이에 두고 둘째 줄에, 그리고 마지막 K-왼쪽밀기의 K를 셋째 줄에 출력한다. 만일 답이 여럿일 경우에는 그 중 하나만 출력하면 된다. \n",
    "\n",
    "# 입력 예시   \n",
    "### 10  \n",
    "\n",
    "### 9 2 1 10 3 4 5 6 7 8  \n",
    "\n",
    "# 출력 예시\n",
    "### 3\n",
    "\n",
    "### 7 9  \n",
    "\n",
    "### 5\n",
    "\n",
    "도움말\n",
    " ※ 스페셜져지 적용됨. (2012.11.12)"
   ]
  },
  {
   "cell_type": "code",
   "execution_count": 50,
   "metadata": {},
   "outputs": [
    {
     "name": "stdin",
     "output_type": "stream",
     "text": [
      " 10\n",
      " 3 2 1 4 5 6 7 8 9 10\n"
     ]
    },
    {
     "name": "stdout",
     "output_type": "stream",
     "text": [
      "10\n",
      "1 3\n",
      "10\n"
     ]
    }
   ],
   "source": [
    "n = int(input()) \n",
    "\n",
    "first = [i+1 for i in range(n)]         # 섞기 전 리스트\n",
    "mixed = list(map(int,input().split()))  # 섞은 후의 리스트 입력\n",
    "\n",
    "\n",
    "norm_set = set()               #1식 순차적으로 늘어나는 숫자들의 집합\n",
    "\n",
    "for i in range(len(mixed)-1):\n",
    "    if mixed[i+1]-mixed[i]==1:                #1씩 순차적으로 늘어나는 정상적인 숫자들을 norm_set에 추가한다.\n",
    "        norm_set.update([mixed[i+1],mixed[i]])\n",
    "    if mixed[i]-mixed[i-1]==1:\n",
    "        norm_set.update([mixed[i],mixed[i-1]])\n",
    "reversed_section = mixed.copy()          #(mixed는 후에 다시 쓰기 위해)\n",
    "\n",
    "\n",
    "while norm_set : \n",
    "    data = norm_set.pop()          # norm_set에 있는 숫자들을 하나씩 뽑아내어 mixed리스트에서 삭제한타\n",
    "    reversed_section.remove(data)  # 결과적으로 뒤집힌 구간의 숫자들만 남게 된다.\n",
    "\n",
    "\n",
    "def rev(a):\n",
    "    for i in range(len(a)-1):\n",
    "        if a[i+1]-a[i] not in [-1,n-1]:      # 숫자를 뒤집었을때 1씩 증가 하거나 10 1 2 의 꼴인지 확인 하는 함수 맞을 경우 False를 리턴한다.\n",
    "            return True\n",
    "    else:\n",
    "        return False\n",
    "\n",
    "while rev(reversed_section):        # 뒤집었을때 {1씩 증가하거나 10 1 2와 같은 꼴}일때 까지 오른쪽으로 한칸씩 돌린다.\n",
    "    last = reversed_section.pop()\n",
    "    reversed_section.insert(0, last)\n",
    "    \n",
    "first_sect = reversed_section[0]   # 뒤집을 숫자 리스트의 첫 수를 first_sect에 저장\n",
    "\n",
    "cnt_3 = 0          #3회차에 왼쪽으로 돌릴 횟수를 카운트 함\n",
    "\n",
    "while mixed[0] != first_sect:   #first_sect가 맨 앞으로 올때까지 돌린다.(2회차시행후 2 1 10 3 4 5 6 7 8 9 와 같은 꼴로 만들생각)\n",
    "    cnt_3 += 1\n",
    "    last = mixed.pop()\n",
    "    mixed.insert(0,last)\n",
    "\n",
    "P, Q = 0, len(reversed_section)-1    #이경우 0번째 부터 Q번째 인덱스를 뒤집었다고 생각하면 됨\n",
    "\n",
    "a = list(reversed(mixed[P:Q+1]))     \n",
    "\n",
    "mixed = a + mixed[Q+1:]          # 2번째 시행을 하기 전으로 돌림\n",
    "\n",
    "cnt_1 = 0\n",
    "while mixed != first:         # [1, 2, 3, 4, 5, 6, 7, 8, 9, 10] 이 될때 까지 오른쪽으로 돌림\n",
    "    cnt_1 += 1\n",
    "    last = mixed.pop()\n",
    "    mixed.insert(0,last)\n",
    "\n",
    "if cnt_1 == 0:\n",
    "    cnt_1 = n\n",
    "if cnt_3 == 0:\n",
    "    cnt_3 = n\n",
    "print(cnt_1)\n",
    "print(P+1,Q+1)\n",
    "print(cnt_3)"
   ]
  },
  {
   "cell_type": "markdown",
   "metadata": {},
   "source": [
    "## 1 10' '2\n",
    "## '2 1 10' \n",
    "## '2 1 10' \n",
    "## '5 4 3' "
   ]
  },
  {
   "cell_type": "code",
   "execution_count": 4,
   "metadata": {},
   "outputs": [
    {
     "name": "stdout",
     "output_type": "stream",
     "text": [
      "[2, 3, 4, 5]\n",
      "[1, 2, 3, 4, 5]\n"
     ]
    }
   ],
   "source": [
    "a=[1,2,3,4,5]\n",
    "b=a.copy()\n",
    "\n",
    "b.remove(1)\n",
    "print(b)\n",
    "print(a)"
   ]
  },
  {
   "cell_type": "code",
   "execution_count": 48,
   "metadata": {},
   "outputs": [
    {
     "name": "stdout",
     "output_type": "stream",
     "text": [
      "1 2 9 8 7 6 5 4 3 10 "
     ]
    }
   ],
   "source": [
    "def f(n, k1, p, q, k2):\n",
    "    \"\"\"\n",
    "    n : 길이\n",
    "    k1 : 처음 k-왼쪽밀기\n",
    "    p, q : p,q 뒤집기\n",
    "    k2 : 두번째 k-왼쪽밀기\n",
    "    \"\"\"\n",
    "    l = list(range(1,n+1))\n",
    "    s = l[k1:]+l[:k1]\n",
    "    s = s[:p-1]+s[p-1:q][::-1]+s[q:]\n",
    "    s = s[k2:]+s[:k2]\n",
    "    for i in s:\n",
    "        print(i, end=' ')\n",
    "f(10,9,4,10,1)"
   ]
  },
  {
   "cell_type": "code",
   "execution_count": 3,
   "metadata": {},
   "outputs": [
    {
     "name": "stdout",
     "output_type": "stream",
     "text": [
      "False\n"
     ]
    }
   ],
   "source": [
    "def rev(a):\n",
    "    for i in range(len(a)-1):\n",
    "        if a[i+1]-a[i] not in [-1,9]:\n",
    "            return True\n",
    "    else:\n",
    "        return False\n",
    "    \n",
    "print(rev([2,1,10]))"
   ]
  }
 ],
 "metadata": {
  "kernelspec": {
   "display_name": "Python 3",
   "language": "python",
   "name": "python3"
  },
  "language_info": {
   "codemirror_mode": {
    "name": "ipython",
    "version": 3
   },
   "file_extension": ".py",
   "mimetype": "text/x-python",
   "name": "python",
   "nbconvert_exporter": "python",
   "pygments_lexer": "ipython3",
   "version": "3.8.5"
  }
 },
 "nbformat": 4,
 "nbformat_minor": 4
}
