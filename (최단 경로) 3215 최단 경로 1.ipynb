{
 "cells": [
  {
   "cell_type": "code",
   "execution_count": null,
   "metadata": {},
   "outputs": [],
   "source": [
    "import heapq\n",
    "import sys\n",
    "input = sys.stdin.readline\n",
    "INF = int(1e9) \n",
    "\n",
    "n, m = map(int,input().split())\n",
    "\n",
    "graph = [[] for _ in range(n + 1)]\n",
    "\n",
    "for _ in range(m):\n",
    "    a, b, c = input().split()\n",
    "    a, b = ord(a)-64, ord(b)-64\n",
    "    c = int(c)\n",
    "    graph[a].append((b,c))\n",
    "    graph[b].append((a,c))\n",
    "\n",
    "st, end = input().split()\n",
    "st = ord(st) - 64\n",
    "end = ord(end) - 64\n",
    "\n",
    "dis = [INF for _ in range(n+1)]\n",
    "\n",
    "q = []\n",
    "heapq.heappush(q, (0,st))\n",
    "dis[st] = 0\n",
    "while q:\n",
    "    dist, now = heapq.heappop(q)\n",
    "    if dis[now] < dist:\n",
    "        continue\n",
    "    if now == end:\n",
    "        break\n",
    "    for i in graph[now]:\n",
    "        cost = dist + i[1]\n",
    "        if cost < dis[i[0]]:\n",
    "            dis[i[0]] = cost\n",
    "            heapq.heappush(q,(cost, i[0]))\n",
    "\n",
    "if dis[end] == INF:\n",
    "    print(-1)\n",
    "else:\n",
    "    print(dis[end])"
   ]
  }
 ],
 "metadata": {
  "kernelspec": {
   "display_name": "Python 3",
   "language": "python",
   "name": "python3"
  },
  "language_info": {
   "codemirror_mode": {
    "name": "ipython",
    "version": 3
   },
   "file_extension": ".py",
   "mimetype": "text/x-python",
   "name": "python",
   "nbconvert_exporter": "python",
   "pygments_lexer": "ipython3",
   "version": "3.8.5"
  }
 },
 "nbformat": 4,
 "nbformat_minor": 4
}
