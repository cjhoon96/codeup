{
 "cells": [
  {
   "cell_type": "markdown",
   "metadata": {},
   "source": [
    "문제 설명       \n",
    "n개의 숫자가 입력되면,\n",
    "\n",
    "n개의 숫자를 왼쪽으로 하나씩 돌려서 출력하시오.\n",
    "\n",
    "예) 1 2 3 4 5가 입력된 경우,\n",
    "\n",
    "1 2 3 4 5\n",
    "\n",
    "2 3 4 5 1\n",
    "\n",
    "3 4 5 1 2\n",
    "\n",
    "4 5 1 2 3\n",
    "\n",
    "5 1 2 3 4\n",
    "\n",
    "입력\n",
    "첫째 줄에 숫자의 개수 n이 입력된다.( 1 <= n <= 1,000)\n",
    "\n",
    "둘째 줄에 n개의 정수 k가 공백으로 구분되어 입력된다.(1 <= k <= 1,000)\n",
    "\n",
    "출력\n",
    "숫자를 로테이션한 결과를 출력한다.(단, 왼쪽으로만 돌린다.)\n",
    "\n",
    "입력 예시   \n",
    "5\n",
    "1 2 3 4 5 \n",
    "\n",
    "출력 예시\n",
    "1 2 3 4 5 \n",
    "2 3 4 5 1 \n",
    "3 4 5 1 2 \n",
    "4 5 1 2 3 \n",
    "5 1 2 3 4 \n",
    "\n",
    "도움말\n",
    "출력할 때 각 행의 마지막에 공백이 있어야 합니다.(표현오류 조심)"
   ]
  },
  {
   "cell_type": "code",
   "execution_count": null,
   "metadata": {},
   "outputs": [],
   "source": [
    "import sys\n",
    "input=sys.stdin.readline\n",
    "\n",
    "n=int(input())\n",
    "\n",
    "k=list(map(str,input().split()))\n",
    "\n",
    "def rotation(k):\n",
    "    print(' '.join(k))\n",
    "    a=k.pop(0)\n",
    "    k.append(a)\n",
    "    return k\n",
    "\n",
    "r=k.copy()\n",
    "rotation(r)\n",
    "\n",
    "while r!=k:\n",
    "    rotation(r)"
   ]
  },
  {
   "cell_type": "code",
   "execution_count": null,
   "metadata": {},
   "outputs": [],
   "source": [
    "import sys\n",
    "input=sys.stdin.readline\n",
    "\n",
    "n=int(input())\n",
    "\n",
    "k=list(map(int,input().split()))\n",
    "\n",
    "def rotation(k):\n",
    "    for i in k:\n",
    "        print(i,end=' ')\n",
    "    print()\n",
    "    a=k.pop(0)\n",
    "    k.append(a)\n",
    "    return k\n",
    "\n",
    "r=k.copy()\n",
    "rotation(r)\n",
    "\n",
    "while r!=k:\n",
    "    rotation(r)"
   ]
  }
 ],
 "metadata": {
  "kernelspec": {
   "display_name": "Python 3",
   "language": "python",
   "name": "python3"
  },
  "language_info": {
   "codemirror_mode": {
    "name": "ipython",
    "version": 3
   },
   "file_extension": ".py",
   "mimetype": "text/x-python",
   "name": "python",
   "nbconvert_exporter": "python",
   "pygments_lexer": "ipython3",
   "version": "3.8.5"
  }
 },
 "nbformat": 4,
 "nbformat_minor": 4
}
