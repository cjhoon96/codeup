{
 "cells": [
  {
   "cell_type": "markdown",
   "metadata": {},
   "source": [
    "문제 설명    \n",
    "어떤 10진수 n이 주어지면 2진수로 변환해서 출력하시오.\n",
    "\n",
    "예)\n",
    "\n",
    "10    ----->  1010\n",
    "\n",
    "0    ----->  0\n",
    "\n",
    "1    ----->  1\n",
    "\n",
    "2    ----->  10\n",
    "\n",
    "1024    ----->  10000000000\n",
    "\n",
    "입력\n",
    "10진수 정수 n이 입력된다.\n",
    "\n",
    "(n은 21억이하의 임의의 수이다.)\n",
    "\n",
    "출력\n",
    "2진수로 변환해서 출력한다.\n",
    "\n",
    "입력 예시   \n",
    "7\n",
    "\n",
    "출력 예시\n",
    "111"
   ]
  },
  {
   "cell_type": "code",
   "execution_count": null,
   "metadata": {},
   "outputs": [],
   "source": [
    "import sys\n",
    "input=sys.stdin.readline\n",
    "\n",
    "n=int(input())\n",
    "\n",
    "bi=''\n",
    "while n!=0:\n",
    "    bi=str(n%2)+bi\n",
    "    n//=2\n",
    "    \n",
    "print(bi)"
   ]
  }
 ],
 "metadata": {
  "kernelspec": {
   "display_name": "Python 3",
   "language": "python",
   "name": "python3"
  },
  "language_info": {
   "codemirror_mode": {
    "name": "ipython",
    "version": 3
   },
   "file_extension": ".py",
   "mimetype": "text/x-python",
   "name": "python",
   "nbconvert_exporter": "python",
   "pygments_lexer": "ipython3",
   "version": "3.8.5"
  }
 },
 "nbformat": 4,
 "nbformat_minor": 4
}
