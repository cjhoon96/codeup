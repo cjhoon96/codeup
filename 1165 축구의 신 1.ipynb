{
 "cells": [
  {
   "cell_type": "markdown",
   "metadata": {},
   "source": [
    "문제 설명      \n",
    "지금 1반과 2반이 축구를 하고있다.\n",
    "\n",
    "축구경기 타임은 총 90분이고,\n",
    "\n",
    "현재 1반이 0점, 2반이 2점인 상황에서, 1반은 경남정보고 최고의 스트라이커인 성익이를 투입하기로 결정했다.\n",
    "\n",
    "성익이는 5분마다 골을 넣을 수 있는 능력을 가지고 있다.\n",
    "\n",
    "만약 80분에 투입이 되면 80분에 곧바로 골을 넣게되고 85분에 골을 넣음으로서 동점이 가능하게 된다.\n",
    "\n",
    "(90분이되면 경기가 바로 종료되므로 골을 넣을 수 없다. 동내심판인 성빈이는 성익이가 잘 되는 것을 싫어하기 때문에 추가시간 따위는 주지 않는다. )\n",
    "\n",
    "현재 경기타임과 우리팀의 득점이 입력으로 주어 질때, 성익이를 투입하면 우리팀의 최종 득점은 몇 점인지 출력하시오.\n",
    "\n",
    "입력  \n",
    "현재 경기시간과 우리팀의 득점이 입력으로 주어진다.(정수)\n",
    "\n",
    "출력  \n",
    "경기가 끝났을때 우리팀의 득점을 출력한다.\n",
    "\n",
    "입력 예시     \n",
    "74 2  \n",
    "\n",
    "출력 예시  \n",
    "6  \n",
    "\n",
    "도움말  \n",
    "74분에 투입되면 74, 79, 84, 89 분에 골을 넣게 된다."
   ]
  },
  {
   "cell_type": "code",
   "execution_count": 3,
   "metadata": {},
   "outputs": [
    {
     "name": "stdout",
     "output_type": "stream",
     "text": [
      "74 2\n",
      "4 79\n",
      "5 84\n",
      "6 89\n",
      "7 94\n",
      "7\n"
     ]
    }
   ],
   "source": [
    "t, s=map(int,input().split())\n",
    "while t<90:\n",
    "    t+=5\n",
    "    s+=1\n",
    "print(s)"
   ]
  },
  {
   "cell_type": "code",
   "execution_count": null,
   "metadata": {},
   "outputs": [],
   "source": []
  }
 ],
 "metadata": {
  "kernelspec": {
   "display_name": "Python 3",
   "language": "python",
   "name": "python3"
  },
  "language_info": {
   "codemirror_mode": {
    "name": "ipython",
    "version": 3
   },
   "file_extension": ".py",
   "mimetype": "text/x-python",
   "name": "python",
   "nbconvert_exporter": "python",
   "pygments_lexer": "ipython3",
   "version": "3.8.5"
  }
 },
 "nbformat": 4,
 "nbformat_minor": 4
}
