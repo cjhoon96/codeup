{
 "cells": [
  {
   "cell_type": "markdown",
   "metadata": {},
   "source": [
    "## 문제 설명    \n",
    "피보나치 수열이란 앞의 두 수를 더하여 나오는 수열이다.\n",
    "\n",
    "첫 번째 수와 두 번째 수는 모두 1이고, 세 번째 수부터는 이전의 두 수를 더하여 나타낸다. 피보나치 수열을 나열해 보면 다음과 같다.\n",
    "\n",
    " \n",
    "\n",
    "1, 1, 2, 3, 5, 8, 13 …\n",
    "\n",
    " \n",
    "\n",
    "자연수 N을 입력받아 N번째 피보나치 수를 출력하는 프로그램을 작성하시오.\n",
    "\n",
    "## 입력\n",
    "자연수 N이 입력된다. (N은 40보다 같거나 작다.)\n",
    "\n",
    "## 출력\n",
    "N번째 피보나치 수를 출력한다.\n",
    "\n",
    "## 입력 예시   \n",
    "7\n",
    "\n",
    "## 출력 예시\n",
    "13"
   ]
  },
  {
   "cell_type": "code",
   "execution_count": 3,
   "metadata": {},
   "outputs": [
    {
     "name": "stdout",
     "output_type": "stream",
     "text": [
      "15\n",
      "610\n"
     ]
    }
   ],
   "source": [
    "def fibo(a):\n",
    "    fibo_list=[0 for i in range(0,a+1)]\n",
    "    fibo_list[0]=0\n",
    "    fibo_list[1]=1\n",
    "    for j in range(2,a+1):\n",
    "        fibo_list[j]=fibo_list[j-1]+fibo_list[j-2]\n",
    "    return fibo_list[a]\n",
    "print(fibo(int(input())))"
   ]
  }
 ],
 "metadata": {
  "kernelspec": {
   "display_name": "Python 3",
   "language": "python",
   "name": "python3"
  },
  "language_info": {
   "codemirror_mode": {
    "name": "ipython",
    "version": 3
   },
   "file_extension": ".py",
   "mimetype": "text/x-python",
   "name": "python",
   "nbconvert_exporter": "python",
   "pygments_lexer": "ipython3",
   "version": "3.8.5"
  }
 },
 "nbformat": 4,
 "nbformat_minor": 4
}
