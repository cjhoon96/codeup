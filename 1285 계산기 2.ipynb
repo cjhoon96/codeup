{
 "cells": [
  {
   "cell_type": "markdown",
   "metadata": {},
   "source": [
    "문제 설명      \n",
    "계산기 1에서 두 피연산자에 대한 연산만 다루었다.\n",
    "\n",
    "이번에는 식을 입력하면 차례대로 계산하여 출력하는 계산기를 만들어보자.\n",
    "\n",
    "단, 우선순위는 따지지 않고 왼쪽에서 부터 차례대로 계산하고, 모든 계산은 정수형 계산으로 처리한다.\n",
    "\n",
    "입력\n",
    "첫째 줄에 정수와 사칙연산기호가 식으로 입력된다.\n",
    "\n",
    "(정수는 int 범위, 괄호 없이 +,-,*,/) \n",
    "\n",
    "식의 마지막엔 =가 입력된다.\n",
    "\n",
    "출력\n",
    "왼쪽부터 차례대로 연산한 결과를 출력한다.(우선순위x)\n",
    "\n",
    "입력 예시   \n",
    "3+3-3*3/3=\n",
    "\n",
    "출력 예시\n",
    "3"
   ]
  },
  {
   "cell_type": "code",
   "execution_count": 1,
   "metadata": {},
   "outputs": [
    {
     "name": "stdin",
     "output_type": "stream",
     "text": [
      " \n"
     ]
    },
    {
     "ename": "IndexError",
     "evalue": "list assignment index out of range",
     "output_type": "error",
     "traceback": [
      "\u001b[1;31m---------------------------------------------------------------------------\u001b[0m",
      "\u001b[1;31mIndexError\u001b[0m                                Traceback (most recent call last)",
      "\u001b[1;32m<ipython-input-1-fc3e9ad19f87>\u001b[0m in \u001b[0;36m<module>\u001b[1;34m\u001b[0m\n\u001b[0;32m     12\u001b[0m         \u001b[0mchpt\u001b[0m\u001b[1;33m=\u001b[0m\u001b[0mi\u001b[0m\u001b[1;33m+\u001b[0m\u001b[1;36m1\u001b[0m\u001b[1;33m\u001b[0m\u001b[1;33m\u001b[0m\u001b[0m\n\u001b[0;32m     13\u001b[0m \u001b[1;33m\u001b[0m\u001b[0m\n\u001b[1;32m---> 14\u001b[1;33m \u001b[1;32mdel\u001b[0m \u001b[0mop_list\u001b[0m\u001b[1;33m[\u001b[0m\u001b[1;33m-\u001b[0m\u001b[1;36m1\u001b[0m\u001b[1;33m]\u001b[0m\u001b[1;33m\u001b[0m\u001b[1;33m\u001b[0m\u001b[0m\n\u001b[0m\u001b[0;32m     15\u001b[0m \u001b[1;33m\u001b[0m\u001b[0m\n\u001b[0;32m     16\u001b[0m \u001b[0mans\u001b[0m\u001b[1;33m=\u001b[0m\u001b[0mnum_list\u001b[0m\u001b[1;33m[\u001b[0m\u001b[1;36m0\u001b[0m\u001b[1;33m]\u001b[0m\u001b[1;33m\u001b[0m\u001b[1;33m\u001b[0m\u001b[0m\n",
      "\u001b[1;31mIndexError\u001b[0m: list assignment index out of range"
     ]
    }
   ],
   "source": [
    "import operator\n",
    "n=input()\n",
    "chpt=0\n",
    "ops={'+':operator.add,'-':operator.sub,'*':operator.mul,'/':operator.truediv}\n",
    "num_list=[]\n",
    "op_list=[]\n",
    "\n",
    "for i in range(len(n)):\n",
    "    if n[i] in ['+','-','*','/','=']:\n",
    "        num_list.append(int(n[chpt:i]))\n",
    "        op_list.append(n[i])\n",
    "        chpt=i+1\n",
    "\n",
    "del op_list[-1]\n",
    "\n",
    "ans=num_list[0]\n",
    "for j in range(len(op_list)):\n",
    "    ans=int(ops[op_list[j]](ans,num_list[j+1]))\n",
    "\n",
    "print(int(ans))"
   ]
  },
  {
   "cell_type": "code",
   "execution_count": null,
   "metadata": {},
   "outputs": [],
   "source": []
  }
 ],
 "metadata": {
  "kernelspec": {
   "display_name": "Python 3",
   "language": "python",
   "name": "python3"
  },
  "language_info": {
   "codemirror_mode": {
    "name": "ipython",
    "version": 3
   },
   "file_extension": ".py",
   "mimetype": "text/x-python",
   "name": "python",
   "nbconvert_exporter": "python",
   "pygments_lexer": "ipython3",
   "version": "3.8.5"
  }
 },
 "nbformat": 4,
 "nbformat_minor": 4
}
