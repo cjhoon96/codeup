{
 "cells": [
  {
   "cell_type": "code",
   "execution_count": 3,
   "metadata": {},
   "outputs": [
    {
     "name": "stdout",
     "output_type": "stream",
     "text": [
      "3 13\n",
      "3 5 7 9 11 13\n"
     ]
    }
   ],
   "source": [
    "def pr_atob(a,b):\n",
    "    if a<b:\n",
    "        if a%2==1:\n",
    "            print(a,end=' ')\n",
    "            return pr_atob(a+2,b)\n",
    "        else:\n",
    "            print(a+1,end=' ')\n",
    "            return pr_atob(a+2,b)\n",
    "    elif a==b:\n",
    "        if a%2==1:\n",
    "            return print(a)\n",
    "        else:\n",
    "            return\n",
    "    else:\n",
    "        return\n",
    "        \n",
    "m,n=map(int,input().split())\n",
    "pr_atob(m,n)"
   ]
  }
 ],
 "metadata": {
  "kernelspec": {
   "display_name": "Python 3",
   "language": "python",
   "name": "python3"
  },
  "language_info": {
   "codemirror_mode": {
    "name": "ipython",
    "version": 3
   },
   "file_extension": ".py",
   "mimetype": "text/x-python",
   "name": "python",
   "nbconvert_exporter": "python",
   "pygments_lexer": "ipython3",
   "version": "3.8.5"
  }
 },
 "nbformat": 4,
 "nbformat_minor": 4
}
