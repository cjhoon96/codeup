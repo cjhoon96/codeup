{
 "cells": [
  {
   "cell_type": "code",
   "execution_count": null,
   "metadata": {},
   "outputs": [],
   "source": [
    "import sys\n",
    "input=sys.stdin.readline\n",
    "sys.setrecursionlimit(10**6)\n",
    "\n",
    "m,n,k = map(int,input().split())\n",
    "\n",
    "square = []\n",
    "for _ in range(k):\n",
    "    a,b,c,d = map(int,input().split())\n",
    "    square.append([a,b,c-1,d-1])\n",
    "\n",
    "graph = [[1 for _ in range(n)] for _ in range(m)]\n",
    "\n",
    "def sq_block(sq):\n",
    "    for y in range(sq[1],sq[3]+1):\n",
    "        for x in range(sq[0],sq[2]+1):\n",
    "            if graph[y][x]:\n",
    "                graph[y][x] = 0\n",
    "\n",
    "dx = (0,0,1,-1)\n",
    "dy = (1,-1,0,0)\n",
    "\n",
    "for sq in square:\n",
    "    sq_block(sq)\n",
    "\n",
    "def dfs_square(x,y):\n",
    "    global cnt\n",
    "    if 0<=x<n and 0<=y<m and graph[y][x]:\n",
    "        cnt += 1\n",
    "        graph[y][x] = 0\n",
    "        dfs_square(x,y)\n",
    "        dfs_square(x+1,y)\n",
    "        dfs_square(x-1,y)\n",
    "        dfs_square(x,y+1)\n",
    "        dfs_square(x,y-1)\n",
    "        return True\n",
    "\n",
    "ans = 0\n",
    "print_list = []\n",
    "for y in range(m):\n",
    "    for x in range(n):\n",
    "        cnt = 0\n",
    "        if dfs_square(x,y):\n",
    "            ans += 1\n",
    "            print_list.append(cnt)\n",
    "\n",
    "print_list.sort()\n",
    "\n",
    "print(ans)\n",
    "\n",
    "for i in print_list:\n",
    "    print(i,end = ' ')"
   ]
  }
 ],
 "metadata": {
  "kernelspec": {
   "display_name": "Python 3",
   "language": "python",
   "name": "python3"
  },
  "language_info": {
   "codemirror_mode": {
    "name": "ipython",
    "version": 3
   },
   "file_extension": ".py",
   "mimetype": "text/x-python",
   "name": "python",
   "nbconvert_exporter": "python",
   "pygments_lexer": "ipython3",
   "version": "3.8.5"
  }
 },
 "nbformat": 4,
 "nbformat_minor": 4
}
