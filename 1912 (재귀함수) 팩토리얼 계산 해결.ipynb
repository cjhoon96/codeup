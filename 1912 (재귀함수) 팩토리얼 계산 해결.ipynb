{
 "cells": [
  {
   "cell_type": "markdown",
   "metadata": {},
   "source": [
    "## 문제 설명      \n",
    "팩토리얼(!)은 다음과 같이 정의된다.\n",
    "\n",
    "n!=n×(n−1)×(n−2)×⋯×2×1\n",
    "즉, 5!=5×4×3×2×1=120 이다.\n",
    "\n",
    "n이 입력되면 n!의 값을 출력하시오.\n",
    "\n",
    "이 문제는 반복문 for, while 등을 이용하여 풀수 없습니다.\n",
    "\n",
    "## 금지 키워드 : for while goto\n",
    "## 입력\n",
    "자연수 n이 입력된다. (n<=12)\n",
    "## 출력\n",
    "n!의 값을 출력한다.\n",
    "\n",
    "## 입력 예시   \n",
    "5\n",
    "\n",
    "## 출력 예시\n",
    "120"
   ]
  },
  {
   "cell_type": "code",
   "execution_count": 1,
   "metadata": {},
   "outputs": [
    {
     "name": "stdout",
     "output_type": "stream",
     "text": [
      "3\n",
      "6\n"
     ]
    }
   ],
   "source": [
    "def fac(n):\n",
    "    if n==1:\n",
    "        return 1\n",
    "    else:\n",
    "        return n*fac(n-1)\n",
    "print(fac(int(input())))"
   ]
  }
 ],
 "metadata": {
  "kernelspec": {
   "display_name": "Python 3",
   "language": "python",
   "name": "python3"
  },
  "language_info": {
   "codemirror_mode": {
    "name": "ipython",
    "version": 3
   },
   "file_extension": ".py",
   "mimetype": "text/x-python",
   "name": "python",
   "nbconvert_exporter": "python",
   "pygments_lexer": "ipython3",
   "version": "3.8.5"
  }
 },
 "nbformat": 4,
 "nbformat_minor": 4
}
