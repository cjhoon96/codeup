{
 "cells": [
  {
   "cell_type": "markdown",
   "metadata": {},
   "source": [
    "## 문제 설명    \n",
    "어떤 가게의 욕심쟁이 점원은 거스름돈을 나눠줄때 거스름돈의 개수를 적게해서 주고자 한다.\n",
    "\n",
    "거스름돈을 입력 받아 점원이 줄 수 있는 최소 거스름돈의 개수를 출력하시오.\n",
    "\n",
    "예를 들어 54520원인 경우,\n",
    "\n",
    "거스름돈으로 50000원권 1장, 1000원권 4장, 500원 1개, 10원 2개 해서 총 8개이다.\n",
    "\n",
    "(※ 현재 우리나라가 사용하고 있는 화폐를 사용한다. 10원 50원 100원 500원 1,000원 5,000원 10,000원 50,000원)\n",
    "\n",
    "## 입력\n",
    "거스름돈 n이 입력된다. ( n은10이상의  int 범위 )\n",
    "\n",
    "## 출력\n",
    "최소 거스름돈의 개수를 출력한다.\n",
    "\n",
    "## 입력 예시   \n",
    "54520\n",
    "\n",
    "## 출력 예시\n",
    "8"
   ]
  },
  {
   "cell_type": "code",
   "execution_count": 3,
   "metadata": {},
   "outputs": [
    {
     "name": "stdout",
     "output_type": "stream",
     "text": [
      "50000\n",
      "1\n"
     ]
    }
   ],
   "source": [
    "n=int(input())\n",
    "ans=0\n",
    "while n!=0:\n",
    "    if n//50000!=0:\n",
    "        ans+=n//50000\n",
    "        n-=n//50000*50000\n",
    "    elif n//10000!=0:\n",
    "        ans+=n//10000\n",
    "        n-=n//10000*10000\n",
    "    elif n//5000!=0:\n",
    "        ans+=n//5000\n",
    "        n-=n//5000*5000\n",
    "    elif n//1000!=0:\n",
    "        ans+=n//1000\n",
    "        n-=n//1000*1000\n",
    "    elif n//500!=0:\n",
    "        ans+=n//500\n",
    "        n-=n//500*500\n",
    "    elif n//100!=0:\n",
    "        ans+=n//100\n",
    "        n-=n//100*100\n",
    "    elif n//50!=0:\n",
    "        ans+=n//50\n",
    "        n-=n//50*50\n",
    "    elif n//10!=0:\n",
    "        ans+=n//10\n",
    "        n-=n//10*10\n",
    "print(ans)"
   ]
  },
  {
   "cell_type": "code",
   "execution_count": 5,
   "metadata": {},
   "outputs": [
    {
     "name": "stdout",
     "output_type": "stream",
     "text": [
      "50000\n",
      "1\n"
     ]
    }
   ],
   "source": [
    "n=int(input())\n",
    "ans=0\n",
    "money=[50000,10000,5000,1000,500,100,50,10]\n",
    "for i in money:\n",
    "    if n//i!=0:\n",
    "        ans+=n//i\n",
    "        n-=n//i*i\n",
    "    if n==0:\n",
    "        print(ans)\n",
    "        break\n",
    "else: \n",
    "    print(ans)"
   ]
  }
 ],
 "metadata": {
  "kernelspec": {
   "display_name": "Python 3",
   "language": "python",
   "name": "python3"
  },
  "language_info": {
   "codemirror_mode": {
    "name": "ipython",
    "version": 3
   },
   "file_extension": ".py",
   "mimetype": "text/x-python",
   "name": "python",
   "nbconvert_exporter": "python",
   "pygments_lexer": "ipython3",
   "version": "3.8.5"
  }
 },
 "nbformat": 4,
 "nbformat_minor": 4
}
