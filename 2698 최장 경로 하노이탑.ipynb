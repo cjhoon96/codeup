{
 "cells": [
  {
   "cell_type": "markdown",
   "metadata": {},
   "source": [
    "## 문제 분류 : 보기\n",
    "## 문제 설명    \n",
    "하노이 탑 게임에 대한 규칙은 잘 알고 있을 것이다. \n",
    "\n",
    "\n",
    "\n",
    "위 그림은 3개의 원판을 가지는 하노이 탑을 나타낸다. 이 게임의 목적은 A탑에 있는 1~3번까지의 원반을 C탑으로 모두 옮기는 것이다.\n",
    "단, 다음 규칙을 지키면서 옮겨야 한다. 그리고 하노이2에서는 새로운 규칙 4)가 추가되었다.\n",
    "\n",
    "1) 한 번에 하나의 원판만 옮길 수 있다.\n",
    "2) 반드시 큰 원판 위에 작은 원판이 올라가야 한다.\n",
    "3) 각 탑의 맨 위에 있는 원판만 옮길 수 있다.\n",
    "4) 반드시 인접한 기둥으로만 원판을 옮길 수 있다.\n",
    "\n",
    "만약 원판이 1개 라면, \n",
    "\n",
    "- 1번 원판을 A에서 B로 옮긴다.\n",
    "- 1번 원판을 B에서 C로 옮긴다.\n",
    "\n",
    "\n",
    "따라서 총 2번을 옮기면 모두 옮길 수 있다.\n",
    "\n",
    "여러분은 n개의 원판이 주어질 때 이 원판을 옮기는 횟수 및 과정을 출력하는 프로그램을 작성하시오.\n",
    "\n",
    "## 입력\n",
    "첫 줄에 한 정수 n이 입력된다. \n",
    "(단, 1 <= n <= 12 )\n",
    "\n",
    "## 출력\n",
    "첫 번째 줄부터 한 줄에 하나씩 이동 경로를 \"n : X->Y\"행태로 출력한다. \n",
    "마지막 줄에 총 옮긴 횟수를 출력한다.\n",
    "\n",
    "경로의 의미는 n번원판을 X기둥에서 Y기둥으로 옮긴다는 의미이다."
   ]
  },
  {
   "cell_type": "code",
   "execution_count": null,
   "metadata": {},
   "outputs": [],
   "source": [
    "\n"
   ]
  }
 ],
 "metadata": {
  "kernelspec": {
   "display_name": "Python 3",
   "language": "python",
   "name": "python3"
  },
  "language_info": {
   "codemirror_mode": {
    "name": "ipython",
    "version": 3
   },
   "file_extension": ".py",
   "mimetype": "text/x-python",
   "name": "python",
   "nbconvert_exporter": "python",
   "pygments_lexer": "ipython3",
   "version": "3.8.5"
  }
 },
 "nbformat": 4,
 "nbformat_minor": 4
}
