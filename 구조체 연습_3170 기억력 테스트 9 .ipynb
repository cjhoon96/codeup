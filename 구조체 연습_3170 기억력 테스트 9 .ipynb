{
 "cells": [
  {
   "cell_type": "markdown",
   "metadata": {},
   "source": [
    "문제 설명    \n",
    "진짜 오랜만에 주현이 엄마는 기억력 테스트를 하기로 했다.\n",
    "\n",
    "주현이가 많이 컸기 때문에 이제 숫자만 가지고 테스트하기엔 부족하다.\n",
    "\n",
    "이번에도 N개의 숫자를 불러주고, M개의 질문을 한다.\n",
    "\n",
    "처음에 [단어]와 [숫자]를 불러주고, 질문으로 [단어]를 물어보면 해당 단어의 [숫자]를 말하는 것이다.\n",
    "\n",
    "그런데 불러 줄 때 같은 [단어]가 나오는 경우 [이전 단어]의 [숫자]에 [현재 숫자]를 더해야 한다.\n",
    "\n",
    "예를 들어 \"ddobot 3\" , \"poketmon 5\", \"ddobot 7\"을 불러 주고, 질문으로 \"ddobot\"을 물었을 경우 3+7인 10을 답해야 한다.\n",
    "\n",
    "이번에는 포켓몬 썬&문  카드 풀 팩이 걸려 있다. 주현이가 잘 할 수 있도록 도와주자.\n",
    "\n",
    "입력\n",
    "첫째 줄에 N과 M이 입력된다.(1<=N,M<=100,000)\n",
    "\n",
    "둘째 줄부터 N줄 동안 문자열 S와 정수 k가 입력된다. \n",
    "\n",
    "그 다음 M줄 동안 질문 Q가 문자열로 입력된다. 만약 부르지 않았던 단어를 질문하는 경우 0을 출력한다.\n",
    "\n",
    "(S, Q는 100글자 이하 영어 소문자 알파벳으로만 구성, k는 10이하의 자연수)\n",
    "\n",
    "출력\n",
    "질문에 맞는 [누적 숫자]를 한줄에 하나씩 출력한다.\n",
    "\n",
    "입력 예시     \n",
    "3 4  \n",
    "ddobot 3  \n",
    "poketmon 5  \n",
    "ddobot 7  \n",
    "ddobot  \n",
    "poketmon  \n",
    "ddobot  \n",
    "hellocarbot  \n",
    "\n",
    "출력 예시  \n",
    "10  \n",
    "5  \n",
    "10  \n",
    "0  "
   ]
  },
  {
   "cell_type": "code",
   "execution_count": 10,
   "metadata": {},
   "outputs": [
    {
     "name": "stdout",
     "output_type": "stream",
     "text": [
      "3 4\n",
      "ddobot 3\n",
      "poketmon 5\n",
      "poketmon 5\n",
      "ddobot 7\n"
     ]
    },
    {
     "ename": "TypeError",
     "evalue": "'dict' object is not callable",
     "output_type": "error",
     "traceback": [
      "\u001b[1;31m---------------------------------------------------------------------------\u001b[0m",
      "\u001b[1;31mTypeError\u001b[0m                                 Traceback (most recent call last)",
      "\u001b[1;32m<ipython-input-10-08421e3b1c36>\u001b[0m in \u001b[0;36m<module>\u001b[1;34m\u001b[0m\n\u001b[0;32m      8\u001b[0m         \u001b[0mvoca_dic\u001b[0m\u001b[1;33m[\u001b[0m\u001b[0mvoca\u001b[0m\u001b[1;33m]\u001b[0m\u001b[1;33m=\u001b[0m\u001b[0mint\u001b[0m\u001b[1;33m(\u001b[0m\u001b[0mnum\u001b[0m\u001b[1;33m)\u001b[0m\u001b[1;33m\u001b[0m\u001b[1;33m\u001b[0m\u001b[0m\n\u001b[0;32m      9\u001b[0m \u001b[1;32mfor\u001b[0m \u001b[0mj\u001b[0m \u001b[1;32min\u001b[0m \u001b[0mrange\u001b[0m\u001b[1;33m(\u001b[0m\u001b[0mM\u001b[0m\u001b[1;33m)\u001b[0m\u001b[1;33m:\u001b[0m\u001b[1;33m\u001b[0m\u001b[1;33m\u001b[0m\u001b[0m\n\u001b[1;32m---> 10\u001b[1;33m     \u001b[0mprint\u001b[0m\u001b[1;33m(\u001b[0m\u001b[0mvoca_dic\u001b[0m\u001b[1;33m(\u001b[0m\u001b[0minput\u001b[0m\u001b[1;33m(\u001b[0m\u001b[1;33m)\u001b[0m\u001b[1;33m)\u001b[0m\u001b[1;33m)\u001b[0m\u001b[1;33m\u001b[0m\u001b[1;33m\u001b[0m\u001b[0m\n\u001b[0m",
      "\u001b[1;31mTypeError\u001b[0m: 'dict' object is not callable"
     ]
    }
   ],
   "source": [
    "[N,M]=list(map(int, input().split()))\n",
    "voca_dic={}\n",
    "for i in range(N):\n",
    "    voca, num=input().split()\n",
    "    if voca in voca_dic:\n",
    "        voca_dic[voca]+=int(num)\n",
    "    else:\n",
    "        voca_dic[voca]=int(num)\n",
    "for j in range(M):\n",
    "    print(voca_dic(input()))"
   ]
  },
  {
   "cell_type": "code",
   "execution_count": 11,
   "metadata": {},
   "outputs": [
    {
     "name": "stdout",
     "output_type": "stream",
     "text": [
      "{1: 3, 2: 6, 3: 4}\n"
     ]
    }
   ],
   "source": [
    "a={1:2, 2:3, 3:4}\n",
    "a[1]=3\n",
    "a[2]+=3\n",
    "print(a)"
   ]
  },
  {
   "cell_type": "code",
   "execution_count": null,
   "metadata": {},
   "outputs": [],
   "source": [
    "[N,M]=list(map(int, input().split()))\n",
    "voca_dic={}\n",
    "for i in range(N):\n",
    "    voca, num=input().split()\n",
    "    if voca in voca_dic:\n",
    "        voca_dic[voca]+=int(num)\n",
    "    else:\n",
    "        voca_dic[voca]=int(num)\n",
    "\n",
    "for j in range(M):\n",
    "    v=input()\n",
    "    if v in voca_dic:\n",
    "        print(voca_dic[v])\n",
    "    else:\n",
    "        print(0)"
   ]
  }
 ],
 "metadata": {
  "kernelspec": {
   "display_name": "Python 3",
   "language": "python",
   "name": "python3"
  },
  "language_info": {
   "codemirror_mode": {
    "name": "ipython",
    "version": 3
   },
   "file_extension": ".py",
   "mimetype": "text/x-python",
   "name": "python",
   "nbconvert_exporter": "python",
   "pygments_lexer": "ipython3",
   "version": "3.8.5"
  }
 },
 "nbformat": 4,
 "nbformat_minor": 4
}
