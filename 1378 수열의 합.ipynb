{
 "cells": [
  {
   "cell_type": "markdown",
   "metadata": {},
   "source": [
    "문제 설명    \n",
    "동렬이는 수학 문제를 풀다 다음과 같은 수열을 보았다.\n",
    "\n",
    "Sn=(1)+(1+2)+(1+2+3)+(1+2+3+4)+...+(1+...+n)\n",
    "임의의 정수 n이 주어질 때 이 수열의 합 Sn을 구하는 프로그램을 작성하시오.\n",
    "\n",
    "입력\n",
    "n이 입력된다. (n<=50)\n",
    "\n",
    "출력\n",
    "수열의 합 Sn의 값을 출력한다.\n",
    "\n",
    "입력 예시   \n",
    "5\n",
    "\n",
    "출력 예시\n",
    "35"
   ]
  },
  {
   "cell_type": "code",
   "execution_count": 2,
   "metadata": {},
   "outputs": [
    {
     "name": "stdout",
     "output_type": "stream",
     "text": [
      "5\n",
      "35\n"
     ]
    }
   ],
   "source": [
    "dic={1:1,2:4}\n",
    "def sup_sum(n):\n",
    "    if n in dic:\n",
    "        return dic[n]\n",
    "    else:\n",
    "        dic[n]=sup_sum(n-1)+n*(n+1)//2\n",
    "        return dic[n]\n",
    "N=int(input())\n",
    "print(sup_sum(N))"
   ]
  }
 ],
 "metadata": {
  "kernelspec": {
   "display_name": "Python 3",
   "language": "python",
   "name": "python3"
  },
  "language_info": {
   "codemirror_mode": {
    "name": "ipython",
    "version": 3
   },
   "file_extension": ".py",
   "mimetype": "text/x-python",
   "name": "python",
   "nbconvert_exporter": "python",
   "pygments_lexer": "ipython3",
   "version": "3.8.5"
  }
 },
 "nbformat": 4,
 "nbformat_minor": 4
}
