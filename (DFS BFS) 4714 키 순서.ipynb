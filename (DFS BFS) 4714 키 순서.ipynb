{
 "cells": [
  {
   "cell_type": "code",
   "execution_count": null,
   "metadata": {},
   "outputs": [],
   "source": [
    "import sys\n",
    "input=sys.stdin.readline\n",
    "from collections import deque\n",
    "\n",
    "n,m = map(int,input().split())\n",
    "\n",
    "taller = {}\n",
    "shorter = {}\n",
    "for _ in range(m):\n",
    "    a,b = map(int,input().split())\n",
    "    if a in taller:\n",
    "        taller[a].append(b)\n",
    "    else:\n",
    "        taller[a] = [b]\n",
    "    if b in shorter:\n",
    "        shorter[b].append(a)\n",
    "    else:\n",
    "        shorter[b] = [a]\n",
    "\n",
    "\n",
    "def srch_up(x):\n",
    "    queue = deque(taller[x])\n",
    "    for i in taller[x]:\n",
    "        vs_ch[i] = 0\n",
    "    while queue:\n",
    "        chck = queue.popleft()\n",
    "        if chck in taller:\n",
    "            for j in taller[chck]:\n",
    "                if vs_ch[j]:\n",
    "                    vs_ch[j] = 0\n",
    "                    queue.append(j)\n",
    "\n",
    "def srch_down(x):\n",
    "    queue = deque(shorter[x])\n",
    "    for i in shorter[x]:\n",
    "        vs_ch[i] = 0\n",
    "    while queue:\n",
    "        chck = queue.popleft()\n",
    "        if chck in shorter:\n",
    "            for j in shorter[chck]:\n",
    "                if vs_ch[j]:\n",
    "                    vs_ch[j] = 0\n",
    "                    queue.append(j)\n",
    "\n",
    "cnt = 0\n",
    "for x in range(1,n+1):\n",
    "    vs_ch = [0]+[1 for _ in range(n)]\n",
    "    vs_ch[x] = 0\n",
    "    if x in taller:\n",
    "        srch_up(x)\n",
    "    if x in shorter:\n",
    "        srch_down(x)\n",
    "    if 1 not in vs_ch:\n",
    "        cnt += 1 \n",
    "\n",
    "print(cnt)"
   ]
  }
 ],
 "metadata": {
  "kernelspec": {
   "display_name": "Python 3",
   "language": "python",
   "name": "python3"
  },
  "language_info": {
   "codemirror_mode": {
    "name": "ipython",
    "version": 3
   },
   "file_extension": ".py",
   "mimetype": "text/x-python",
   "name": "python",
   "nbconvert_exporter": "python",
   "pygments_lexer": "ipython3",
   "version": "3.8.5"
  }
 },
 "nbformat": 4,
 "nbformat_minor": 4
}
