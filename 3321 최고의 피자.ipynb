{
 "cells": [
  {
   "cell_type": "markdown",
   "metadata": {},
   "source": [
    "## 문제 분류 : 보기\n",
    "## 문제 설명    \n",
    "vega 선생님은 Miss 피자 가게의 단골 손님이다.\n",
    "\n",
    "그는 이번 달부터 절약 생활을 시작했다.\n",
    "\n",
    "그래서 그는 피자 가게에서 주문할 수 있는 피자 중 1 달러 당 열량이 최대가 되는 피자를 주문하고 싶어한다.\n",
    "\n",
    "이러한 피자를 \"최고의 피자\"라고 부르기로 하자.\n",
    "\n",
    "\"최고의 피자\"는 1종류가 아니다.\n",
    "\n",
    "Miss 피자는 N 종류의 토핑에서 여러 종류를 자유롭게 선택하여, 도우 위에 올려 주문할 수있다.\n",
    "\n",
    "같은 토핑을 2 개 이상 올릴 수 없다.\n",
    "\n",
    "도우에 토핑을 하나도 하지 않은  피자도 주문할 수있다.\n",
    "\n",
    "도우의 가격은 A 달러이며, 토핑의 가격은 모두 B 달러이다.\n",
    "\n",
    "실제 피자 가격은 도우의 가격과 토핑 가격의 합계이다.\n",
    "\n",
    "즉, 토핑을 k 종류 (0 ≦ k ≦ N) 한 피자의 가격은 A + k × B 원이다.\n",
    "\n",
    "피자 전체의 칼로리는 도우 열량과 토핑 칼로리의 합계이다.\n",
    "\n",
    "도우의 가격과 토핑의 가격, 그리고 도우와 각 토핑 열량 값이 주어 졌을 때, \"최고의 피자\"의 1 달러 당 열량의 수를 구하는 프로그램을 작성하시오.\n",
    "\n",
    "## 입력\n",
    "첫 번째 줄에는 토핑 종류 수를 나타내는 하나의 정수 N (1 ≦ N ≦ 100)이 입력된다.\n",
    "\n",
    "두 번째 줄에는 두 개의 정수 A, B (1 ≦ A ≦ 1000,1 ≦ B ≦ 1000)가 공백을 구분으로 입력된다. A는 도우의 가격, B는 토핑의 가격을 나타낸다.\n",
    "\n",
    "세 번째 줄에는 도우의 칼로리를 나타내는 정수 C (1 ≦ C ≦ 10000)가 입력된다.\n",
    "\n",
    "3 + i 행 (1 ≦ i ≦ N)는 i 번째의 토핑 칼로리 수를 나타내는 정수 Di (1 ≦ Di ≦ 10,000)가 입력된다.\n",
    "\n",
    "## 출력\n",
    "\"최고의 피자\" 1 달러 당 열량의 수를 소수점 이하는 버리고 정수로 출력한다.\n",
    "\n",
    "## 입력 예시   \n",
    "3\n",
    "\n",
    "12 2  \n",
    "200  \n",
    "50  \n",
    "300  \n",
    "100  \n",
    "\n",
    "## 출력 예시\n",
    "37"
   ]
  },
  {
   "cell_type": "code",
   "execution_count": 19,
   "metadata": {},
   "outputs": [
    {
     "name": "stdout",
     "output_type": "stream",
     "text": [
      "3\n",
      "12 2\n",
      "200\n",
      "50\n",
      "300\n",
      "100\n",
      "[200, 500] 14\n",
      "[200, 500, 600] 16\n",
      "37\n"
     ]
    }
   ],
   "source": [
    "N=int(input())\n",
    "A,B=map(int,input().split())\n",
    "dough=int(input())\n",
    "topping_list=[]\n",
    "for _ in range(N):\n",
    "    topping_list.append(int(input()))\n",
    "topping_list.sort(reverse=True)\n",
    "best_pizza=[]\n",
    "best_pizza.append(int(dough))\n",
    "price=A\n",
    "for i in range(1,N+1):\n",
    "    new_comb=best_pizza[i-1]+topping_list[i-1]\n",
    "    if best_pizza[i-1]/price<new_comb/(price+B):\n",
    "        price+=B\n",
    "        best_pizza.append(new_comb)\n",
    "    else:\n",
    "        break\n",
    "print(int(best_pizza[-1]/(price)))"
   ]
  }
 ],
 "metadata": {
  "kernelspec": {
   "display_name": "Python 3",
   "language": "python",
   "name": "python3"
  },
  "language_info": {
   "codemirror_mode": {
    "name": "ipython",
    "version": 3
   },
   "file_extension": ".py",
   "mimetype": "text/x-python",
   "name": "python",
   "nbconvert_exporter": "python",
   "pygments_lexer": "ipython3",
   "version": "3.8.5"
  }
 },
 "nbformat": 4,
 "nbformat_minor": 4
}
