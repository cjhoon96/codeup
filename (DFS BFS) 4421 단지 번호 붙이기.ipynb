{
 "cells": [
  {
   "cell_type": "code",
   "execution_count": null,
   "metadata": {},
   "outputs": [],
   "source": [
    "import sys\n",
    "input=sys.stdin.readline\n",
    "\n",
    "n = int(input())\n",
    "\n",
    "apt_comp = []\n",
    "\n",
    "for _ in range(n):\n",
    "    apt_comp.append(input())\n",
    "\n",
    "def cnt_ho(x,y):\n",
    "    global cnt\n",
    "    if 0<=x<n and 0<=y<n and apt_comp[y][x] == '1':\n",
    "        apt_comp[y] = apt_comp[y][:x] + '0' + apt_comp[y][x+1:]\n",
    "        cnt += 1\n",
    "        cnt_ho(x+1,y)\n",
    "        cnt_ho(x-1,y)\n",
    "        cnt_ho(x,y+1)\n",
    "        cnt_ho(x,y-1)\n",
    "        return True\n",
    "    return False\n",
    "\n",
    "ho_cnt = []\n",
    "dong_cnt = 0\n",
    "\n",
    "for y in range(n):\n",
    "    for x in range(n):\n",
    "        cnt = 0\n",
    "        if cnt_ho(x,y):\n",
    "            dong_cnt += 1\n",
    "            ho_cnt.append(cnt)\n",
    "\n",
    "print(dong_cnt)\n",
    "\n",
    "if dong_cnt != 0:\n",
    "    ho_cnt.sort()\n",
    "    for i in ho_cnt:\n",
    "        print(i)"
   ]
  },
  {
   "cell_type": "code",
   "execution_count": null,
   "metadata": {},
   "outputs": [],
   "source": [
    "import sys\n",
    "input=sys.stdin.readline\n",
    "\n",
    "n = int(input())\n",
    "\n",
    "apt_comp = []\n",
    "\n",
    "for _ in range(n):\n",
    "    apt_comp.append(list(input()))\n",
    "\n",
    "def cnt_ho(x,y):\n",
    "    global cnt\n",
    "    if 0<=x<n and 0<=y<n and apt_comp[y][x] == '1':\n",
    "        apt_comp[y][x] = '0'\n",
    "        cnt += 1\n",
    "        cnt_ho(x+1,y)\n",
    "        cnt_ho(x-1,y)\n",
    "        cnt_ho(x,y+1)\n",
    "        cnt_ho(x,y-1)\n",
    "        return True\n",
    "    return False\n",
    "\n",
    "ho_cnt = []\n",
    "dong_cnt = 0\n",
    "\n",
    "for y in range(n):\n",
    "    for x in range(n):\n",
    "        cnt = 0\n",
    "        if cnt_ho(x,y):\n",
    "            dong_cnt += 1\n",
    "            ho_cnt.append(cnt)\n",
    "\n",
    "print(dong_cnt)\n",
    "\n",
    "ho_cnt.sort()\n",
    "for i in ho_cnt:\n",
    "    print(i)"
   ]
  },
  {
   "cell_type": "code",
   "execution_count": 2,
   "metadata": {},
   "outputs": [
    {
     "name": "stdin",
     "output_type": "stream",
     "text": [
      " 아야아여오요우유\n"
     ]
    },
    {
     "name": "stdout",
     "output_type": "stream",
     "text": [
      "['아', '야', '아', '여', '오', '요', '우', '유']\n"
     ]
    }
   ],
   "source": [
    "a = list(input())\n",
    "print(a)"
   ]
  }
 ],
 "metadata": {
  "kernelspec": {
   "display_name": "Python 3",
   "language": "python",
   "name": "python3"
  },
  "language_info": {
   "codemirror_mode": {
    "name": "ipython",
    "version": 3
   },
   "file_extension": ".py",
   "mimetype": "text/x-python",
   "name": "python",
   "nbconvert_exporter": "python",
   "pygments_lexer": "ipython3",
   "version": "3.8.5"
  }
 },
 "nbformat": 4,
 "nbformat_minor": 4
}
