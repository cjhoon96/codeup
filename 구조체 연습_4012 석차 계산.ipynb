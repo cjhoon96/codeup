{
 "cells": [
  {
   "cell_type": "markdown",
   "metadata": {},
   "source": [
    "[문제 2]\n",
    "\n",
    "정렬되지 않은 학생들의 임의의 점수를 입력하여 석차를 계산하는 프로그램을 작성하시오. 점수는 동점이 있을 수 있으며, 이러한 경우 같은 석차로 처리한다. 예를 들어 5명의 점수 100, 90, 76, 60, 90이 입력되었다면 석차는 2등이 2명이고 3등은 없다. (단, 점수가 가장 높은 학생을 1등으로 한다.)\n",
    "\n",
    "입력\n",
    "1) 첫 번째 줄은 처리할 점수의 개수 n ( n <= 200 ) ※ 조건수정:2012.10.6\n",
    "\n",
    "2) 두 번째 줄은 처리할 점수 데이터 (0~100점)\n",
    "\n",
    "(단, 각각의 점수는 빈칸으로 구별한다.)\n",
    "\n",
    "출력\n",
    "석차를 계산한 후 점수와 석차를  출력한다.\n",
    "\n",
    "입력 예시   \n",
    "10  \n",
    "60 34 55 100 90 76 60 90 80 87\n",
    "\n",
    "출력 예시  \n",
    "60 7  \n",
    "34 10  \n",
    "55 9  \n",
    "100 1  \n",
    "90 2  \n",
    "76 6  \n",
    "60 7  \n",
    "90 2  \n",
    "80 5  \n",
    "87 4  "
   ]
  },
  {
   "cell_type": "code",
   "execution_count": 4,
   "metadata": {},
   "outputs": [
    {
     "name": "stdout",
     "output_type": "stream",
     "text": [
      "10\n",
      "60 34 55 100 90 76 60 90 80 87\n",
      "60 7\n",
      "34 10\n",
      "55 9\n",
      "100 1\n",
      "90 2\n",
      "76 6\n",
      "60 7\n",
      "90 2\n",
      "80 5\n",
      "87 4\n"
     ]
    }
   ],
   "source": [
    "n=int(input())\n",
    "score_data=list(map(int, input().split()))\n",
    "sorted_score= sorted(score_data, reverse=True)\n",
    "\n",
    "score_dic={sorted_score[0]:1}\n",
    "i=1\n",
    "while i!=n:\n",
    "    if sorted_score[i]==sorted_score[i-1]:\n",
    "        score_dic[sorted_score[i]]=score_dic[sorted_score[i-1]]\n",
    "    else:\n",
    "        score_dic[sorted_score[i]]=i+1\n",
    "    i+=1\n",
    "for j in score_data:\n",
    "    print(j, score_dic[j])"
   ]
  },
  {
   "cell_type": "code",
   "execution_count": null,
   "metadata": {},
   "outputs": [],
   "source": []
  }
 ],
 "metadata": {
  "kernelspec": {
   "display_name": "Python 3",
   "language": "python",
   "name": "python3"
  },
  "language_info": {
   "codemirror_mode": {
    "name": "ipython",
    "version": 3
   },
   "file_extension": ".py",
   "mimetype": "text/x-python",
   "name": "python",
   "nbconvert_exporter": "python",
   "pygments_lexer": "ipython3",
   "version": "3.8.5"
  }
 },
 "nbformat": 4,
 "nbformat_minor": 4
}
