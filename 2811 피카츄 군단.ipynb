{
 "cells": [
  {
   "cell_type": "markdown",
   "metadata": {},
   "source": [
    "문제 설명    \n",
    "야생 피카츄들은 무리를 지어 평화롭게 숲속에서 살아가고 있었다.\n",
    "\n",
    "근데 악명 높은 로켓단이 피카츄들을 모두 잡아가려고 한다.\n",
    "\n",
    "포켓몬 트레이너 수빈이는 이 소식을 듣고 피카츄를 도와 피카츄 군단을 만들어 로켓단에 맞서려고 한다.\n",
    "\n",
    " \n",
    "\n",
    "우선 수빈이는 피카츄들을 일렬로 나열시키고 피카츄의 수를 세었는데 총 n마리가 있었다. i번째 피카츄가 가지고 있는 힘은 ai이고 모든 피카츄들의 힘은 서로 다 다르다.\n",
    "\n",
    " \n",
    "\n",
    "수빈이는 일렬로 나열된 피카츄들 중에서 부분열을 골라 피카츄 군단을 만들 수 있다.\n",
    "\n",
    "즉, 수빈이는 1 ≤ b1 < b2 < … < bk ≤ n인 k개의 인덱스로 이루어진 배열 b를 만들고 이때 피카츄 군단의 피카츄들은 각각 ab1, ab2, … , abk 의 힘을 가진다.\n",
    "\n",
    " \n",
    "\n",
    "피카츄 군단의 힘은 피카츄 군단의 피카츄들의 힘으로 이루어진 수열의 교대합과 같다.\n",
    "\n",
    "이는 ab1 - ab2 + ab3 - ab4 + … + (-1)k+1abk 와 같다.\n",
    "\n",
    " \n",
    "\n",
    "초기의 피카츄들의 위치에 따라 피카츄 군단의 힘의 최댓값은 달라지지만 수빈이는 다시 줄을 세우기는 귀찮아서 현재 일렬로 줄을 선 상태에 대해서만 생각하기로 하였다.\n",
    "\n",
    " \n",
    "\n",
    "수빈이는 주어진 상태에 대한 피카츄 군단의 힘의 최댓값을 알고 싶어한다.\n",
    "\n",
    "수빈이를 도와 최강의 피카츄 군단을 만들어 보자.\n",
    "\n",
    " \n",
    "\n",
    "입력\n",
    "첫째 줄에 피카츄의 수 n ( 1 ≤ n ≤ 300,000 )이 주어진다.\n",
    "\n",
    "둘째 줄에 일렬로 세워진 n마리의 피카츄들의 힘을 나타내는 수열인 a1, a2, … , an ( 1 ≤ ai ≤ n )이 주어진다.\n",
    "\n",
    "출력\n",
    "피카츄 군단의 힘의 최댓값을 출력한다.\n",
    "\n",
    "입력 예시   \n",
    "7\n",
    "1 2 5 4 3 6 7\n",
    "\n",
    "출력 예시\n",
    "9\n",
    "\n",
    "도움말\n",
    "[1 2 5 4 3 6 7]에서 5, 3, 7을 고를 경우 5-3+7=9로 최댓값이다."
   ]
  },
  {
   "cell_type": "code",
   "execution_count": null,
   "metadata": {},
   "outputs": [],
   "source": [
    "n=int(input())\n",
    "a=list(map(int,input().split()))\n",
    "\n",
    "plus_list=[]\n",
    "minus_list=[]\n",
    "while a[s]<=a[l]:\n",
    "    if a[s]==a[l]:\n",
    "        plus_list.append(a[l])\n",
    "    else:\n",
    "        plus_list.append(a[l])\n",
    "        minus_list.append(-a[s])\n",
    "    l-=1\n",
    "    s+=1\n",
    "    print(a[s],a[l])\n",
    "print(plus_list,minus_list)\n",
    "answer=sum(plus_list)+sum(minus_list)\n",
    "print(answer)"
   ]
  }
 ],
 "metadata": {
  "kernelspec": {
   "display_name": "Python 3",
   "language": "python",
   "name": "python3"
  },
  "language_info": {
   "codemirror_mode": {
    "name": "ipython",
    "version": 3
   },
   "file_extension": ".py",
   "mimetype": "text/x-python",
   "name": "python",
   "nbconvert_exporter": "python",
   "pygments_lexer": "ipython3",
   "version": "3.8.5"
  }
 },
 "nbformat": 4,
 "nbformat_minor": 4
}
