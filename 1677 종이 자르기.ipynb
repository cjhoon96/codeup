{
 "cells": [
  {
   "cell_type": "markdown",
   "metadata": {},
   "source": [
    "문제 설명    \n",
    "철수는 인쇄소에서 근무하고 있다. 인쇄소의 주된 업무는 종이에 문자와 그림을 인쇄하는 것이다. 종이의 종류는 다양하고, 고객마다 요구하는 종이의 크기도 다양하다.\n",
    "\n",
    " \n",
    "\n",
    "인쇄소에는 종이를 크기에 따라 자동으로 잘라주는 최신식 인쇄기가 있다. 그런데 어느 날 기계가 고장이 난 상태에서 인쇄를 요구하는 고객이 찾아왔고, 마침 그 고객이 요구하는 크기의 종이도 없어 큰 종이를 수동으로 잘라야 하는 상황이 되었다.\n",
    "\n",
    " \n",
    "\n",
    "철수는 종이를 고객이 요구하는 크기대로 잘라보려고 했으나, 절취선이 없어 쉽지 않았다.\n",
    "\n",
    " \n",
    "\n",
    "고객이 요구하는 가로, 세로 길이가 주어지면 아주 큰 종이에 다음과 같은 절취선을 그리는 프로그램을 작성하시오.\n",
    "\n",
    " \n",
    "\n",
    "예를 들어 12*4의 종이라면,\n",
    "\n",
    "+----------+\n",
    "\n",
    "|          |\n",
    "\n",
    "|          |\n",
    "\n",
    "+----------+\n",
    "\n",
    "를 출력한다.\n",
    "\n",
    "입력\n",
    "가로 길이 n과 세로 길이 m이 공백으로 분리되어 입력된다.(2 <= n, m <= 50)\n",
    "\n",
    " \n",
    "\n",
    "출력\n",
    "n*m 크기의 종이를 출력한다.\n",
    "\n",
    "가로는 '-', 세로는 '|'로 출력하며, 가로와 세로가 겹치는 부분은 '+'로 출력한다.\n",
    "\n",
    "입력 예시   \n",
    "4 3\n",
    "\n",
    "출력 예시\n",
    "+--+\n",
    "|  |\n",
    "+--+"
   ]
  },
  {
   "cell_type": "code",
   "execution_count": 1,
   "metadata": {},
   "outputs": [
    {
     "ename": "ValueError",
     "evalue": "not enough values to unpack (expected 2, got 0)",
     "output_type": "error",
     "traceback": [
      "\u001b[1;31m---------------------------------------------------------------------------\u001b[0m",
      "\u001b[1;31mValueError\u001b[0m                                Traceback (most recent call last)",
      "\u001b[1;32m<ipython-input-1-6965e09f4457>\u001b[0m in \u001b[0;36m<module>\u001b[1;34m\u001b[0m\n\u001b[0;32m      2\u001b[0m \u001b[0minput\u001b[0m\u001b[1;33m=\u001b[0m\u001b[0msys\u001b[0m\u001b[1;33m.\u001b[0m\u001b[0mstdin\u001b[0m\u001b[1;33m.\u001b[0m\u001b[0mreadline\u001b[0m\u001b[1;33m\u001b[0m\u001b[1;33m\u001b[0m\u001b[0m\n\u001b[0;32m      3\u001b[0m \u001b[1;33m\u001b[0m\u001b[0m\n\u001b[1;32m----> 4\u001b[1;33m \u001b[0mm\u001b[0m\u001b[1;33m,\u001b[0m \u001b[0mn\u001b[0m \u001b[1;33m=\u001b[0m \u001b[0mmap\u001b[0m\u001b[1;33m(\u001b[0m\u001b[0mint\u001b[0m\u001b[1;33m,\u001b[0m\u001b[0minput\u001b[0m\u001b[1;33m(\u001b[0m\u001b[1;33m)\u001b[0m\u001b[1;33m.\u001b[0m\u001b[0msplit\u001b[0m\u001b[1;33m(\u001b[0m\u001b[1;33m)\u001b[0m\u001b[1;33m)\u001b[0m\u001b[1;33m\u001b[0m\u001b[1;33m\u001b[0m\u001b[0m\n\u001b[0m\u001b[0;32m      5\u001b[0m \u001b[1;33m\u001b[0m\u001b[0m\n\u001b[0;32m      6\u001b[0m \u001b[1;32mfor\u001b[0m \u001b[0mr\u001b[0m \u001b[1;32min\u001b[0m \u001b[0mrange\u001b[0m\u001b[1;33m(\u001b[0m\u001b[0mn\u001b[0m\u001b[1;33m)\u001b[0m\u001b[1;33m:\u001b[0m\u001b[1;33m\u001b[0m\u001b[1;33m\u001b[0m\u001b[0m\n",
      "\u001b[1;31mValueError\u001b[0m: not enough values to unpack (expected 2, got 0)"
     ]
    }
   ],
   "source": [
    "import sys\n",
    "input=sys.stdin.readline\n",
    "\n",
    "m, n = map(int,input().split())\n",
    "\n",
    "for r in range(n):\n",
    "    for c in range(m):\n",
    "        if r==0 or r==n-1:\n",
    "            if c==0 or c==m-1:\n",
    "                print('+',end='')\n",
    "            else:\n",
    "                print('-',end='')\n",
    "        else:\n",
    "            if c==0 or c==m-1:\n",
    "                print('|',end='')\n",
    "            else:\n",
    "                print(' ',end='')\n",
    "    print()"
   ]
  }
 ],
 "metadata": {
  "kernelspec": {
   "display_name": "Python 3",
   "language": "python",
   "name": "python3"
  },
  "language_info": {
   "codemirror_mode": {
    "name": "ipython",
    "version": 3
   },
   "file_extension": ".py",
   "mimetype": "text/x-python",
   "name": "python",
   "nbconvert_exporter": "python",
   "pygments_lexer": "ipython3",
   "version": "3.8.5"
  }
 },
 "nbformat": 4,
 "nbformat_minor": 4
}
