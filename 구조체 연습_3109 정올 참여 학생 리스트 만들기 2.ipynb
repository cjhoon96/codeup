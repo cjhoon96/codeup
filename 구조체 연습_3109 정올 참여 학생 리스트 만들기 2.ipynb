{
 "cells": [
  {
   "cell_type": "markdown",
   "metadata": {},
   "source": [
    "문제 설명    \n",
    "세종이는 이번 주말에도 정보 과학실에서 정보 올림피아드 준비를 하려고 한다.\n",
    "\n",
    "JH 선생님은 정보 과학실 사용 조건으로 정보 올림피아드 참가 학생 명단을 작성하는 프로그램을 작성하라고 하셨다.\n",
    "\n",
    "짖굳은 JH 선생님은 난이도를 높여 입력 데이터를 만들 때 일부러 중간에 잘못된 값을 더 많이 끼워 넣었다.\n",
    "\n",
    "그리고 잘못된 데이터를 제거하는 방법을 설명해 주었다.\n",
    "\n",
    "다음 조건에 따라 프로그램을 만들고 올바른 명단만 출력해 보자.\n",
    "\n",
    "금지 키워드 : list  \n",
    "\n",
    "입력  \n",
    "첫째 줄에 입력 데이터의 개수 n이 입력된다. (10<=n<=20,000)\n",
    "\n",
    "둘째 줄부터 n+1번째 줄까지 처리 코드c(문자 1자리), 수험 번호 no(1<=no<=1,000,000,000), 이름(10바이트 이내)이 입력된다.\n",
    "\n",
    "처리 코드에 따라 입력 데이터를 메모리에 저장하거나 삭제해야 한다.  \n",
    "처리 코드가 'I'이면 데이터를 수험 번호 순서에 맞게 삽입한다.  \n",
    "만약 입력할 때 이미 수험 번호가 입력되어 있다면 같은 수험 번호의 맨 앞에 삽입한다.\n",
    "\n",
    "처리 코드가 ‘D’이면 메모리의 해당 수험 번호의 데이터 중에서 가장 앞쪽 데이터를 찾아 삭제한다.   \n",
    "만약 처리 코드가 'D'이고 해당 수험 번호가 존재하지 않으면 아무 작업도 하지 않는다.\n",
    "\n",
    "마지막으로 n+2번째 줄에 올바른 데이터의 위치를 나타내는 정수 5개가 입력된다.\n",
    "\n",
    "출력 \n",
    "메모리에 저장된 데이터 중에서 올바른 데이터 위치에 있는 값의 명단을 출력한다.\n",
    "\n",
    "\n",
    "입력 예시    \n",
    "10  \n",
    "I 1011 한라산  \n",
    "I 999 백두산  \n",
    "I 999 오대산  \n",
    "D 999 백두산   \n",
    "I 800 백두산  \n",
    "D 500 한라산  \n",
    "I 900 남산  \n",
    "I 950 금강산  \n",
    "I 1205 지리산  \n",
    "I 700 북한산  \n",
    "1 2 4 5 6  \n",
    "\n",
    "출력 예시  \n",
    "700 북한산  \n",
    "800 백두산  \n",
    "950 금강산  \n",
    "999 백두산  \n",
    "1011 한라산  "
   ]
  },
  {
   "cell_type": "code",
   "execution_count": null,
   "metadata": {
    "scrolled": true
   },
   "outputs": [],
   "source": [
    "n=int(input())\n",
    "data_dic={}\n",
    "\n",
    "for i in range(n):\n",
    "    c, no, name=input().split()\n",
    "    if c=='I':\n",
    "        if int(no) in data_dic:\n",
    "            data_dic[int(no)].insert(0,name)\n",
    "        else:\n",
    "            data_dic[int(no)]=[name]\n",
    "    elif c=='D':\n",
    "        if int(no) in data_dic:\n",
    "            del data_dic[int(no)][0]\n",
    "\n",
    "result=map(int, input().split())\n",
    "for j in result:\n",
    "    temp=data_dic.copy()\n",
    "    while True:\n",
    "        a=min(temp)\n",
    "        b=data_dic[a]\n",
    "        if j>len(b):\n",
    "            j-=len(b)\n",
    "            del temp[a]\n",
    "        else:\n",
    "            print(a,b[j-1])\n",
    "            break\n"
   ]
  },
  {
   "cell_type": "code",
   "execution_count": null,
   "metadata": {},
   "outputs": [],
   "source": [
    "result=(map(int, input().split()))\n",
    "print(result)"
   ]
  },
  {
   "cell_type": "code",
   "execution_count": null,
   "metadata": {},
   "outputs": [],
   "source": [
    "temp=[]\n",
    "while len(data_dic)!=0:\n",
    "    a=min(data_dic)\n",
    "    b=data_dic[a]\n",
    "    for j in b:\n",
    "        temp.append([a,j])\n",
    "    del data_dic[a]\n",
    "\n",
    "for k in result:\n",
    "    print(temp[k-1][0],temp[k-1][1])"
   ]
  },
  {
   "cell_type": "code",
   "execution_count": null,
   "metadata": {},
   "outputs": [],
   "source": [
    "data= sorted(data.items())  ## .itema() :딕셔너리에서 키값과 밸류를 튜플로 가져옴   그걸 sorted 가능"
   ]
  }
 ],
 "metadata": {
  "kernelspec": {
   "display_name": "Python 3",
   "language": "python",
   "name": "python3"
  },
  "language_info": {
   "codemirror_mode": {
    "name": "ipython",
    "version": 3
   },
   "file_extension": ".py",
   "mimetype": "text/x-python",
   "name": "python",
   "nbconvert_exporter": "python",
   "pygments_lexer": "ipython3",
   "version": "3.8.5"
  }
 },
 "nbformat": 4,
 "nbformat_minor": 4
}
