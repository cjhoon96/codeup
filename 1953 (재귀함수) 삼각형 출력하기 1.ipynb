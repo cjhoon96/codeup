{
 "cells": [
  {
   "cell_type": "markdown",
   "metadata": {},
   "source": [
    "## 문제 설명    \n",
    "n이 입력되면 다음과 같은 삼각형을 출력하시오.\n",
    "\n",
    "## 예)\n",
    "\n",
    "n 이 5 이면\n",
    "\n",
    "*  \n",
    "**  \n",
    "***  \n",
    "****  \n",
    "*****  \n",
    "이 문제는 반복문 for, while 등을 이용하여 풀수 없습니다.\n",
    "\n",
    "## 금지 키워드 : for while goto\n",
    "## 입력\n",
    "길이 n이 입력된다.(1<=n<=150)\n",
    "## 출력\n",
    "삼각형을 출력한다.\n",
    "\n",
    "## 입력 예시   \n",
    "3\n",
    "\n",
    "## 출력 예시\n",
    "*  \n",
    "**  \n",
    "***  "
   ]
  },
  {
   "cell_type": "code",
   "execution_count": 5,
   "metadata": {},
   "outputs": [
    {
     "name": "stdout",
     "output_type": "stream",
     "text": [
      "5\n",
      "*\n",
      "**\n",
      "***\n",
      "****\n",
      "*****\n"
     ]
    }
   ],
   "source": [
    "def star(n):\n",
    "    if n==1:\n",
    "        return print('*')\n",
    "    else:\n",
    "        star(n-1)\n",
    "        print('*'*n)\n",
    "star(int(input()))"
   ]
  },
  {
   "cell_type": "code",
   "execution_count": 7,
   "metadata": {},
   "outputs": [
    {
     "ename": "IndentationError",
     "evalue": "unexpected indent (<ipython-input-7-d2267d71871f>, line 2)",
     "output_type": "error",
     "traceback": [
      "\u001b[1;36m  File \u001b[1;32m\"<ipython-input-7-d2267d71871f>\"\u001b[1;36m, line \u001b[1;32m2\u001b[0m\n\u001b[1;33m    star(4)\u001b[0m\n\u001b[1;37m    ^\u001b[0m\n\u001b[1;31mIndentationError\u001b[0m\u001b[1;31m:\u001b[0m unexpected indent\n"
     ]
    }
   ],
   "source": [
    "star(5)\n",
    "    star(4)\n",
    "        star(3)\n",
    "            star(2)\n",
    "                star(1)\n",
    "                print('*')\n",
    "            print('**')\n",
    "        print('***')\n",
    "    print('****)\n",
    "print('*****')"
   ]
  },
  {
   "cell_type": "code",
   "execution_count": 6,
   "metadata": {},
   "outputs": [
    {
     "name": "stdout",
     "output_type": "stream",
     "text": [
      "5\n",
      "*****\n",
      "****\n",
      "***\n",
      "**\n",
      "*\n"
     ]
    }
   ],
   "source": [
    "def star(n):\n",
    "    if n==1:\n",
    "        return print('*')\n",
    "    else:\n",
    "        print('*'*n)\n",
    "        star(n-1)\n",
    "star(int(input()))"
   ]
  },
  {
   "cell_type": "code",
   "execution_count": null,
   "metadata": {},
   "outputs": [],
   "source": []
  }
 ],
 "metadata": {
  "kernelspec": {
   "display_name": "Python 3",
   "language": "python",
   "name": "python3"
  },
  "language_info": {
   "codemirror_mode": {
    "name": "ipython",
    "version": 3
   },
   "file_extension": ".py",
   "mimetype": "text/x-python",
   "name": "python",
   "nbconvert_exporter": "python",
   "pygments_lexer": "ipython3",
   "version": "3.8.5"
  }
 },
 "nbformat": 4,
 "nbformat_minor": 4
}
