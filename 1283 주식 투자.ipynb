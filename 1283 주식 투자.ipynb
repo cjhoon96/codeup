{
 "cells": [
  {
   "cell_type": "markdown",
   "metadata": {},
   "source": [
    "문제 설명    \n",
    "gbs라는 개미 투자자가 주식에 투자하려고 합니다.\n",
    "\n",
    "이 사람이 투자한 돈의 액수와, 그 주식의 하루간의 변동을 퍼센트로 알 때, 이 사람의 순수익과 이득/손해 판단을 출력하세요.\n",
    "\n",
    "입력\n",
    "첫째줄에 투자한 액수 a가 입력됩니다. (100 <= a <= 10,000)\n",
    "\n",
    "둘째 줄에 투자 일 수 b가 입력됩니다.(1 <= b <= 10)\n",
    "\n",
    "그 다음줄에 일별 변동폭인 데이터가 날짜 갯수(b개)만큼 퍼센트 정수로 입력됩니다. (변동폭는 음수도 될 수 있습니다.) ( 범위 -100 ~ +100)\n",
    "\n",
    "출력\n",
    "이 사람의 순수익(=총 수익(최종 값) - 총 비용(투자한 액수))을 소수점 첫째 자리에서 반올림하여 첫째 줄에 출력한다.\n",
    "\n",
    "그리고 다음 줄에 이 사람이 이득일 경우 \"good\", 본전일 경우 \"same\",  손해일 경우 \"bad\"를 출력하세요. \n",
    "\n",
    "물론, 단위가 '원'인데, 0.4원 손해나 0.4원 이득은 없겠죠? (0.5원이면 반올림해서 1입니다 ^^)\n",
    "\n",
    "만약 0.5>순수익>-0.5이면 순수익은 0으로 봅니다.\n",
    "\n",
    "입력 예시   \n",
    "10000\n",
    "4\n",
    "10 -10 5 -5 \n",
    "\n",
    "출력 예시\n",
    "-125\n",
    "bad\n",
    "\n",
    "도움말\n",
    "우선 첫날 10000원을 투자했습니다.\n",
    "\n",
    "그리고 4일동안 기다렸습니다.\n",
    "\n",
    "첫 날엔 10%가 올랐습니다. //11000원\n",
    "\n",
    "둘째 날엔 10%가 내렸습니다. //9900원\n",
    "\n",
    "셋째 날엔 5%가 올랐습니다. //10395원\n",
    "\n",
    "넷째 날엔 5%가 내렸습니다. //9875.25원\n",
    "\n",
    "첫 날 투자한 돈이 10000원인데, 9875.25원 남았으니  -124.75, 반올림해서 -125원. 즉, 손해입니다.\n",
    "\n",
    "P.S.  반올림을 %.0f를 이용해서 했습니다."
   ]
  },
  {
   "cell_type": "code",
   "execution_count": null,
   "metadata": {},
   "outputs": [],
   "source": [
    "n=int(input())\n",
    "m=int(input())\n",
    "d=map(int,input().split())\n",
    "l=n\n",
    "for i in d:\n",
    "    l*=(100+i)/100\n",
    "\n",
    "s=round(l-n)\n",
    "print(s)\n",
    "if s>0:\n",
    "    print(\"good\")\n",
    "elif s==0:\n",
    "    print('same')\n",
    "else:\n",
    "    print('bad')"
   ]
  }
 ],
 "metadata": {
  "kernelspec": {
   "display_name": "Python 3",
   "language": "python",
   "name": "python3"
  },
  "language_info": {
   "codemirror_mode": {
    "name": "ipython",
    "version": 3
   },
   "file_extension": ".py",
   "mimetype": "text/x-python",
   "name": "python",
   "nbconvert_exporter": "python",
   "pygments_lexer": "ipython3",
   "version": "3.8.5"
  }
 },
 "nbformat": 4,
 "nbformat_minor": 4
}
