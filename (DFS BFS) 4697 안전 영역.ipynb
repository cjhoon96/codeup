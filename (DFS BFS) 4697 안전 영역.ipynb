{
 "cells": [
  {
   "cell_type": "code",
   "execution_count": null,
   "metadata": {},
   "outputs": [],
   "source": [
    "import sys\n",
    "input=sys.stdin.readline\n",
    "sys.setrecursionlimit(10**6)\n",
    "from copy import deepcopy\n",
    "\n",
    "n = int(input())\n",
    "\n",
    "fl_map = []\n",
    "hst = 0\n",
    "for _ in range(n):\n",
    "    a = list(map(int,input().split()))\n",
    "    fl_map.append(a)\n",
    "    now_h = max(a)\n",
    "    if now_h > hst:\n",
    "        hst = now_h\n",
    "\n",
    "def safe_zone(x,y):\n",
    "    global r\n",
    "    if 0<=x<n and 0<=y<n and ch_map[y][x]>r:\n",
    "        ch_map[y][x] = 0\n",
    "        safe_zone(x+1,y)\n",
    "        safe_zone(x-1,y)\n",
    "        safe_zone(x,y+1)\n",
    "        safe_zone(x,y-1)\n",
    "        return True\n",
    "    return False\n",
    "\n",
    "max_zone = 0\n",
    "for r in range(0,hst+1):\n",
    "    ch_map = deepcopy(fl_map)\n",
    "    cnt = 0\n",
    "    for y in range(n):\n",
    "        for x in range(n):\n",
    "            if safe_zone(x,y):\n",
    "                cnt += 1\n",
    "    if cnt > max_zone:\n",
    "        max_zone = cnt\n",
    "\n",
    "print(max_zone)"
   ]
  }
 ],
 "metadata": {
  "kernelspec": {
   "display_name": "Python 3",
   "language": "python",
   "name": "python3"
  },
  "language_info": {
   "codemirror_mode": {
    "name": "ipython",
    "version": 3
   },
   "file_extension": ".py",
   "mimetype": "text/x-python",
   "name": "python",
   "nbconvert_exporter": "python",
   "pygments_lexer": "ipython3",
   "version": "3.8.5"
  }
 },
 "nbformat": 4,
 "nbformat_minor": 4
}
