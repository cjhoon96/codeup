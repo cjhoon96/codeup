{
 "cells": [
  {
   "cell_type": "code",
   "execution_count": null,
   "metadata": {},
   "outputs": [],
   "source": [
    "graph = []\n",
    "for _ in range(10):\n",
    "    graph.append(input())\n",
    "\n",
    "def dfs_coloring(x,y):\n",
    "    if y<0 or y>9 or x<0 or x>9:\n",
    "        return\n",
    "    if graph[y][x] == '_':\n",
    "        graph[y] = graph[y][:x]+'*'+graph[y][x+1:]\n",
    "        dfs_coloring(x-1, y)\n",
    "        dfs_coloring(x+1, y)\n",
    "        dfs_coloring(x, y-1)\n",
    "        dfs_coloring(x, y+1)\n",
    "\n",
    "x, y = map(int,input().split())\n",
    "\n",
    "dfs_coloring(x, y)\n",
    "\n",
    "for i in graph:\n",
    "    print(i)"
   ]
  }
 ],
 "metadata": {
  "kernelspec": {
   "display_name": "Python 3",
   "language": "python",
   "name": "python3"
  },
  "language_info": {
   "codemirror_mode": {
    "name": "ipython",
    "version": 3
   },
   "file_extension": ".py",
   "mimetype": "text/x-python",
   "name": "python",
   "nbconvert_exporter": "python",
   "pygments_lexer": "ipython3",
   "version": "3.8.5"
  }
 },
 "nbformat": 4,
 "nbformat_minor": 4
}
