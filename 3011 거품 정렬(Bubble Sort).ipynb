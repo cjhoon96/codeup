{
 "cells": [
  {
   "cell_type": "code",
   "execution_count": 2,
   "metadata": {},
   "outputs": [
    {
     "name": "stdout",
     "output_type": "stream",
     "text": [
      "5\n",
      "10 50 30 20 40\n",
      "2\n"
     ]
    }
   ],
   "source": [
    "n=int(input())\n",
    "x=list(map(int,input().split()))\n",
    "\n",
    "length = len(x)-1\n",
    "for i in range(length):\n",
    "    for j in range(length-i):\n",
    "        if x[j] > x[j+1]:\n",
    "            x[j], x[j+1] = x[j+1], x[j]\n",
    "    if x==sorted(x):\n",
    "        print(i+1)\n",
    "        break"
   ]
  }
 ],
 "metadata": {
  "kernelspec": {
   "display_name": "Python 3",
   "language": "python",
   "name": "python3"
  },
  "language_info": {
   "codemirror_mode": {
    "name": "ipython",
    "version": 3
   },
   "file_extension": ".py",
   "mimetype": "text/x-python",
   "name": "python",
   "nbconvert_exporter": "python",
   "pygments_lexer": "ipython3",
   "version": "3.8.5"
  }
 },
 "nbformat": 4,
 "nbformat_minor": 4
}
