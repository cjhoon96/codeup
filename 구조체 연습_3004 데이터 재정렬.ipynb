{
 "cells": [
  {
   "cell_type": "markdown",
   "metadata": {},
   "source": [
    "프로그래밍 문제를 풀다 보면 뒤죽박죽인 N개의 데이터를 숫자의 크기 순으로 0 ~ N-1까지의 숫자로 재정렬 해야되는 경우가 종종 있다.\n",
    "\n",
    "예를 들어 N=5 이고,\n",
    "\n",
    "50 23 54 24 123\n",
    "\n",
    "이라는 데이터가 있다면,\n",
    "\n",
    "2 0 3 1 4\n",
    "\n",
    "가 된다.\n",
    "\n",
    "데이터를 재정렬하는 프로그램을 작성하시오.\n",
    "\n",
    "입력\n",
    "첫째 줄에 데이터의 개수 N이 입력된다. ( 1 <= N <= 50,000)\n",
    "\n",
    "둘째 줄에 공백으로 분리되어 N개의 서로 다른 데이터가 입력된다. (값의 범위:0~500,000)\n",
    "\n",
    "출력\n",
    "N개의 데이터를 0 ~ N-1로 재정렬하여 출력하라.\n",
    "\n",
    "입력 예시   \n",
    "5\n",
    "50 23 54 24 123 \n",
    "\n",
    "출력 예시\n",
    "2 0 3 1 4 \n",
    "\n",
    "도움말\n",
    "50 23 54 24 123 에서\n",
    "\n",
    "23, 24, 50, 54, 123 순서로 0, 1, 2, 3, 4 가 된다.\n",
    "\n",
    "그리고 원래의 위치대로 출력한다."
   ]
  },
  {
   "cell_type": "code",
   "execution_count": 25,
   "metadata": {},
   "outputs": [
    {
     "name": "stdout",
     "output_type": "stream",
     "text": [
      "5\n",
      "50 23 54 24 123\n",
      "{23: 0, 24: 1, 54: 3, 123: 4}\n",
      "{24: 1, 54: 3, 123: 4}\n",
      "{24: 1, 123: 4}\n",
      "{123: 4}\n",
      "{}\n",
      "20314\n"
     ]
    }
   ],
   "source": [
    "n=int(input())\n",
    "list_data=list(map(int, input().split()))\n",
    "trsh_lst=list_data.copy()                  ## .copy 가 없으면 객체를 복사하는 것이 아닌 어드레스를 복사 연산시 동시 연산\n",
    "dic_data={}\n",
    "i=0\n",
    "while len(trsh_lst)!=0:\n",
    "    a=min(trsh_lst)\n",
    "    dic_data[a]=i\n",
    "    i+=1\n",
    "    trsh_lst.remove(a)\n",
    "re_index=''\n",
    "while len(dic_data)!=0:\n",
    "    re_index+=str(dic_data[list_data[0]])+' '\n",
    "    del dic_data[list_data[0]]\n",
    "    del list_data[0]\n",
    "\n",
    "print(re_index)"
   ]
  },
  {
   "cell_type": "code",
   "execution_count": 26,
   "metadata": {},
   "outputs": [
    {
     "name": "stdout",
     "output_type": "stream",
     "text": [
      "[1, 3, 4, 5, 6]\n",
      "[1, 3, 4, 5, 6]\n"
     ]
    }
   ],
   "source": [
    "a=[1, 2, 3, 4, 5, 6]\n",
    "b=a\n",
    "del b[1]\n",
    "print(b)\n",
    "print(a)\n",
    "## a 와 b에서 2가 같이 없어짐"
   ]
  },
  {
   "cell_type": "code",
   "execution_count": 1,
   "metadata": {},
   "outputs": [
    {
     "name": "stdout",
     "output_type": "stream",
     "text": [
      "5\n",
      "50 23 54 24 123 \n",
      "{23: 0, 24: 1, 50: 2, 54: 3, 123: 4}\n",
      "2 0 3 1 4 \n"
     ]
    }
   ],
   "source": [
    "n=int(input())\n",
    "list_data=list(map(int, input().split()))\n",
    "sorted_data=sorted(list_data)\n",
    "dic_data={}\n",
    "\n",
    "for i in range(n):                    ## dic_data=dict(zip(sorted_data, range(N)))\n",
    "    dic_data[sorted_data[i]]=i\n",
    "print(dic_data)\n",
    "    \n",
    "re_index=''\n",
    "for i in list_data:\n",
    "    re_index+=str(dic_data[i])+' '\n",
    "print(re_index)"
   ]
  },
  {
   "cell_type": "code",
   "execution_count": 30,
   "metadata": {},
   "outputs": [
    {
     "name": "stdout",
     "output_type": "stream",
     "text": [
      "(2, 1)\n",
      "(4, 2)\n",
      "(6, 3)\n",
      "(7, 4)\n"
     ]
    }
   ],
   "source": [
    "for z in zip([2,4,6,7], [1,2,3,4]):\n",
    "    print(z)"
   ]
  }
 ],
 "metadata": {
  "kernelspec": {
   "display_name": "Python 3",
   "language": "python",
   "name": "python3"
  },
  "language_info": {
   "codemirror_mode": {
    "name": "ipython",
    "version": 3
   },
   "file_extension": ".py",
   "mimetype": "text/x-python",
   "name": "python",
   "nbconvert_exporter": "python",
   "pygments_lexer": "ipython3",
   "version": "3.8.5"
  }
 },
 "nbformat": 4,
 "nbformat_minor": 4
}
