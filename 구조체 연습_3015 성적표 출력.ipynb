{
 "cells": [
  {
   "cell_type": "markdown",
   "metadata": {},
   "source": [
    "# 문제 설명    \n",
    "세종이는 정보과학 선생님인 JH를 도와주기 위해 정보과학 성적처리 프로그램을 만들기로 했다.\n",
    "\n",
    "JH 선생님은 학생들의 명단과 점수를 입력하면 상위 m명의 학생 명단을 출력해 주기를 원한다.\n",
    "\n",
    "다음 조건을 만족하는 프로그램을 작성해 보자.\n",
    "\n",
    "## 입력  \n",
    "첫째 줄에 데이터의 개수 n (3<=n<=100)과 출력인원 m (1<=m<=n)이 공백으로 구분되어 입력된다.\n",
    "\n",
    "둘째 줄부터 학생 이름과 점수(0 100)가 공백으로 구분되어 입력된다. \n",
    "\n",
    "단 이름의 길이는 최대 10바이트 이내이다.\n",
    "\n",
    "## 출력  \n",
    "상위 m명의 학생명단을 출력한다.\n",
    "\n",
    "단, 출력순서는 점수가 높은 학생이 먼저 출력되며, 점수가 같을 경우 입력 순서가 빠른 순서로 출력한다.\n",
    "\n",
    "## 입력 예시     \n",
    "4 2  \n",
    "Jeon 95  \n",
    "Kim 59   \n",
    "Lee 90  \n",
    "Bae 100  \n",
    "\n",
    "## 출력 예시  \n",
    "Bae  \n",
    "Jeon  "
   ]
  },
  {
   "cell_type": "code",
   "execution_count": 3,
   "metadata": {},
   "outputs": [
    {
     "name": "stdout",
     "output_type": "stream",
     "text": [
      "5 2\n",
      "Jeon 95  \n",
      "Kim 59   \n",
      "Lee 90  \n",
      "Bae 100  \n",
      "Jihoon 100\n",
      "[(100, ['Bae', 'Jihoon']), (95, ['Jeon']), (90, ['Lee']), (59, ['Kim'])]\n",
      "[[100, 'Bae'], [100, 'Jihoon'], [95, 'Jeon'], [90, 'Lee'], [59, 'Kim']]\n",
      "Bae\n",
      "Jihoon\n"
     ]
    }
   ],
   "source": [
    "n,m=map(int,input().split())\n",
    "score_dic={}\n",
    "for _ in range(n):\n",
    "    name, score = input().split()\n",
    "    if int(score) in score_dic:\n",
    "        score_dic[int(score)].append(name)\n",
    "    else:\n",
    "        score_dic[int(score)]=[name]\n",
    "        \n",
    "score_dic= sorted(score_dic.items(), reverse=True)\n",
    "print(score_dic)\n",
    "\n",
    "score_list=[]\n",
    "for key, value in score_dic:\n",
    "    for Name in value:\n",
    "        score_list.append([key,Name])\n",
    "\n",
    "print(score_list)\n",
    "\n",
    "for i in range(m):\n",
    "    print(score_list[i][1])"
   ]
  }
 ],
 "metadata": {
  "kernelspec": {
   "display_name": "Python 3",
   "language": "python",
   "name": "python3"
  },
  "language_info": {
   "codemirror_mode": {
    "name": "ipython",
    "version": 3
   },
   "file_extension": ".py",
   "mimetype": "text/x-python",
   "name": "python",
   "nbconvert_exporter": "python",
   "pygments_lexer": "ipython3",
   "version": "3.8.5"
  }
 },
 "nbformat": 4,
 "nbformat_minor": 4
}
