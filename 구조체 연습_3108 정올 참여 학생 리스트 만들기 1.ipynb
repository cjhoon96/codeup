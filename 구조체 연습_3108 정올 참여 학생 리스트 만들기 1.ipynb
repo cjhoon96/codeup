{
 "cells": [
  {
   "cell_type": "markdown",
   "metadata": {},
   "source": [
    "문제 설명    \n",
    "세종이는 주말에 정보 과학실에서 정보 올림피아드 준비를 하려고 한다.\n",
    "\n",
    "JH 선생님은 정보 과학실 사용 조건으로 정보 올림피아드 참가 학생 명단을 작성하는 프로그램을 작성하라고 하셨다.\n",
    "\n",
    "짖굳은 JH 선생님은 입력 데이터를 만들 때 일부러 중간에 잘못된 값을 끼워 왕창 끼워 넣었다.\n",
    "\n",
    "그리고 잘못된 데이터를 제거하는 방법을 설명해 주었다.\n",
    "\n",
    "다음 조건에 따라 프로그램을 만들고 올바른 명단만 출력해 보자.\n",
    "\n",
    "입력\n",
    "첫째 줄에 입력 데이터의 개수 n이 입력된다. (10<=n<=100)\n",
    "\n",
    "둘째 줄부터 n+1번째 줄까지 처리 코드c(문자 1자리), 수험 번호 no(1<=no<=10,000), 이름(10바이트 이내)이 입력된다.\n",
    "\n",
    "처리 코드에 따라 입력 데이터를 메모리에 저장하거나 삭제해야 한다. 처리 코드가 'I'이면 데이터를 수험 번호 순서에 맞게 삽입한다.\n",
    "\n",
    "만약 입력할 때 이미 수험 번호가 입력되어 있다면 아무 작업도 하지 않는다.\n",
    "\n",
    "처리 코드가 ‘D’이면 메모리의 데이터 중에서 해당 수험 번호를 찾아 삭제한다.\n",
    "\n",
    "만약 처리 코드가 'D'이고 해당 수험 번호가 존재하지 않으면 아무 작업도 하지 않는다.\n",
    "\n",
    "마지막으로 n+2번째 줄에 올바른 데이터의 위치를 나타내는 정수 5개가 입력된다.\n",
    "\n",
    "출력\n",
    "메모리에 저장된 데이터 중에서 올바른 데이터 위치에 있는 값의 명단을 출력한다.\n",
    "\n",
    "입력 예시     \n",
    "10  \n",
    "I 1011 한라산  \n",
    "I 999 백두산   \n",
    "I 999 오대산   \n",
    "D 999 백두산  \n",
    "I 800 백두산  \n",
    "D 500 한라산  \n",
    "I 900 남산     \n",
    "I 950 금강산   \n",
    "I 1205 지리산  \n",
    "I 700 북한산   \n",
    "1 2 4 5 6  \n",
    "\n",
    "출력 예시  \n",
    "700 북한산    \n",
    "800 백두산  \n",
    "950 금강산  \n",
    "1011 한라산  \n",
    "1205 지리산  "
   ]
  },
  {
   "cell_type": "code",
   "execution_count": null,
   "metadata": {},
   "outputs": [
    {
     "name": "stdout",
     "output_type": "stream",
     "text": [
      "10\n",
      "I 1011 한라산  \n",
      "I 999 백두산   \n",
      "I 999 오대산   \n",
      "D 999 백두산  \n",
      "I 800 백두산  \n",
      "D 500 한라산  \n",
      "I 900 남산     \n",
      "I 950 금강산   \n",
      "I 1205 지리산  \n"
     ]
    }
   ],
   "source": [
    "n=int(input())\n",
    "list_dic={}\n",
    "for i in range(n):\n",
    "    c, no, name=input().split()\n",
    "    if c=='D' and int(no) in list_dic:\n",
    "        del list_dic[int(no)]\n",
    "    elif c=='I' and int(no) not in list_dic:\n",
    "        list_dic[int(no)]=name\n",
    "\n",
    "result=list(map(int, input().split()))\n",
    "a=sorted(list_dic,keys())\n",
    "for i in result:\n",
    "    print(a[i],list_dic[a[i]])"
   ]
  },
  {
   "cell_type": "code",
   "execution_count": 22,
   "metadata": {
    "scrolled": false
   },
   "outputs": [
    {
     "name": "stdout",
     "output_type": "stream",
     "text": [
      "10\n",
      "I 1011 한라산  \n",
      "I 999 백두산   \n",
      "I 999 오대산   \n",
      "D 999 백두산  \n",
      "I 800 백두산  \n",
      "D 500 한라산  \n",
      "I 900 남산     \n",
      "I 950 금강산   \n",
      "I 1205 지리산  \n",
      "I 700 북한산   \n",
      "1 2 4 5 6  \n",
      "700 북한산\n",
      "800 백두산\n",
      "950 금강산\n",
      "1011 한라산\n",
      "1205 지리산\n"
     ]
    }
   ],
   "source": [
    "n=int(input())\n",
    "list_dic={}\n",
    "list_no=[]\n",
    "for i in range(n):\n",
    "    c, no, name=input().split()\n",
    "    if c=='D' and int(no) in list_no:\n",
    "        del list_dic[int(no)]\n",
    "        list_no.remove(int(no))\n",
    "    elif c=='I' and int(no) not in list_no:\n",
    "        list_dic[int(no)]=name\n",
    "        list_no.append(int(no))\n",
    "\n",
    "result=list(map(int, input().split()))\n",
    "\n",
    "i=0\n",
    "j=0\n",
    "while j<5:\n",
    "    a=min(list_dic)\n",
    "    if i+1 in result:\n",
    "        print(a, list_dic[a])\n",
    "        del list_dic[a]\n",
    "        j+=1\n",
    "    else:\n",
    "        del list_dic[a]\n",
    "    i+=1  \n"
   ]
  },
  {
   "cell_type": "code",
   "execution_count": 18,
   "metadata": {},
   "outputs": [
    {
     "ename": "KeyError",
     "evalue": "5",
     "output_type": "error",
     "traceback": [
      "\u001b[1;31m---------------------------------------------------------------------------\u001b[0m",
      "\u001b[1;31mKeyError\u001b[0m                                  Traceback (most recent call last)",
      "\u001b[1;32m<ipython-input-18-e1cbcdf21e02>\u001b[0m in \u001b[0;36m<module>\u001b[1;34m\u001b[0m\n\u001b[0;32m      1\u001b[0m \u001b[0ma\u001b[0m\u001b[1;33m=\u001b[0m\u001b[1;33m{\u001b[0m\u001b[1;36m1\u001b[0m\u001b[1;33m:\u001b[0m\u001b[1;36m1\u001b[0m\u001b[1;33m,\u001b[0m\u001b[1;36m2\u001b[0m\u001b[1;33m:\u001b[0m\u001b[1;36m2\u001b[0m\u001b[1;33m,\u001b[0m\u001b[1;36m3\u001b[0m\u001b[1;33m:\u001b[0m\u001b[1;36m3\u001b[0m\u001b[1;33m,\u001b[0m\u001b[1;36m4\u001b[0m\u001b[1;33m:\u001b[0m\u001b[1;36m4\u001b[0m\u001b[1;33m}\u001b[0m\u001b[1;33m\u001b[0m\u001b[1;33m\u001b[0m\u001b[0m\n\u001b[1;32m----> 2\u001b[1;33m \u001b[1;32mdel\u001b[0m \u001b[0ma\u001b[0m\u001b[1;33m[\u001b[0m\u001b[1;36m5\u001b[0m\u001b[1;33m]\u001b[0m\u001b[1;33m\u001b[0m\u001b[1;33m\u001b[0m\u001b[0m\n\u001b[0m\u001b[0;32m      3\u001b[0m \u001b[0mprint\u001b[0m\u001b[1;33m(\u001b[0m\u001b[0ma\u001b[0m\u001b[1;33m)\u001b[0m\u001b[1;33m\u001b[0m\u001b[1;33m\u001b[0m\u001b[0m\n",
      "\u001b[1;31mKeyError\u001b[0m: 5"
     ]
    }
   ],
   "source": [
    "a={1:1,2:2,3:3,4:4}\n",
    "del a[5]\n",
    "print(a)"
   ]
  },
  {
   "cell_type": "code",
   "execution_count": null,
   "metadata": {},
   "outputs": [],
   "source": [
    "n=int(input())\n",
    "list_dic={}\n",
    "for i in range(n):\n",
    "    c, no, name=input().split()\n",
    "    if c=='I' and int(no) not in list_dic:\n",
    "        list_dic[int(no)]=name\n",
    "print(list_dic)\n",
    "\n",
    "result=list(map(int, input().split()))\n",
    "\n",
    "i=0\n",
    "j=0\n",
    "while j<=5:\n",
    "    a=min(list_dic)\n",
    "    if i+1 in result:\n",
    "        print(a, list_dic[a])\n",
    "        del list_dic[a]\n",
    "        j+=1\n",
    "    else:\n",
    "        del list_dic[a]\n",
    "    i+=1  \n",
    "\n"
   ]
  },
  {
   "cell_type": "code",
   "execution_count": 10,
   "metadata": {
    "scrolled": true
   },
   "outputs": [
    {
     "name": "stdout",
     "output_type": "stream",
     "text": [
      "10\n",
      "I 1011 한라산  \n",
      "I 999 백두산   \n",
      "I 999 오대산   \n",
      "I 999 오대산   \n",
      "D 999 백두산  \n",
      "I 800 백두산  \n",
      "D 500 한라산 \n",
      "I 900 남산  \n",
      "I 950 금강산   \n",
      "I 1205 지리산 \n",
      "I 700 북한산   \n"
     ]
    },
    {
     "ename": "ValueError",
     "evalue": "invalid literal for int() with base 10: 'I'",
     "output_type": "error",
     "traceback": [
      "\u001b[1;31m---------------------------------------------------------------------------\u001b[0m",
      "\u001b[1;31mValueError\u001b[0m                                Traceback (most recent call last)",
      "\u001b[1;32m<ipython-input-10-ee6b5665e0c3>\u001b[0m in \u001b[0;36m<module>\u001b[1;34m\u001b[0m\n\u001b[0;32m      7\u001b[0m \u001b[0mlist_data\u001b[0m\u001b[1;33m.\u001b[0m\u001b[0msort\u001b[0m\u001b[1;33m(\u001b[0m\u001b[1;33m)\u001b[0m\u001b[1;33m\u001b[0m\u001b[1;33m\u001b[0m\u001b[0m\n\u001b[0;32m      8\u001b[0m \u001b[1;33m\u001b[0m\u001b[0m\n\u001b[1;32m----> 9\u001b[1;33m \u001b[0mresult\u001b[0m\u001b[1;33m=\u001b[0m\u001b[0mlist\u001b[0m\u001b[1;33m(\u001b[0m\u001b[0mmap\u001b[0m\u001b[1;33m(\u001b[0m\u001b[0mint\u001b[0m\u001b[1;33m,\u001b[0m \u001b[0minput\u001b[0m\u001b[1;33m(\u001b[0m\u001b[1;33m)\u001b[0m\u001b[1;33m.\u001b[0m\u001b[0msplit\u001b[0m\u001b[1;33m(\u001b[0m\u001b[1;33m)\u001b[0m\u001b[1;33m)\u001b[0m\u001b[1;33m)\u001b[0m\u001b[1;33m\u001b[0m\u001b[1;33m\u001b[0m\u001b[0m\n\u001b[0m\u001b[0;32m     10\u001b[0m \u001b[1;33m\u001b[0m\u001b[0m\n\u001b[0;32m     11\u001b[0m \u001b[0mtrash_data\u001b[0m\u001b[1;33m=\u001b[0m\u001b[1;33m[\u001b[0m\u001b[1;33m]\u001b[0m\u001b[1;33m\u001b[0m\u001b[1;33m\u001b[0m\u001b[0m\n",
      "\u001b[1;31mValueError\u001b[0m: invalid literal for int() with base 10: 'I'"
     ]
    }
   ],
   "source": [
    "n=int(input())\n",
    "list_data=[]\n",
    "for i in range(n):\n",
    "    c, no, name=input().split()\n",
    "    list_data.append([c, int(no), name])\n",
    "\n",
    "list_data.sort()\n",
    "\n",
    "result=list(map(int, input().split()))\n",
    "\n",
    "trash_data=[]\n",
    "idx=0\n",
    "while list_data[idx][0]=='D':\n",
    "    if list_data[idx][1] not in trash_data:\n",
    "        trash_data.append(list_data[idx][1])\n",
    "\n",
    "temp_data=[]\n",
    "for data in list_data:\n",
    "    if data[1] not in trash_data:\n",
    "        temp_data.append(data[1:])\n",
    "\n",
    "for j in range(5):\n",
    "    print(temp_data[result[j]])"
   ]
  },
  {
   "cell_type": "code",
   "execution_count": 11,
   "metadata": {},
   "outputs": [
    {
     "name": "stdout",
     "output_type": "stream",
     "text": [
      "10\n",
      "I 1011 한라산  \n",
      "I 999 백두산   \n",
      "I 999 오대산 \n",
      "D 999 백두산  \n",
      "I 800 백두산  \n",
      "D 500 한라산 \n",
      "I 900 남산 \n",
      "I 950 금강산 \n",
      "I 1205 지리산 \n",
      "I 700 북한산   \n",
      "1 2 4 5 6  \n"
     ]
    },
    {
     "ename": "TypeError",
     "evalue": "'int' object is not subscriptable",
     "output_type": "error",
     "traceback": [
      "\u001b[1;31m---------------------------------------------------------------------------\u001b[0m",
      "\u001b[1;31mTypeError\u001b[0m                                 Traceback (most recent call last)",
      "\u001b[1;32m<ipython-input-11-9f64655f2cd5>\u001b[0m in \u001b[0;36m<module>\u001b[1;34m\u001b[0m\n\u001b[0;32m     18\u001b[0m \u001b[1;33m\u001b[0m\u001b[0m\n\u001b[0;32m     19\u001b[0m \u001b[1;32mfor\u001b[0m \u001b[0mj\u001b[0m \u001b[1;32min\u001b[0m \u001b[0mrange\u001b[0m\u001b[1;33m(\u001b[0m\u001b[1;36m5\u001b[0m\u001b[1;33m)\u001b[0m\u001b[1;33m:\u001b[0m\u001b[1;33m\u001b[0m\u001b[1;33m\u001b[0m\u001b[0m\n\u001b[1;32m---> 20\u001b[1;33m     \u001b[0mprint\u001b[0m\u001b[1;33m(\u001b[0m\u001b[0mtemp_data\u001b[0m\u001b[1;33m[\u001b[0m\u001b[0mresult\u001b[0m\u001b[1;33m[\u001b[0m\u001b[0mj\u001b[0m\u001b[1;33m]\u001b[0m\u001b[1;33m[\u001b[0m\u001b[1;36m0\u001b[0m\u001b[1;33m]\u001b[0m\u001b[1;33m]\u001b[0m\u001b[1;33m,\u001b[0m\u001b[0mtemp_data\u001b[0m\u001b[1;33m[\u001b[0m\u001b[0mresult\u001b[0m\u001b[1;33m[\u001b[0m\u001b[0mj\u001b[0m\u001b[1;33m]\u001b[0m\u001b[1;33m[\u001b[0m\u001b[1;36m1\u001b[0m\u001b[1;33m]\u001b[0m\u001b[1;33m]\u001b[0m\u001b[1;33m)\u001b[0m\u001b[1;33m\u001b[0m\u001b[1;33m\u001b[0m\u001b[0m\n\u001b[0m",
      "\u001b[1;31mTypeError\u001b[0m: 'int' object is not subscriptable"
     ]
    }
   ],
   "source": [
    "n=int(input())\n",
    "list_data=[]\n",
    "trash_data=[]\n",
    "for i in range(n):\n",
    "    c, no, name=input().split()\n",
    "    if c=='D':\n",
    "        trash_data.append(int(no))\n",
    "    else:\n",
    "        list_data.append((int(no), name))\n",
    "        \n",
    "result=list(map(int, input().split()))\n",
    "\n",
    "temp_data=[]\n",
    "for j in list_data:\n",
    "    if j[0] not in trash_data:\n",
    "        temp_data.append(j)\n",
    "temp_data.sort()\n",
    "\n",
    "for j in range(5):\n",
    "    print(temp_data[result[j]-1][0],temp_data[result[j]-1][1])"
   ]
  },
  {
   "cell_type": "code",
   "execution_count": null,
   "metadata": {},
   "outputs": [],
   "source": [
    "a=['9000','300','10000','241']\n",
    "a.sort()\n",
    "print(a)"
   ]
  },
  {
   "cell_type": "code",
   "execution_count": null,
   "metadata": {},
   "outputs": [],
   "source": [
    "n=int(input())\n",
    "list_dic={}\n",
    "for i in range(n):\n",
    "    c, no, name=input().split()\n",
    "    if c=='D' and int(no) in list_dic:\n",
    "        del list_dic[int(no)]\n",
    "    elif c=='I' and int(no) not in list_dic:\n",
    "        list_dic[int(no)]=name\n",
    "result=list(map(int, input().split()))\n",
    "a=sorted(list_dic.keys())\n",
    "for i in result:\n",
    "    key=a[i-1]\n",
    "    print(key,list_dic[key])\n",
    "    \n",
    "    \n",
    "[False,False,False,False,False,False,False,False,False,False,False,False]"
   ]
  }
 ],
 "metadata": {
  "kernelspec": {
   "display_name": "Python 3",
   "language": "python",
   "name": "python3"
  },
  "language_info": {
   "codemirror_mode": {
    "name": "ipython",
    "version": 3
   },
   "file_extension": ".py",
   "mimetype": "text/x-python",
   "name": "python",
   "nbconvert_exporter": "python",
   "pygments_lexer": "ipython3",
   "version": "3.8.5"
  }
 },
 "nbformat": 4,
 "nbformat_minor": 4
}
