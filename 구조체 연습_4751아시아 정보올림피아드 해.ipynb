{
 "cells": [
  {
   "cell_type": "markdown",
   "metadata": {},
   "source": [
    "문제 설명\n",
    "문제 1) 아시아 정보올림피아드\n",
    "\n",
    "최근 아시아 지역의 학생들만 참여하는 정보 올림피아드 대회가 만들어졌다. 이 대회는 온라인으로 치러지기 때문에 각 나라에서 이 대회에 참여하는 학생 수의 제한은 없다.\n",
    "\n",
    "참여한 학생들의 성적순서대로 세 명에게만 금, 은, 동메달을 수여한다. 단, 동점자는 없다고 가정한다. 그리고 나라별 메달 수는 최대 두 개이다.\n",
    "\n",
    "예를 들어, 대회 결과가 다음의 표와 같이 주어졌다고 하자.\n",
    "\n",
    "\n",
    "\n",
    "\n",
    "대회 결과가 입력으로 주어질 때, 메달 수상자를 결정하여 출력하는 프로그램을 작성하시오.이 경우, 금메달 수상자는 1번 국가의 1번 학생이고, 은메달 수상자는 1번 국가의 2번 학생이며, 동메달 수상자는 3번 국가의 4번 학생이다. (1번 국가의 3번 학생의 성적이 동메달 수여자보다 높지만, 나라 별 메달 수가 두 개 이하 이므로 1번 국가 3번 학생은 동메달을 받을 수 없다.)\n",
    "\n",
    "입력\n",
    "입력의 첫 번째 줄에는 대회참가 학생 수를 나타내는 N 이 주어진다. 단, 3<=N<=100 이다. 두 번째 줄부터 N 개의 줄에는 각 줄마다 한 학생의 소속 국가 번호, 학생 번호, 그리고 성적이 하나의 빈칸을 사이에 두고 주어진다. 단, 국가 번호는 1부터 순서대로 하나의 정수로 주어지며, 각 학생번호는 각 나라별로 1부터 순서대로 하나의 정수로 주어진다, 점수는 0 이상 1000 이하의 정수이고, 동점자는 없다고 가정한다. 입력으로 제공되는 국가는 적어도 두 나라 이상이다.\n",
    "\n",
    "출력\n",
    "메달을 받는 학생들을 금, 은, 동메달 순서대로 한 줄에 한명씩 출력한다. 즉, 첫 번째 줄에는 금메달 수상자를, 두 번째 줄에는 은메달 수상자를, 세 번째 줄에는 동메달 수상자를 출력한다. 하나의 줄에는 소속국가 번호와 학생 번호를 하나의 빈칸을 사이에 두고 출력한다. \n",
    "\n",
    "입력 예시     \n",
    "9    \n",
    "1 1 230  \n",
    "1 2 210  \n",
    "1 3 205  \n",
    "2 1 100  \n",
    "2 2 150  \n",
    "3 1 175  \n",
    "3 2 190  \n",
    "3 3 180  \n",
    "3 4 195  \n",
    "\n",
    "출력 예시  \n",
    "1 1  \n",
    "1 2  \n",
    "3 4  "
   ]
  },
  {
   "cell_type": "code",
   "execution_count": 3,
   "metadata": {},
   "outputs": [
    {
     "ename": "SyntaxError",
     "evalue": "invalid syntax (<ipython-input-3-50c1e37f8c42>, line 7)",
     "output_type": "error",
     "traceback": [
      "\u001b[1;36m  File \u001b[1;32m\"<ipython-input-3-50c1e37f8c42>\"\u001b[1;36m, line \u001b[1;32m7\u001b[0m\n\u001b[1;33m    if\u001b[0m\n\u001b[1;37m      ^\u001b[0m\n\u001b[1;31mSyntaxError\u001b[0m\u001b[1;31m:\u001b[0m invalid syntax\n"
     ]
    }
   ],
   "source": [
    "N=int(input())\n",
    "entry_list=[]\n",
    "for i in range(N):\n",
    "    entry_list.append(list(map(int, input().split())))\n",
    "entry_list.sort()\n",
    "ctry_list=[entry_list[0][0]]\n",
    "for i in range(1,N):\n",
    "    if entry_list[i][0]!=entry_list[i-1][0]:\n",
    "        ctry_list.append(entry_list[i][0])\n",
    "M=len(ctry_list)\n",
    "entry_dic={}\n",
    "for i in range(N):\n",
    "    entry_dic[entry_list[i][2]]=entry_list[i][0:2]\n",
    "entry_dic.sort(reverse=True)\n"
   ]
  },
  {
   "cell_type": "code",
   "execution_count": 6,
   "metadata": {},
   "outputs": [
    {
     "name": "stdout",
     "output_type": "stream",
     "text": [
      "[[1, 1, 230], [1, 2, 210], [1, 3, 205], [2, 1, 100], [2, 2, 150], [3, 1, 175], [3, 2, 190], [3, 3, 180], [3, 4, 195]]\n"
     ]
    }
   ],
   "source": [
    "a=[[2, 1, 100], [1, 2, 210], [1, 1, 230], [1, 3, 205], [2, 2, 150],  [3, 2, 190], [3, 1, 175], [3, 3, 180], [3, 4, 195]]\n",
    "a.sort()\n",
    "print(a)"
   ]
  },
  {
   "cell_type": "code",
   "execution_count": 11,
   "metadata": {},
   "outputs": [
    {
     "name": "stdout",
     "output_type": "stream",
     "text": [
      "9\n",
      "1 1 230\n",
      "1 2 210\n",
      "1 3 205\n",
      "2 1 100\n",
      "2 2 150\n",
      "3 1 175\n",
      "3 2 190\n",
      "3 3 180\n",
      "3 4 195\n"
     ]
    },
    {
     "ename": "TypeError",
     "evalue": "'builtin_function_or_method' object is not subscriptable",
     "output_type": "error",
     "traceback": [
      "\u001b[1;31m---------------------------------------------------------------------------\u001b[0m",
      "\u001b[1;31mTypeError\u001b[0m                                 Traceback (most recent call last)",
      "\u001b[1;32m<ipython-input-11-4ecf55a3e6f1>\u001b[0m in \u001b[0;36m<module>\u001b[1;34m\u001b[0m\n\u001b[0;32m     22\u001b[0m         \u001b[1;32mdel\u001b[0m \u001b[0mentry_dic\u001b[0m\u001b[1;33m[\u001b[0m\u001b[0mmax\u001b[0m\u001b[1;33m(\u001b[0m\u001b[0mentry_dic\u001b[0m\u001b[1;33m)\u001b[0m\u001b[1;33m]\u001b[0m\u001b[1;33m\u001b[0m\u001b[1;33m\u001b[0m\u001b[0m\n\u001b[0;32m     23\u001b[0m     \u001b[1;32melse\u001b[0m\u001b[1;33m:\u001b[0m\u001b[1;33m\u001b[0m\u001b[1;33m\u001b[0m\u001b[0m\n\u001b[1;32m---> 24\u001b[1;33m         \u001b[0mrank_list\u001b[0m\u001b[1;33m.\u001b[0m\u001b[0mappend\u001b[0m\u001b[1;33m[\u001b[0m\u001b[0ma\u001b[0m\u001b[1;33m]\u001b[0m\u001b[1;33m\u001b[0m\u001b[1;33m\u001b[0m\u001b[0m\n\u001b[0m\u001b[0;32m     25\u001b[0m         \u001b[0mrank_ctry\u001b[0m\u001b[1;33m=\u001b[0m\u001b[1;33m[\u001b[0m\u001b[0ma\u001b[0m\u001b[1;33m[\u001b[0m\u001b[1;36m0\u001b[0m\u001b[1;33m]\u001b[0m\u001b[1;33m]\u001b[0m\u001b[1;33m\u001b[0m\u001b[1;33m\u001b[0m\u001b[0m\n\u001b[0;32m     26\u001b[0m         \u001b[1;32mdel\u001b[0m \u001b[0mentry_dic\u001b[0m\u001b[1;33m[\u001b[0m\u001b[0mmax\u001b[0m\u001b[1;33m(\u001b[0m\u001b[0mentry_dic\u001b[0m\u001b[1;33m)\u001b[0m\u001b[1;33m]\u001b[0m\u001b[1;33m\u001b[0m\u001b[1;33m\u001b[0m\u001b[0m\n",
      "\u001b[1;31mTypeError\u001b[0m: 'builtin_function_or_method' object is not subscriptable"
     ]
    }
   ],
   "source": [
    "N=int(input())\n",
    "entry_list=[]\n",
    "for i in range(N):\n",
    "    entry_list.append(list(map(int, input().split())))\n",
    "\n",
    "entry_list.sort()\n",
    "\n",
    "ctry_list=[entry_list[0][0]]\n",
    "for i in range(1,N):\n",
    "    if entry_list[i][0]!=entry_list[i-1][0]:\n",
    "        ctry_list.append(entry_list[i][0])\n",
    "\n",
    "entry_dic={}\n",
    "for i in range(N):\n",
    "    entry_dic[entry_list[i][2]]=entry_list[i][0:2]\n",
    "\n",
    "rank_list=[]\n",
    "rank_ctry=[]\n",
    "while len(rank_list)!=3:\n",
    "    a=entry_dic[max(entry_dic)]\n",
    "    if rank_ctry.count(a[0])==2: \n",
    "        del entry_dic[max(entry_dic)]\n",
    "    else:\n",
    "        rank_list.append(a)\n",
    "        rank_ctry.append(a[0])\n",
    "        del entry_dic[max(entry_dic)]\n",
    "\n",
    "for i in range(3):\n",
    "    print(rank_list[i][0], rank_list[i][1])\n",
    "    "
   ]
  },
  {
   "cell_type": "code",
   "execution_count": 10,
   "metadata": {},
   "outputs": [
    {
     "name": "stdout",
     "output_type": "stream",
     "text": [
      "4\n"
     ]
    }
   ],
   "source": [
    "a={1:2,3:2,4:1}\n",
    "print(max(a))\n"
   ]
  }
 ],
 "metadata": {
  "kernelspec": {
   "display_name": "Python 3",
   "language": "python",
   "name": "python3"
  },
  "language_info": {
   "codemirror_mode": {
    "name": "ipython",
    "version": 3
   },
   "file_extension": ".py",
   "mimetype": "text/x-python",
   "name": "python",
   "nbconvert_exporter": "python",
   "pygments_lexer": "ipython3",
   "version": "3.8.5"
  }
 },
 "nbformat": 4,
 "nbformat_minor": 4
}
