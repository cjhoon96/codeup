{
 "cells": [
  {
   "cell_type": "code",
   "execution_count": null,
   "metadata": {},
   "outputs": [],
   "source": [
    "import heapq\n",
    "import sys\n",
    "input = sys.stdin.readline\n",
    "INF = int(1e9)\n",
    "\n",
    "n = int(input())\n",
    "\n",
    "chess = [[INF for _ in range(n)] for _ in range(n)]\n",
    "\n",
    "st_y , st_x = map(int,input().split())\n",
    "ed_y , ed_x = map(int,input().split())\n",
    "\n",
    "st_y -= 1\n",
    "st_x -= 1\n",
    "ed_y -= 1\n",
    "ed_x -= 1\n",
    "\n",
    "dx = [2,2,-2,-2,1,1,-1,-1]\n",
    "dy = [1,-1,1,-1,2,-2,2,-2]\n",
    "\n",
    "q = []\n",
    "heapq.heappush(q, (0, st_x, st_y))\n",
    "chess[st_y][st_x] = 0\n",
    "while q:\n",
    "    cnt, now_x, now_y = heapq.heappop(q)\n",
    "    if chess[now_y][now_x] < cnt:\n",
    "        continue\n",
    "    if now_x == ed_x and now_y == ed_y:\n",
    "        break\n",
    "    for i in range(8):\n",
    "        cost = cnt + 1\n",
    "        nxt_x = now_x + dx[i]\n",
    "        nxt_y = now_y + dy[i]\n",
    "        if 0 <=nxt_x< n and 0 <=nxt_y< n:\n",
    "            if cost < chess[nxt_y][nxt_x]:\n",
    "                chess[nxt_y][nxt_x] = cost\n",
    "                heapq.heappush(q,(cost, nxt_x, nxt_y))\n",
    "                print(q)\n",
    "\n",
    "print(chess[ed_y][ed_x])"
   ]
  }
 ],
 "metadata": {
  "kernelspec": {
   "display_name": "Python 3",
   "language": "python",
   "name": "python3"
  },
  "language_info": {
   "codemirror_mode": {
    "name": "ipython",
    "version": 3
   },
   "file_extension": ".py",
   "mimetype": "text/x-python",
   "name": "python",
   "nbconvert_exporter": "python",
   "pygments_lexer": "ipython3",
   "version": "3.8.5"
  }
 },
 "nbformat": 4,
 "nbformat_minor": 4
}
