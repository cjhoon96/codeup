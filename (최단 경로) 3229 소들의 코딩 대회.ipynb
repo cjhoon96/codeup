{
 "cells": [
  {
   "cell_type": "code",
   "execution_count": null,
   "metadata": {},
   "outputs": [],
   "source": [
    "from collections import deque\n",
    "import sys\n",
    "input = sys.stdin.readline\n",
    "\n",
    "n,m = map(int,input().split())\n",
    "\n",
    "graph_up = [[] for _ in range(n+1)]\n",
    "graph_down = [[] for _ in range(n+1)]\n",
    "\n",
    "for _ in range(m):\n",
    "    a,b = map(int,input().split())\n",
    "    graph_up[a].append(b)\n",
    "    graph_down[b].append(a)\n",
    "\n",
    "def dij(start, graph):\n",
    "    visit[0] = 1\n",
    "\n",
    "    q = deque([start])\n",
    "    while q:\n",
    "        now = q.popleft()\n",
    "        if visit[now]:\n",
    "            continue\n",
    "        visit[now] = 1\n",
    "        for i in graph[now]:\n",
    "            if not visit[i]:\n",
    "                q.append(i)\n",
    "    if 0 not in visit:\n",
    "        return True\n",
    "    return False\n",
    "\n",
    "cnt =0\n",
    "for idx in range(1,n+1):\n",
    "    visit = [0 for _ in range(n+1)]\n",
    "    check = dij(idx,graph_up)\n",
    "    visit[idx] = 0\n",
    "    if dij(idx,graph_down):\n",
    "        cnt += 1\n",
    "\n",
    "print(cnt)"
   ]
  }
 ],
 "metadata": {
  "kernelspec": {
   "display_name": "Python 3",
   "language": "python",
   "name": "python3"
  },
  "language_info": {
   "codemirror_mode": {
    "name": "ipython",
    "version": 3
   },
   "file_extension": ".py",
   "mimetype": "text/x-python",
   "name": "python",
   "nbconvert_exporter": "python",
   "pygments_lexer": "ipython3",
   "version": "3.8.5"
  }
 },
 "nbformat": 4,
 "nbformat_minor": 4
}
