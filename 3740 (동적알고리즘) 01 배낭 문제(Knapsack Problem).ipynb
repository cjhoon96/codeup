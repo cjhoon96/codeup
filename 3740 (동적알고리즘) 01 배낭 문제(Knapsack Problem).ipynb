{
 "cells": [
  {
   "cell_type": "markdown",
   "metadata": {},
   "source": [
    "## 문제 설명    \n",
    "어떤 배낭에 W무게 만큼 물건을 담을 수 있다.\n",
    "\n",
    "물건들은 (무게 Wi, 가격 Vi) 정보를 가지고 있는데, 물건들을 조합해서 담아 가격의 총합이 최대가 되게 하려고 한다.\n",
    "\n",
    "물건들은 한 종류씩 밖에 없으며, 절대 배낭의 무게를 초과해서는 안 된다.\n",
    "\n",
    "## 입력\n",
    "첫째 줄에 물건의 개수 N(1<= N <= 100)과 배낭의 무게 W( 1 <= W <= 10000 )가 입력된다.\n",
    "\n",
    "둘째 줄부터 N+1째줄 까지 물건들의 정보가 wi, vi가 한 줄에 하나씩 입력된다. ( 1 <= Wi, Vi <= 100 )\n",
    "\n",
    "## 출력\n",
    "배낭의 무게 W를 초과하지 않으면서 물건의 가격의 총합의 최대값을 출력한다.\n",
    "\n",
    "## 입력 예시   \n",
    "4 5  \n",
    "2 3  \n",
    "1 2  \n",
    "3 3  \n",
    "2 2\n",
    "\n",
    "## 출력 예시\n",
    "7\n",
    "\n",
    "## 도움말\n",
    "1, 2, 4번 물건을 고른 결과이다.\n",
    "\n",
    "유사 발전 문제) 2013 KOI 고등부 4번 앱 문제\n",
    "\n",
    "※ 이 문제를 풀었으면 꼭 풀어 보시기 바랍니다."
   ]
  },
  {
   "cell_type": "code",
   "execution_count": null,
   "metadata": {},
   "outputs": [],
   "source": [
    "n,m=map(int, input().split())\n",
    "wp_dic=[]\n",
    "for _ in range(n):\n",
    "    wp_dic="
   ]
  }
 ],
 "metadata": {
  "kernelspec": {
   "display_name": "Python 3",
   "language": "python",
   "name": "python3"
  },
  "language_info": {
   "codemirror_mode": {
    "name": "ipython",
    "version": 3
   },
   "file_extension": ".py",
   "mimetype": "text/x-python",
   "name": "python",
   "nbconvert_exporter": "python",
   "pygments_lexer": "ipython3",
   "version": "3.8.5"
  }
 },
 "nbformat": 4,
 "nbformat_minor": 4
}
