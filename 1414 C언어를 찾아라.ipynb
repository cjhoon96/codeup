{
 "cells": [
  {
   "cell_type": "markdown",
   "metadata": {},
   "source": [
    "문제 설명      \n",
    "길이가 100 이하인 문자열로 구성된 암호문을 발견하였다.\n",
    "\n",
    "이 암호문은 예전에 작성된 것으로 판단된다.\n",
    "\n",
    "이 문자열에서 “C”라는 문자와 “CC”라는 문자가 몇 개 있는지 조사하고자 한다.\n",
    "\n",
    "길이가 100 이하인 문자열을 입력받아, \"C\"라는 문자와 \"CC\"라는 문자가 각각 몇 개 존재하는지 알아내는 프로그램을 작성하시오. (단, C, CC는 대소문자를 구분하지 않는다. 즉, \"cC\"는 \"CC\"와 같다.)\n",
    "\n",
    "입력\n",
    "① 첫 번째 줄에 길이가 100 이하인 문자열이 입력된다. 문자는 모두 대문자 또는 소문자로 이루어진다.\n",
    "\n",
    "② 대소문자의 구분이 없으므로 “C”는 2가지 경우, “CC”는 모두 서로 다른 4가지경우가 각각 존재할 수 있다.\n",
    "\n",
    "출력\n",
    "① 첫 번째 줄에는 문자열에서 찾은 “C”의 개수를 출력한다.\n",
    "\n",
    "② 두 번째 줄에는 문자열에서 찾은 “CC”의 개수를 출력한다.\n",
    "\n",
    "입력 예시   \n",
    "cCCc\n",
    "\n",
    "출력 예시\n",
    "4\n",
    "3\n",
    "\n",
    "도움말\n",
    "“C”는 4개, “CC”는 “cC”, “CC”, “Cc”와 같이 3개가 존재하므로 4, 3을 출력한다."
   ]
  },
  {
   "cell_type": "code",
   "execution_count": null,
   "metadata": {},
   "outputs": [],
   "source": [
    "import sys\n",
    "input=sys.stdin.readline\n",
    "\n",
    "s=input()\n",
    "s=s.lower()\n",
    "\n",
    "print(s.count('c'))\n",
    "\n",
    "l=[]\n",
    "\n",
    "count=0\n",
    "\n",
    "a,b=0,2\n",
    "while b<=len(s):\n",
    "    if s[a:b]=='cc':\n",
    "        count+=1\n",
    "    a+=2\n",
    "    b+=2\n",
    "\n",
    "a,b=1,3\n",
    "while b<=len(s):\n",
    "    if s[a:b]=='cc':\n",
    "        count+=1\n",
    "    a+=2\n",
    "    b+=2\n",
    "\n",
    "print(count)"
   ]
  }
 ],
 "metadata": {
  "kernelspec": {
   "display_name": "Python 3",
   "language": "python",
   "name": "python3"
  },
  "language_info": {
   "codemirror_mode": {
    "name": "ipython",
    "version": 3
   },
   "file_extension": ".py",
   "mimetype": "text/x-python",
   "name": "python",
   "nbconvert_exporter": "python",
   "pygments_lexer": "ipython3",
   "version": "3.8.5"
  }
 },
 "nbformat": 4,
 "nbformat_minor": 4
}
