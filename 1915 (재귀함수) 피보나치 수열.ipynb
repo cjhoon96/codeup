{
 "cells": [
  {
   "cell_type": "markdown",
   "metadata": {},
   "source": [
    "## 문제 설명    \n",
    "피보나치 수열이란 앞의 두 수를 더하여 나오는 수열이다.\n",
    "\n",
    "첫 번째 수와 두 번째 수는 모두 1이고, 세 번째 수부터는 이전의 두 수를 더하여 나타낸다. 피보나치 수열을 나열해 보면 다음과 같다.\n",
    "\n",
    " \n",
    "\n",
    "1, 1, 2, 3, 5, 8, 13 …\n",
    "\n",
    " \n",
    "\n",
    "자연수 N을 입력받아 N번째 피보나치 수를 출력하는 프로그램을 작성하시오.\n",
    "\n",
    "※ 이 문제는 반드시 재귀함수를 이용하여 작성 해야한다.\n",
    "\n",
    "## 금지 키워드 : for while goto\n",
    "## 입력\n",
    "자연수 N이 입력된다. (N은 20보다 같거나 작다.)\n",
    "\n",
    "## 출력\n",
    "N번째 피보나치 수를 출력한다.\n",
    "\n",
    "## 입력 예시   \n",
    "7\n",
    "\n",
    "## 출력 예시\n",
    "13"
   ]
  },
  {
   "cell_type": "code",
   "execution_count": 1,
   "metadata": {},
   "outputs": [
    {
     "name": "stdout",
     "output_type": "stream",
     "text": [
      "3\n",
      "2\n"
     ]
    }
   ],
   "source": [
    "def fib(n):\n",
    "    if n<=2:\n",
    "        return 1\n",
    "    else:\n",
    "        return fib(n-1)+fib(n-2)\n",
    "print(fib(int(input())))"
   ]
  }
 ],
 "metadata": {
  "kernelspec": {
   "display_name": "Python 3",
   "language": "python",
   "name": "python3"
  },
  "language_info": {
   "codemirror_mode": {
    "name": "ipython",
    "version": 3
   },
   "file_extension": ".py",
   "mimetype": "text/x-python",
   "name": "python",
   "nbconvert_exporter": "python",
   "pygments_lexer": "ipython3",
   "version": "3.8.5"
  }
 },
 "nbformat": 4,
 "nbformat_minor": 4
}
