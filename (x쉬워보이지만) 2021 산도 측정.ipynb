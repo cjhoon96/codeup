{
 "cells": [
  {
   "cell_type": "code",
   "execution_count": 5,
   "metadata": {},
   "outputs": [
    {
     "name": "stdin",
     "output_type": "stream",
     "text": [
      " 5\n",
      " 1\n",
      " 1\n",
      " 1\n",
      " 4\n",
      " 3\n"
     ]
    },
    {
     "name": "stdout",
     "output_type": "stream",
     "text": [
      "{0}\n",
      "0\n"
     ]
    }
   ],
   "source": [
    "R_list = [0 for _ in range(1001)]\n",
    "\n",
    "n = int(input())\n",
    "\n",
    "for _ in range(n):\n",
    "    R_list[int(input())] += 1\n",
    "\n",
    "R = tuple(R_list)\n",
    "    \n",
    "max_1 = max(R_list)\n",
    "R_list.remove(max_1)\n",
    "max_2 = max(R_list)\n",
    "R_list.remove(max_2)\n",
    "\n",
    "max1_set = set()\n",
    "max2_set = set()\n",
    "for idx in range(1001):\n",
    "    if R[idx] == max_1:\n",
    "        max1_set.add(idx)\n",
    "    if len(max1_set)>1:\n",
    "        continue\n",
    "    elif R[idx] == max_2:\n",
    "        max2_set.add(idx)\n",
    "\n",
    "check_dic = set()\n",
    "if len(max1_set) != 1:\n",
    "    print(max(max1_set)-min(max1_set))\n",
    "\n",
    "else:\n",
    "    M_1 = max(max1_set)\n",
    "    m_1 = min(max1_set)\n",
    "    M_2 = max(max2_set)\n",
    "    m_2 = min(max2_set)\n",
    "    check = [abs(M_1 - m_2), abs(M_2 - m_1)]\n",
    "    print(max(check))"
   ]
  },
  {
   "cell_type": "code",
   "execution_count": 18,
   "metadata": {},
   "outputs": [
    {
     "name": "stdin",
     "output_type": "stream",
     "text": [
      " 5\n",
      " 1\n",
      " 1\n",
      " 1\n",
      " 4\n",
      " 3\n"
     ]
    },
    {
     "name": "stdout",
     "output_type": "stream",
     "text": [
      "3\n"
     ]
    }
   ],
   "source": [
    "R_dic = {}\n",
    "\n",
    "n = int(input())\n",
    "for _ in range(n):\n",
    "    R = int(input())\n",
    "    if R in R_dic:\n",
    "        R_dic[R] += 1\n",
    "    else:\n",
    "        R_dic[R] = 1\n",
    "        \n",
    "max_1 = max(R_dic.values())\n",
    "max1_set = set()\n",
    "check = tuple(R_dic.items())\n",
    "\n",
    "for k, v in check:    \n",
    "    if v == max_1:\n",
    "        del R_dic[k]\n",
    "        max1_set.add(k)\n",
    "\n",
    "if len(max1_set) != 1:\n",
    "    print(max(max1_set)-min(max1_set))\n",
    "\n",
    "else:\n",
    "    max_2 = max(R_dic.values())\n",
    "    max2_set = set()\n",
    "    check = tuple(R_dic.items())\n",
    "    for k, v in check:\n",
    "        if v == max_2:\n",
    "            max2_set.add(k)\n",
    "    M_1 = max(max1_set)\n",
    "    m_1 = min(max1_set)\n",
    "    M_2 = max(max2_set)\n",
    "    m_2 = min(max2_set)\n",
    "    check = [abs(M_1 - m_2), abs(M_2 - m_1)]\n",
    "    print(max(check))    "
   ]
  },
  {
   "cell_type": "code",
   "execution_count": 23,
   "metadata": {},
   "outputs": [
    {
     "name": "stdin",
     "output_type": "stream",
     "text": [
      " 10\n",
      " 9\n",
      " 8\n",
      " 7\n",
      " 6\n",
      " 7\n",
      " 8\n",
      " 9\n",
      " 6\n",
      " 8\n",
      " 4\n"
     ]
    },
    {
     "name": "stdout",
     "output_type": "stream",
     "text": [
      "[0, 0, 0, 0, 1, 0, 2, 2, 3, 2, 0, 0, 0, 0, 0, 0, 0, 0, 0, 0, 0, 0, 0, 0, 0, 0, 0, 0, 0, 0, 0, 0, 0, 0, 0, 0, 0, 0, 0, 0, 0, 0, 0, 0, 0, 0, 0, 0, 0, 0, 0, 0, 0, 0, 0, 0, 0, 0, 0, 0, 0, 0, 0, 0, 0, 0, 0, 0, 0, 0, 0, 0, 0, 0, 0, 0, 0, 0, 0, 0, 0, 0, 0, 0, 0, 0, 0, 0, 0, 0, 0, 0, 0, 0, 0, 0, 0, 0, 0, 0, 0, 0, 0, 0, 0, 0, 0, 0, 0, 0, 0, 0, 0, 0, 0, 0, 0, 0, 0, 0, 0, 0, 0, 0, 0, 0, 0, 0, 0, 0, 0, 0, 0, 0, 0, 0, 0, 0, 0, 0, 0, 0, 0, 0, 0, 0, 0, 0, 0, 0, 0, 0, 0, 0, 0, 0, 0, 0, 0, 0, 0, 0, 0, 0, 0, 0, 0, 0, 0, 0, 0, 0, 0, 0, 0, 0, 0, 0, 0, 0, 0, 0, 0, 0, 0, 0, 0, 0, 0, 0, 0, 0, 0, 0, 0, 0, 0, 0, 0, 0, 0, 0, 0, 0, 0, 0, 0, 0, 0, 0, 0, 0, 0, 0, 0, 0, 0, 0, 0, 0, 0, 0, 0, 0, 0, 0, 0, 0, 0, 0, 0, 0, 0, 0, 0, 0, 0, 0, 0, 0, 0, 0, 0, 0, 0, 0, 0, 0, 0, 0, 0, 0, 0, 0, 0, 0, 0, 0, 0, 0, 0, 0, 0, 0, 0, 0, 0, 0, 0, 0, 0, 0, 0, 0, 0, 0, 0, 0, 0, 0, 0, 0, 0, 0, 0, 0, 0, 0, 0, 0, 0, 0, 0, 0, 0, 0, 0, 0, 0, 0, 0, 0, 0, 0, 0, 0, 0, 0, 0, 0, 0, 0, 0, 0, 0, 0, 0, 0, 0, 0, 0, 0, 0, 0, 0, 0, 0, 0, 0, 0, 0, 0, 0, 0, 0, 0, 0, 0, 0, 0, 0, 0, 0, 0, 0, 0, 0, 0, 0, 0, 0, 0, 0, 0, 0, 0, 0, 0, 0, 0, 0, 0, 0, 0, 0, 0, 0, 0, 0, 0, 0, 0, 0, 0, 0, 0, 0, 0, 0, 0, 0, 0, 0, 0, 0, 0, 0, 0, 0, 0, 0, 0, 0, 0, 0, 0, 0, 0, 0, 0, 0, 0, 0, 0, 0, 0, 0, 0, 0, 0, 0, 0, 0, 0, 0, 0, 0, 0, 0, 0, 0, 0, 0, 0, 0, 0, 0, 0, 0, 0, 0, 0, 0, 0, 0, 0, 0, 0, 0, 0, 0, 0, 0, 0, 0, 0, 0, 0, 0, 0, 0, 0, 0, 0, 0, 0, 0, 0, 0, 0, 0, 0, 0, 0, 0, 0, 0, 0, 0, 0, 0, 0, 0, 0, 0, 0, 0, 0, 0, 0, 0, 0, 0, 0, 0, 0, 0, 0, 0, 0, 0, 0, 0, 0, 0, 0, 0, 0, 0, 0, 0, 0, 0, 0, 0, 0, 0, 0, 0, 0, 0, 0, 0, 0, 0, 0, 0, 0, 0, 0, 0, 0, 0, 0, 0, 0, 0, 0, 0, 0, 0, 0, 0, 0, 0, 0, 0, 0, 0, 0, 0, 0, 0, 0, 0, 0, 0, 0, 0, 0, 0, 0, 0, 0, 0, 0, 0, 0, 0, 0, 0, 0, 0, 0, 0, 0, 0, 0, 0, 0, 0, 0, 0, 0, 0, 0, 0, 0, 0, 0, 0, 0, 0, 0, 0, 0, 0, 0, 0, 0, 0, 0, 0, 0, 0, 0, 0, 0, 0, 0, 0, 0, 0, 0, 0, 0, 0, 0, 0, 0, 0, 0, 0, 0, 0, 0, 0, 0, 0, 0, 0, 0, 0, 0, 0, 0, 0, 0, 0, 0, 0, 0, 0, 0, 0, 0, 0, 0, 0, 0, 0, 0, 0, 0, 0, 0, 0, 0, 0, 0, 0, 0, 0, 0, 0, 0, 0, 0, 0, 0, 0, 0, 0, 0, 0, 0, 0, 0, 0, 0, 0, 0, 0, 0, 0, 0, 0, 0, 0, 0, 0, 0, 0, 0, 0, 0, 0, 0, 0, 0, 0, 0, 0, 0, 0, 0, 0, 0, 0, 0, 0, 0, 0, 0, 0, 0, 0, 0, 0, 0, 0, 0, 0, 0, 0, 0, 0, 0, 0, 0, 0, 0, 0, 0, 0, 0, 0, 0, 0, 0, 0, 0, 0, 0, 0, 0, 0, 0, 0, 0, 0, 0, 0, 0, 0, 0, 0, 0, 0, 0, 0, 0, 0, 0, 0, 0, 0, 0, 0, 0, 0, 0, 0, 0, 0, 0, 0, 0, 0, 0, 0, 0, 0, 0, 0, 0, 0, 0, 0, 0, 0, 0, 0, 0, 0, 0, 0, 0, 0, 0, 0, 0, 0, 0, 0, 0, 0, 0, 0, 0, 0, 0, 0, 0, 0, 0, 0, 0, 0, 0, 0, 0, 0, 0, 0, 0, 0, 0, 0, 0, 0, 0, 0, 0, 0, 0, 0, 0, 0, 0, 0, 0, 0, 0, 0, 0, 0, 0, 0, 0, 0, 0, 0, 0, 0, 0, 0, 0, 0, 0, 0, 0, 0, 0, 0, 0, 0, 0, 0, 0, 0, 0, 0, 0, 0, 0, 0, 0, 0, 0, 0, 0, 0, 0, 0, 0, 0, 0, 0, 0, 0, 0, 0, 0, 0, 0, 0, 0, 0, 0, 0, 0, 0, 0, 0, 0, 0, 0, 0, 0, 0, 0, 0, 0, 0, 0, 0, 0, 0, 0, 0, 0, 0, 0, 0, 0, 0, 0, 0, 0, 0, 0, 0, 0, 0, 0, 0, 0, 0, 0, 0, 0, 0, 0, 0, 0, 0, 0, 0, 0, 0, 0, 0, 0, 0, 0, 0, 0, 0, 0, 0, 0, 0, 0, 0, 0, 0, 0, 0, 0, 0, 0, 0, 0, 0, 0, 0, 0, 0, 0, 0, 0, 0, 0, 0, 0, 0, 0, 0, 0, 0, 0, 0, 0, 0, 0, 0, 0, 0, 0, 0, 0, 0, 0, 0, 0, 0, 0, 0, 0, 0]\n",
      "{8}\n",
      "{9}\n",
      "1\n"
     ]
    }
   ],
   "source": [
    "R_list = [0 for _ in range(1001)]\n",
    "\n",
    "n = int(input())\n",
    "\n",
    "for _ in range(n):\n",
    "    R_list[int(input())] += 1\n",
    "\n",
    "print(R_list)\n",
    "\n",
    "R = tuple(R_list)\n",
    "\n",
    "max_1 = max(R)\n",
    "\n",
    "set_1 = set()\n",
    "\n",
    "idx = 1000\n",
    "while True:\n",
    "    if R[idx] == max_1:\n",
    "        set_1.add(idx)\n",
    "        break\n",
    "    idx -= 1\n",
    "\n",
    "idx = 1\n",
    "while True:\n",
    "    if R[idx] == max_1:\n",
    "        set_1.add(idx)\n",
    "        break\n",
    "    idx += 1\n",
    "\n",
    "print(set_1)\n",
    "    \n",
    "if len(set_1) == 2:\n",
    "    print(max(set_1)-min(set_2))\n",
    "\n",
    "else:\n",
    "    R_list.remove(max_1)\n",
    "    check_1 = set_1.pop()\n",
    "    max_2 = max(R_list)\n",
    "    set_2 = set()\n",
    "    \n",
    "    idx = 1000\n",
    "    while True:\n",
    "        if R[idx] == max_2:\n",
    "            set_2.add(idx)\n",
    "            break\n",
    "        idx -= 1\n",
    "        \n",
    "    idx = 1\n",
    "    while True:\n",
    "        if R[idx] == max_2:\n",
    "            set_1.add(idx)\n",
    "            break\n",
    "        idx += 1\n",
    "    \n",
    "    print(set_2)\n",
    "    \n",
    "    case_1 = abs(max(set_2)-check_1)\n",
    "    case_2 = abs(min(set_2)-check_1)\n",
    "    print(max((case_1,case_2)))"
   ]
  },
  {
   "cell_type": "code",
   "execution_count": 2,
   "metadata": {},
   "outputs": [
    {
     "ename": "SyntaxError",
     "evalue": "invalid syntax (<ipython-input-2-768019af2bba>, line 43)",
     "output_type": "error",
     "traceback": [
      "\u001b[1;36m  File \u001b[1;32m\"<ipython-input-2-768019af2bba>\"\u001b[1;36m, line \u001b[1;32m43\u001b[0m\n\u001b[1;33m    print(max{abs(a-max(set_2)),abs(a-min(set_2))})\u001b[0m\n\u001b[1;37m             ^\u001b[0m\n\u001b[1;31mSyntaxError\u001b[0m\u001b[1;31m:\u001b[0m invalid syntax\n"
     ]
    }
   ],
   "source": [
    "def max_idx(R,m):\n",
    "    idx_set = set()\n",
    "    idx = 1000\n",
    "    while True:\n",
    "        if R[idx] == m:\n",
    "            idx_set.add(idx)\n",
    "            break\n",
    "        else:\n",
    "            idx -= 1\n",
    "    idx = 1\n",
    "    while True:\n",
    "        if R[idx] == m:\n",
    "            idx_set.add(idx)\n",
    "            break\n",
    "        else:\n",
    "            idx += 1\n",
    "    return idx_set\n",
    "\n",
    "\n",
    "R_list = [0 for _ in range(1001)]\n",
    "\n",
    "n = int(input())\n",
    "\n",
    "for _ in range(n):\n",
    "    R_list[int(input())] += 1\n",
    "\n",
    "R = tuple(R_list)\n",
    "\n",
    "\n",
    "check_max = set(R_list)\n",
    "max_1 = max(check_max)\n",
    "check_max -= {max_1}\n",
    "\n",
    "\n",
    "set_1 = max_idx(R,max_1)\n",
    "\n",
    "if len(set_1) == 1:\n",
    "    max_2 = max(check_max)\n",
    "    a = set_1.pop()\n",
    "    \n",
    "    set_2 = max_idx(R,max_2)\n",
    "    \n",
    "    print(max({abs(a-max(set_2)),abs(a-min(set_2))}))\n",
    "        \n",
    "else:\n",
    "    print(max(set_1)-min(set_1))\n"
   ]
  },
  {
   "cell_type": "code",
   "execution_count": null,
   "metadata": {},
   "outputs": [],
   "source": [
    "def max_idx(R)\n",
    "    idx_set = set()\n",
    "    idx = 1000\n",
    "    while True:\n",
    "        if R[idx] == max_2:\n",
    "            idx_set.add(idx)\n",
    "            break\n",
    "        else:\n",
    "            idx -= 1\n",
    "    idx = 1\n",
    "    while True:\n",
    "        if R[idx] == max_2:\n",
    "            idx_set.add(idx)\n",
    "            break\n",
    "        else:\n",
    "            idx += 1\n",
    "    return idx_set"
   ]
  }
 ],
 "metadata": {
  "kernelspec": {
   "display_name": "Python 3",
   "language": "python",
   "name": "python3"
  },
  "language_info": {
   "codemirror_mode": {
    "name": "ipython",
    "version": 3
   },
   "file_extension": ".py",
   "mimetype": "text/x-python",
   "name": "python",
   "nbconvert_exporter": "python",
   "pygments_lexer": "ipython3",
   "version": "3.8.5"
  }
 },
 "nbformat": 4,
 "nbformat_minor": 4
}
