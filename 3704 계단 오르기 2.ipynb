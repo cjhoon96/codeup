{
 "cells": [
  {
   "cell_type": "markdown",
   "metadata": {},
   "source": [
    "## 문제 설명    \n",
    "n개의 계단이 있다.\n",
    "\n",
    "어떤 사람이 계단을 오르려 하는데 이 사람은 계단을 한번에 1계단 2계단 또는 3계단씩 오를 수 있다.\n",
    "\n",
    "이 사람이 계단을 오를수 있는 경우의 수를 1000으로 나눈 나머지를 구하여라\n",
    "\n",
    "## 입력\n",
    "계단의 수 n이 입력된다. ( 1 <= n <= 100,000 )\n",
    "\n",
    "## 출력\n",
    "계단을 오를 수 있는 가지수에 1000으로 나눈 나머지를 출력한다.\n",
    "\n",
    "## 입력 예시   \n",
    "5\n",
    "\n",
    "## 출력 예시\n",
    "13\n",
    "\n",
    "## 도움말\n",
    "5=1+1+1+1+1\n",
    "\n",
    "5=1+1+1+2\n",
    "\n",
    "5=1+1+2+1\n",
    "\n",
    "5=1+2+1+1\n",
    "\n",
    "5=2+1+1+1\n",
    "\n",
    "5=1+1+3\n",
    "\n",
    "5=1+3+1\n",
    "\n",
    "5=3+1+1\n",
    "\n",
    "5=1+2+2\n",
    "\n",
    "5=2+1+2\n",
    "\n",
    "5=2+2+1\n",
    "\n",
    "5=2+3\n",
    "\n",
    "5=3+2\n",
    "\n",
    "이렇게 총 13가지 경우가 존재한다."
   ]
  },
  {
   "cell_type": "code",
   "execution_count": 1,
   "metadata": {},
   "outputs": [
    {
     "name": "stdout",
     "output_type": "stream",
     "text": [
      "100000\n",
      "257\n"
     ]
    }
   ],
   "source": [
    "st_dic={}\n",
    "def st(n):\n",
    "    st_dic[1]=1\n",
    "    st_dic[2]=2\n",
    "    st_dic[3]=4\n",
    "    for i in range(4,n+1):\n",
    "        st_dic[i]=st_dic[i-1]+st_dic[i-2]+st_dic[i-3]\n",
    "    return st_dic[n]%1000\n",
    "print(st(int(input())))"
   ]
  },
  {
   "cell_type": "code",
   "execution_count": null,
   "metadata": {},
   "outputs": [
    {
     "name": "stdout",
     "output_type": "stream",
     "text": [
      "10000\n"
     ]
    }
   ],
   "source": [
    "import sys\n",
    "sys.setrecursionlimit(1000000) \n",
    "st_dic={1:1, 2:2, 3:4}\n",
    "def st(n):\n",
    "    if n not in st_dic:\n",
    "        st_dic[n]=(st(n-1)+st(n-2)+st(n-3))%1000\n",
    "    return st_dic[n]\n",
    "print(st(int(input())))"
   ]
  }
 ],
 "metadata": {
  "kernelspec": {
   "display_name": "Python 3",
   "language": "python",
   "name": "python3"
  },
  "language_info": {
   "codemirror_mode": {
    "name": "ipython",
    "version": 3
   },
   "file_extension": ".py",
   "mimetype": "text/x-python",
   "name": "python",
   "nbconvert_exporter": "python",
   "pygments_lexer": "ipython3",
   "version": "3.8.5"
  }
 },
 "nbformat": 4,
 "nbformat_minor": 4
}
