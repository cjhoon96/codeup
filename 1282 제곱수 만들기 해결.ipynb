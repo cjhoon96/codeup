{
 "cells": [
  {
   "cell_type": "markdown",
   "metadata": {},
   "source": [
    "문제 설명       \n",
    "n이 입력되면 k를 빼서 제곱수를 만들 수 있는 k를 구하고,\n",
    "\n",
    "그 제곱수에 루트를 씌운 수(제곱근) t를 구하여라.\n",
    "\n",
    "이 때 k는 여러가지가 될 수 있는데 가장 작은 k를 출력한다.\n",
    "\n",
    "입력\n",
    "n이 입력된다.(0<k<n<=231)\n",
    "\n",
    "출력\n",
    "k와 t를 출력한다. 이 때 k는 여러가지가 될 수 있는데 가장 작은 k를 출력한다.\n",
    "\n",
    "입력 예시   \n",
    "34\n",
    "\n",
    "출력 예시\n",
    "9 5\n",
    "\n",
    "도움말\n",
    "34에서 9를 빼면 25이고, 25의 제곱근은 5이다."
   ]
  },
  {
   "cell_type": "code",
   "execution_count": null,
   "metadata": {},
   "outputs": [],
   "source": [
    "from math import sqrt\n",
    "n=int(input())\n",
    "k=1\n",
    "a=0.1\n",
    "while a-int(a)!=0:\n",
    "    a=sqrt(n-k)\n",
    "    k+=1\n",
    "print(k-1,int(a))\n"
   ]
  }
 ],
 "metadata": {
  "kernelspec": {
   "display_name": "Python 3",
   "language": "python",
   "name": "python3"
  },
  "language_info": {
   "codemirror_mode": {
    "name": "ipython",
    "version": 3
   },
   "file_extension": ".py",
   "mimetype": "text/x-python",
   "name": "python",
   "nbconvert_exporter": "python",
   "pygments_lexer": "ipython3",
   "version": "3.8.5"
  }
 },
 "nbformat": 4,
 "nbformat_minor": 4
}
