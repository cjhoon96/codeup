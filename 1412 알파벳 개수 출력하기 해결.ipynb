{
 "cells": [
  {
   "cell_type": "markdown",
   "metadata": {},
   "source": [
    "문제 설명       \n",
    "영어 공부에 빠져 있는 주현이는 영어 책을 자주 본다.\n",
    "\n",
    "어느 날 영어 문장을 보면서 어떤 알파벳 문자가 많이 사용되는지 궁금해졌다.\n",
    "\n",
    "영어 문장이 주어지면 a부터 z까지 알파벳 문자가 각각 몇 번 나왔는지 출력하는 프로그램을 작성하시오.\n",
    "\n",
    "입력\n",
    "① 90글자 이내의 영어로 된 문장이 입력된다.\n",
    "\n",
    "② 이 문장은 영어 소문자, 공백 및 특수 문자로만 이루어져 있다.\n",
    "\n",
    "출력\n",
    "a부터 z까지 사용된 알파벳 개수를 [입출력 예시]를 참고하여 출력한다. 특수문자와 공백의 개수는 출력하지 않는다.\n",
    "\n",
    "입력 예시   \n",
    "oh! my god!\n",
    "\n",
    "출력 예시\n",
    "a:0\n",
    "b:0\n",
    "c:0\n",
    "d:1\n",
    "e:0\n",
    "f:0\n",
    "g:1\n",
    "h:1\n",
    "i:0\n",
    "j:0\n",
    "k:0\n",
    "l:0\n",
    "m:1\n",
    "n:0\n",
    "o:2\n",
    "p:0\n",
    "q:0\n",
    "r:0\n",
    "s:0\n",
    "t:0\n",
    "u:0\n",
    "v:0\n",
    "w:0\n",
    "x:0\n",
    "y:1\n",
    "z:0"
   ]
  },
  {
   "cell_type": "code",
   "execution_count": null,
   "metadata": {},
   "outputs": [],
   "source": [
    "import sys\n",
    "input=sys.stdin.readline\n",
    "from string import ascii_lowercase\n",
    "\n",
    "s=input()\n",
    "\n",
    "a=ascii_lowercase\n",
    "\n",
    "alpha_dic={}\n",
    "for i in a:\n",
    "    alpha_dic[i]=0\n",
    "\n",
    "for i in s:\n",
    "    if i in alpha_dic:\n",
    "        alpha_dic[i]+=1\n",
    "for j in a:\n",
    "    print('%s:%d'%(j,alpha_dic[j]))"
   ]
  }
 ],
 "metadata": {
  "kernelspec": {
   "display_name": "Python 3",
   "language": "python",
   "name": "python3"
  },
  "language_info": {
   "codemirror_mode": {
    "name": "ipython",
    "version": 3
   },
   "file_extension": ".py",
   "mimetype": "text/x-python",
   "name": "python",
   "nbconvert_exporter": "python",
   "pygments_lexer": "ipython3",
   "version": "3.8.5"
  }
 },
 "nbformat": 4,
 "nbformat_minor": 4
}
