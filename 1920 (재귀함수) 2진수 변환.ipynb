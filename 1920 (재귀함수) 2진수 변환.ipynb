{
 "cells": [
  {
   "cell_type": "markdown",
   "metadata": {},
   "source": [
    "문제 분류 : 보기\n",
    "문제 설명    \n",
    "어떤 10진수 n이 주어지면 2진수로 변환해서 출력하시오.\n",
    "\n",
    "예)\n",
    "\n",
    "10    ----->  1010\n",
    "\n",
    "0    ----->  0\n",
    "\n",
    "1    ----->  1\n",
    "\n",
    "2    ----->  10\n",
    "\n",
    "1024    ----->  10000000000\n",
    "\n",
    "이 문제는 반복문을 이용하여 풀 수 없습니다.\n",
    "\n",
    "금지 키워드 : for while goto\n",
    "입력\n",
    "10진수 정수 n이 입력된다.\n",
    "\n",
    "(0<=n<=2,100,000,000)\n",
    "출력\n",
    "2진수로 변환해서 출력한다.\n",
    "\n",
    "입력 예시   \n",
    "7\n",
    "\n",
    "출력 예시\n",
    "111"
   ]
  },
  {
   "cell_type": "code",
   "execution_count": 5,
   "metadata": {},
   "outputs": [
    {
     "name": "stdout",
     "output_type": "stream",
     "text": [
      "10\n",
      "1010\n"
     ]
    }
   ],
   "source": [
    "n=int(input())\n",
    "def binary(n):\n",
    "    bi=''\n",
    "    if n<2:\n",
    "        bi=str(n)+bi\n",
    "        return  bi\n",
    "    else:\n",
    "        bi=binary(n//2)+str(n%2)\n",
    "        return bi\n",
    "\n",
    "print(binary(n))"
   ]
  },
  {
   "cell_type": "code",
   "execution_count": 3,
   "metadata": {},
   "outputs": [
    {
     "name": "stdout",
     "output_type": "stream",
     "text": [
      "10\n",
      "1010None\n"
     ]
    }
   ],
   "source": [
    "# n=int(input(n))\n",
    "n=int(input())\n",
    "def print_binary(n):\n",
    "    if n<2:\n",
    "        print(n,end='')\n",
    "    else:\n",
    "        print_binary(n//2)\n",
    "        print(n%2, end='')\n",
    "print(print_binary(n))"
   ]
  },
  {
   "cell_type": "code",
   "execution_count": 4,
   "metadata": {},
   "outputs": [],
   "source": [
    "def RECURSIVE(x):\n",
    "    if x==0:\n",
    "        return\n",
    "    else: \n",
    "        RECURSIVE(x//2)\n",
    "        print(x%2)"
   ]
  }
 ],
 "metadata": {
  "kernelspec": {
   "display_name": "Python 3",
   "language": "python",
   "name": "python3"
  },
  "language_info": {
   "codemirror_mode": {
    "name": "ipython",
    "version": 3
   },
   "file_extension": ".py",
   "mimetype": "text/x-python",
   "name": "python",
   "nbconvert_exporter": "python",
   "pygments_lexer": "ipython3",
   "version": "3.8.5"
  }
 },
 "nbformat": 4,
 "nbformat_minor": 4
}
