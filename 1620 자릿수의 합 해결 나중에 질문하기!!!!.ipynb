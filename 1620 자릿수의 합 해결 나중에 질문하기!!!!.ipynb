{
 "cells": [
  {
   "cell_type": "markdown",
   "metadata": {},
   "source": [
    "문제 설명      \n",
    "어떤 수 n이 입력되면 n의 각 자릿수의 합이 한 자리가 될때까지 계산하여 출력하시오.\n",
    "\n",
    "예) 1234567\n",
    "\n",
    "1234567 → 1+2+3+4+5+6+7 = 28 → 2 + 8 = 10 → 1 + 0 = 1\n",
    "\n",
    "입력\n",
    "자연수 n이 입력된다. (1 <= n <= 10,000,000)\n",
    "\n",
    "출력\n",
    "자릿수의 합이 한자리가 될때까지 계산하여 출력한다.\n",
    "\n",
    "입력 예시   \n",
    "1234567\n",
    "\n",
    "출력 예시\n",
    "1"
   ]
  },
  {
   "cell_type": "code",
   "execution_count": null,
   "metadata": {},
   "outputs": [],
   "source": [
    "import sys\n",
    "input=sys.stdin.readline\n",
    "\n",
    "a=input()\n",
    "\n",
    "def fun(a):\n",
    "    sum=0\n",
    "    for i in a:\n",
    "        sum+=int(i)\n",
    "    return str(sum)\n",
    "\n",
    "while len(a)!=1:\n",
    "    a=fun(a)\n",
    "print(a)\n",
    "\n",
    "\n",
    "## 나중에 질문하기 비주얼 스튜디오에서만 안됐음 위에 임포트 빼면 가능"
   ]
  }
 ],
 "metadata": {
  "kernelspec": {
   "display_name": "Python 3",
   "language": "python",
   "name": "python3"
  },
  "language_info": {
   "codemirror_mode": {
    "name": "ipython",
    "version": 3
   },
   "file_extension": ".py",
   "mimetype": "text/x-python",
   "name": "python",
   "nbconvert_exporter": "python",
   "pygments_lexer": "ipython3",
   "version": "3.8.5"
  }
 },
 "nbformat": 4,
 "nbformat_minor": 4
}
