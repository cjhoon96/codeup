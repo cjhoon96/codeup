{
 "cells": [
  {
   "cell_type": "code",
   "execution_count": null,
   "metadata": {},
   "outputs": [],
   "source": [
    "n = int(input())\n",
    "\n",
    "def f(a):\n",
    "    b = str(a)\n",
    "    length = len(b)\n",
    "    if b[0] = '1':\n",
    "        num = '1' + '0'*(length - 1)\n",
    "       \n",
    "        if num = b:\n",
    "            return num\n",
    "\n",
    "        else:    \n",
    "            now_check = -1\n",
    "            vs_list = [0 for i in range(length-1)]+[1]\n",
    "            num[-1] = '1'\n",
    "            while int(num) < a :\n",
    "                   \n",
    "    else:\n",
    "        return [1] + [0 for i in range(length)]"
   ]
  },
  {
   "cell_type": "code",
   "execution_count": 2,
   "metadata": {},
   "outputs": [
    {
     "name": "stdout",
     "output_type": "stream",
     "text": [
      "[1, 0, 0, 0]\n"
     ]
    }
   ],
   "source": [
    "print([1] + [0 for i in range(3)])"
   ]
  },
  {
   "cell_type": "code",
   "execution_count": 6,
   "metadata": {},
   "outputs": [
    {
     "name": "stdin",
     "output_type": "stream",
     "text": [
      " 3\n"
     ]
    },
    {
     "name": "stdout",
     "output_type": "stream",
     "text": [
      "111\n"
     ]
    }
   ],
   "source": [
    "n = int(input())\n",
    "\n",
    "k = 1\n",
    "\n",
    "while True:\n",
    "    num_str = str(n*k)\n",
    "    length = len(num_str)\n",
    "    for i in range(length):\n",
    "        if int(num_str[i]) > 1:\n",
    "            break\n",
    "    else:\n",
    "        num = int(num_str)\n",
    "        break\n",
    "    k += 1\n",
    "\n",
    "print(num)"
   ]
  },
  {
   "cell_type": "code",
   "execution_count": 19,
   "metadata": {},
   "outputs": [
    {
     "name": "stdin",
     "output_type": "stream",
     "text": [
      " 1048576\n"
     ]
    },
    {
     "name": "stdout",
     "output_type": "stream",
     "text": [
      "0\n"
     ]
    }
   ],
   "source": [
    "n = int(input())\n",
    "\n",
    "check = '1'+'0'*(len(str(n))-1)\n",
    "\n",
    "now_check = int('0b'+check, 2)\n",
    "\n",
    "while True:\n",
    "    now_num = int(bin(now_check)[2:])\n",
    "    if now_num > 18446744073709551615:\n",
    "        print(0)\n",
    "        break\n",
    "    elif now_num%n == 0:\n",
    "        print(now_num)\n",
    "        break\n",
    "    else:\n",
    "        now_check +=1"
   ]
  },
  {
   "cell_type": "code",
   "execution_count": 23,
   "metadata": {},
   "outputs": [
    {
     "name": "stdin",
     "output_type": "stream",
     "text": [
      " 3\n"
     ]
    },
    {
     "name": "stdout",
     "output_type": "stream",
     "text": [
      "deque([]) 1\n",
      "deque([11]) 10\n",
      "deque([100, 101]) 11\n",
      "deque([101, 110, 111]) 100\n",
      "deque([110, 111, 1000, 1001]) 101\n",
      "deque([111, 1000, 1001, 1010, 1011]) 110\n",
      "111\n"
     ]
    }
   ],
   "source": [
    "from collections import deque\n",
    "\n",
    "n = int(input())\n",
    "\n",
    "queue = deque([1])\n",
    "\n",
    "while True:\n",
    "    temp = queue.popleft()\n",
    "    if temp > 18446744073709551615:\n",
    "        print(0)\n",
    "        break\n",
    "    \n",
    "    if temp%n ==0:\n",
    "        print(temp)\n",
    "        break\n",
    "    print(queue,temp)    \n",
    "    queue.append(temp*10)\n",
    "    queue.append(temp*10 +1)"
   ]
  }
 ],
 "metadata": {
  "kernelspec": {
   "display_name": "Python 3",
   "language": "python",
   "name": "python3"
  },
  "language_info": {
   "codemirror_mode": {
    "name": "ipython",
    "version": 3
   },
   "file_extension": ".py",
   "mimetype": "text/x-python",
   "name": "python",
   "nbconvert_exporter": "python",
   "pygments_lexer": "ipython3",
   "version": "3.8.5"
  }
 },
 "nbformat": 4,
 "nbformat_minor": 4
}
