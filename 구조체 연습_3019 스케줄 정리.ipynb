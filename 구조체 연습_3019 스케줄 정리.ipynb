{
 "cells": [
  {
   "cell_type": "markdown",
   "metadata": {},
   "source": [
    "문제 설명    \n",
    "순서없이 적힌 스케줄 메모가 있다.\n",
    "\n",
    "메모는 스케줄명, 연, 월, 일 의 형태로 구성되어 있다.\n",
    "\n",
    "이 메모를 토대로 날짜가 빠른 순서로 정렬하여 출력하고자 한다.\n",
    "\n",
    "만약 날짜가 동일한 경우 스케줄명의 사전식 순서로 오름차순 정렬한다.\n",
    "\n",
    "입력\n",
    "첫째줄에 데이터의 개수 n이 입력된다.(1<=n<=100)\n",
    "\n",
    "그 다음줄부터 n개의 데이터가 스케줄명, 년, 월, 일 형태로 한 줄에 하나씩 입력된다. 스케줄명은 공백없이 알파벳소문자 99글자 이하, 년월일은 유효한 날짜만 입력된다.\n",
    "\n",
    "출력\n",
    "가장 먼저 해야 할 스케줄명부터 정렬하여  출력한다.\n",
    "\n",
    "입력 예시   \n",
    "5  \n",
    "\n",
    "sleep 2014 05 23  \n",
    "golf 2014 06 02  \n",
    "travel 2015 11 22  \n",
    "baseball 2013 02 01  \n",
    "study 2014 05 23  \n",
    "\n",
    "출력 예시\n",
    "baseball  \n",
    "sleep  \n",
    "study  \n",
    "golf  \n",
    "travel \n"
   ]
  },
  {
   "cell_type": "code",
   "execution_count": null,
   "metadata": {},
   "outputs": [],
   "source": [
    "n=int(input())\n",
    "schd_list=[]\n",
    "for i in range(n):\n",
    "    schd, year, month, day=input().split()\n",
    "    schd_list.append([int(year),int(month),int(day),schd])\n",
    "schd_list.sort()\n",
    "for j in schd_list:\n",
    "    print(j[3])-"
   ]
  }
 ],
 "metadata": {
  "kernelspec": {
   "display_name": "Python 3",
   "language": "python",
   "name": "python3"
  },
  "language_info": {
   "codemirror_mode": {
    "name": "ipython",
    "version": 3
   },
   "file_extension": ".py",
   "mimetype": "text/x-python",
   "name": "python",
   "nbconvert_exporter": "python",
   "pygments_lexer": "ipython3",
   "version": "3.8.5"
  }
 },
 "nbformat": 4,
 "nbformat_minor": 4
}
