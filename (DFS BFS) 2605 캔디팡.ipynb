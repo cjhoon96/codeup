{
 "cells": [
  {
   "cell_type": "code",
   "execution_count": null,
   "metadata": {},
   "outputs": [],
   "source": [
    "graph=[]\n",
    "\n",
    "for _ in range(7):\n",
    "    graph.append(list(map(int,input().split())))\n",
    "\n",
    "check = True\n",
    "cnt = 0\n",
    "def dfs_candy(x,y,n):\n",
    "    if x<=-1 or x>=7 or y<=-1 or y>=7:\n",
    "        return False\n",
    "    if graph[x][y] == n:\n",
    "        graph[x][y] == 0\n",
    "        cnt += 1\n",
    "        dfs_candy(x - 1, y)\n",
    "        dfs_candy(x + 1, y)\n",
    "        dfs_candy(x, y - 1)\n",
    "        dfs_candy(x, y + 1)\n",
    "        return True\n",
    "\n",
    "crash = 0\n",
    "\n",
    "for idx in range(7):\n",
    "    for jdx in range(7):\n",
    "        if graph[idx][jdx] > 0:\n",
    "            cnt = 0\n",
    "            n = graph[idx][jdx]\n",
    "            if dfs_candy(idx,jdx,n) == True and cnt >= 3:\n",
    "                crash += 1\n",
    "print(crash)"
   ]
  },
  {
   "cell_type": "markdown",
   "metadata": {},
   "source": [
    "0은 이미 지나간 곳"
   ]
  }
 ],
 "metadata": {
  "kernelspec": {
   "display_name": "Python 3",
   "language": "python",
   "name": "python3"
  },
  "language_info": {
   "codemirror_mode": {
    "name": "ipython",
    "version": 3
   },
   "file_extension": ".py",
   "mimetype": "text/x-python",
   "name": "python",
   "nbconvert_exporter": "python",
   "pygments_lexer": "ipython3",
   "version": "3.8.5"
  }
 },
 "nbformat": 4,
 "nbformat_minor": 4
}
