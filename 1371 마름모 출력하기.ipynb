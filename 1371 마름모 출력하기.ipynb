{
 "cells": [
  {
   "cell_type": "markdown",
   "metadata": {},
   "source": [
    "문제 설명      \n",
    "이번엔 마름모를 출력해보자. \n",
    "\n",
    "n이 입력되면 대각선 2개의 길이가 2n인 마름모를 출력하시오.\n",
    "\n",
    "입력\n",
    "정수 n이 입력된다. ( 2 <= n <= 100 )\n",
    "\n",
    "출력\n",
    "대각선 2개의 길이가 2n인 마름모를 출력한다.\n",
    "\n",
    "입력 예시   \n",
    "5\n",
    "\n",
    "출력 예시\n",
    "    **\n",
    "   *  *\n",
    "  *    *\n",
    " *      *\n",
    "*        *\n",
    "*        *\n",
    " *      *\n",
    "  *    *\n",
    "   *  *\n",
    "    **"
   ]
  },
  {
   "cell_type": "code",
   "execution_count": 5,
   "metadata": {},
   "outputs": [
    {
     "name": "stdout",
     "output_type": "stream",
     "text": [
      "{'x': 'a', 'y': 'b', 'z': 'c', ' ': ' ', 'a': 'd', 'b': 'e', 'c': 'f', 'd': 'g', 'e': 'h', 'f': 'i', 'g': 'j', 'h': 'k', 'i': 'l', 'j': 'm', 'k': 'n', 'l': 'o', 'm': 'p', 'n': 'q', 'o': 'r', 'p': 's', 'q': 't', 'r': 'u', 's': 'v', 't': 'w', 'u': 'x', 'v': 'y', 'w': 'z'}\n"
     ]
    }
   ],
   "source": [
    "n=int(input())\n",
    "for i in range(n):\n",
    "    print('%s%s%s'%(' '*(n-1-i),'*',' '*i),end='')\n",
    "    print('%s%s'%(' '*i,'*'))\n",
    "for i in range(n):\n",
    "    print('%s%s%s'%(' '*i,'*',' '*(n-1-i)),end='')\n",
    "    print('%s%s'%(' '*(n-1-i),'*'))"
   ]
  }
 ],
 "metadata": {
  "kernelspec": {
   "display_name": "Python 3",
   "language": "python",
   "name": "python3"
  },
  "language_info": {
   "codemirror_mode": {
    "name": "ipython",
    "version": 3
   },
   "file_extension": ".py",
   "mimetype": "text/x-python",
   "name": "python",
   "nbconvert_exporter": "python",
   "pygments_lexer": "ipython3",
   "version": "3.8.5"
  }
 },
 "nbformat": 4,
 "nbformat_minor": 4
}
