{
 "cells": [
  {
   "cell_type": "markdown",
   "metadata": {},
   "source": [
    "# 4713 : 공주님의 정원\n",
    "시간 제한: 1 Sec  메모리 제한: 128 MB\n",
    "제출: 2134  해결 문제 수: 388\n",
    "   \n",
    "## 문제 분류 : 보기\n",
    "# 문제 설명    \n",
    "## 문제3) 공주님의 정원 (중등2)\n",
    "\n",
    "## 오늘은 공주님이 태어난 경사스러운 날이다. 왕은 이 날을 기념하기 위해 늘 꽃이 피어있는 작은 정원을 만들기로 결정했다.\n",
    "\n",
    "## 총  N개의 꽃이 있는 데, 꽃은 모두 같은 해에 피어서 같은 해에 진다. \n",
    "## 하나의 꽃은 피는 날과 지는 날이 정해져 있다. 예를 들어, 5월 8일 피어서 6월 13일 지는 꽃은 5월 8일부터 6월 12일까지는 꽃이 피어 있고, 6월 13일을 포함하여 이후로는 꽃을 볼 수 없다는 의미이다. \n",
    "## (올해는 4,6,9,11월은 30일까지 있고, 1,3,5,7,8,10,12월은 31일까지 있으며, 2월은 28일까지만 있다.)\n",
    "## 이러한 N개의 꽃들 중에서 다음의 두 조건을 만족하는 꽃들을 선택하고 싶다.\n",
    "\n",
    "1. ## 공주가 가장 좋아하는 계절인 3월 1일부터 11월 30일까지 매일 꽃이 한 가지 이상 피어 있도록 한다.\n",
    "\n",
    "2. ## 정원이 넓지 않으므로 정원에 심는 꽃들의 수를 가능한 적게 한다.\n",
    "\n",
    "## N개의 꽃들 중에서 위의 두 조건을 만족하는, 즉 3월 1일부터 11월 30일까지 매일 꽃이 한 가지 이상 피어 있도록 꽃들을 선택할 때, 선택한 꽃들의 최소 개수를 출력하는 프로그램을 작성하시오.\n",
    "\n",
    "# 입력\n",
    "## 첫째 줄에는 꽃들의 총 개수 N (1<=N<=100,000)이 주어진다.\n",
    "\n",
    "## 다음 N개의 줄에는 각 꽃이 피는 날짜와 지는 날짜가 주어진다. 하나의 날짜는 월과 일을 나타내는 두 숫자로 표현된다. 예를 들어서, 3 8 7 31은 꽃이 3월 8일에 피어서 7월 31일에 진다는 것을 나타낸다.\n",
    "\n",
    "# 출력\n",
    " 첫째 줄에 선택한 꽃들의 최소 개수를 출력한다. 만약 두 조건을 만족하는 꽃들을 선택할 수 없다면 0을 출력한다.\n",
    "\n",
    "# 입력 예시   \n",
    "## 4  \n",
    "\n",
    "## 1 1 5 31  \n",
    "## 1 1 6 30  \n",
    "## 5 15 8 31  \n",
    "## 6 10 12 10  \n",
    "\n",
    "# 출력 예시\n",
    "## 2"
   ]
  },
  {
   "cell_type": "code",
   "execution_count": 21,
   "metadata": {},
   "outputs": [
    {
     "ename": "KeyboardInterrupt",
     "evalue": "Interrupted by user",
     "output_type": "error",
     "traceback": [
      "\u001b[1;31m---------------------------------------------------------------------------\u001b[0m",
      "\u001b[1;31mKeyboardInterrupt\u001b[0m                         Traceback (most recent call last)",
      "\u001b[1;32m<ipython-input-21-489c10f1a39e>\u001b[0m in \u001b[0;36m<module>\u001b[1;34m\u001b[0m\n\u001b[0;32m      1\u001b[0m \u001b[1;32mimport\u001b[0m \u001b[0mnumpy\u001b[0m \u001b[1;32mas\u001b[0m \u001b[0mnp\u001b[0m\u001b[1;33m\u001b[0m\u001b[1;33m\u001b[0m\u001b[0m\n\u001b[0;32m      2\u001b[0m \u001b[1;33m\u001b[0m\u001b[0m\n\u001b[1;32m----> 3\u001b[1;33m \u001b[0mn\u001b[0m \u001b[1;33m=\u001b[0m \u001b[0mint\u001b[0m\u001b[1;33m(\u001b[0m\u001b[0minput\u001b[0m\u001b[1;33m(\u001b[0m\u001b[1;33m)\u001b[0m\u001b[1;33m)\u001b[0m\u001b[1;33m\u001b[0m\u001b[1;33m\u001b[0m\u001b[0m\n\u001b[0m\u001b[0;32m      4\u001b[0m \u001b[1;33m\u001b[0m\u001b[0m\n\u001b[0;32m      5\u001b[0m \u001b[0mblossom_list\u001b[0m \u001b[1;33m=\u001b[0m \u001b[1;33m[\u001b[0m\u001b[1;33m]\u001b[0m\u001b[1;33m\u001b[0m\u001b[1;33m\u001b[0m\u001b[0m\n",
      "\u001b[1;32mC:\\ProgramData\\Anaconda3\\lib\\site-packages\\ipykernel\\kernelbase.py\u001b[0m in \u001b[0;36mraw_input\u001b[1;34m(self, prompt)\u001b[0m\n\u001b[0;32m    858\u001b[0m                 \u001b[1;34m\"raw_input was called, but this frontend does not support input requests.\"\u001b[0m\u001b[1;33m\u001b[0m\u001b[1;33m\u001b[0m\u001b[0m\n\u001b[0;32m    859\u001b[0m             )\n\u001b[1;32m--> 860\u001b[1;33m         return self._input_request(str(prompt),\n\u001b[0m\u001b[0;32m    861\u001b[0m             \u001b[0mself\u001b[0m\u001b[1;33m.\u001b[0m\u001b[0m_parent_ident\u001b[0m\u001b[1;33m,\u001b[0m\u001b[1;33m\u001b[0m\u001b[1;33m\u001b[0m\u001b[0m\n\u001b[0;32m    862\u001b[0m             \u001b[0mself\u001b[0m\u001b[1;33m.\u001b[0m\u001b[0m_parent_header\u001b[0m\u001b[1;33m,\u001b[0m\u001b[1;33m\u001b[0m\u001b[1;33m\u001b[0m\u001b[0m\n",
      "\u001b[1;32mC:\\ProgramData\\Anaconda3\\lib\\site-packages\\ipykernel\\kernelbase.py\u001b[0m in \u001b[0;36m_input_request\u001b[1;34m(self, prompt, ident, parent, password)\u001b[0m\n\u001b[0;32m    902\u001b[0m             \u001b[1;32mexcept\u001b[0m \u001b[0mKeyboardInterrupt\u001b[0m\u001b[1;33m:\u001b[0m\u001b[1;33m\u001b[0m\u001b[1;33m\u001b[0m\u001b[0m\n\u001b[0;32m    903\u001b[0m                 \u001b[1;31m# re-raise KeyboardInterrupt, to truncate traceback\u001b[0m\u001b[1;33m\u001b[0m\u001b[1;33m\u001b[0m\u001b[1;33m\u001b[0m\u001b[0m\n\u001b[1;32m--> 904\u001b[1;33m                 \u001b[1;32mraise\u001b[0m \u001b[0mKeyboardInterrupt\u001b[0m\u001b[1;33m(\u001b[0m\u001b[1;34m\"Interrupted by user\"\u001b[0m\u001b[1;33m)\u001b[0m \u001b[1;32mfrom\u001b[0m \u001b[1;32mNone\u001b[0m\u001b[1;33m\u001b[0m\u001b[1;33m\u001b[0m\u001b[0m\n\u001b[0m\u001b[0;32m    905\u001b[0m             \u001b[1;32mexcept\u001b[0m \u001b[0mException\u001b[0m \u001b[1;32mas\u001b[0m \u001b[0me\u001b[0m\u001b[1;33m:\u001b[0m\u001b[1;33m\u001b[0m\u001b[1;33m\u001b[0m\u001b[0m\n\u001b[0;32m    906\u001b[0m                 \u001b[0mself\u001b[0m\u001b[1;33m.\u001b[0m\u001b[0mlog\u001b[0m\u001b[1;33m.\u001b[0m\u001b[0mwarning\u001b[0m\u001b[1;33m(\u001b[0m\u001b[1;34m\"Invalid Message:\"\u001b[0m\u001b[1;33m,\u001b[0m \u001b[0mexc_info\u001b[0m\u001b[1;33m=\u001b[0m\u001b[1;32mTrue\u001b[0m\u001b[1;33m)\u001b[0m\u001b[1;33m\u001b[0m\u001b[1;33m\u001b[0m\u001b[0m\n",
      "\u001b[1;31mKeyboardInterrupt\u001b[0m: Interrupted by user"
     ]
    }
   ],
   "source": [
    "import numpy as np\n",
    "\n",
    "n = int(input())\n",
    "\n",
    "blossom_list = []\n",
    "\n",
    "day_30 = {4,6,9,11}\n",
    "\n",
    "day_31 = {1,3,5,7,8,10,12}\n",
    "\n",
    "def date(a,b):\n",
    "    rst = 0\n",
    "    if a == 1 :\n",
    "        rst = 0\n",
    "    else:\n",
    "        for i in range(1,a):\n",
    "            if i in day_30:\n",
    "                rst += 30\n",
    "            if i in day_31:\n",
    "                rst += 31\n",
    "            if i == 2 :\n",
    "                rst += 28\n",
    "    rst += b\n",
    "    if rst<=60:\n",
    "        rst = 60\n",
    "    elif rst>=334:\n",
    "        rst = 334\n",
    "    return rst\n",
    "\n",
    "for _ in range(n):\n",
    "    m_1, d_1, m_2, d_2 = map(int, input().split())\n",
    "    blossom_list.append( [ date(m_1,d_1), date(m_2,d_2) ] )\n",
    "\n",
    "\n",
    "    \n",
    "bloss_chck = []\n",
    "\n",
    "for idx in range(n):\n",
    "    s, e = blossom_list[idx][0], blossom_list[idx][1]-1\n",
    "    a = [0]*(s-60)+[1]*(e-s+1)+[0]*(334-e)\n",
    "    bloss_chck.append(a)\n",
    "\n",
    "\n",
    "def blossom_date(idx,lst):\n",
    "    cnt = 0\n",
    "    while idx<len(lst) and lst[idx]==1:\n",
    "        cnt +=1\n",
    "        idx +=1\n",
    "\n",
    "    return cnt\n",
    "\n",
    "change_day = 0\n",
    "\n",
    "kind_fl = 0\n",
    "\n",
    "\n",
    "while change_day < 274:\n",
    "    max_day = 0\n",
    "    \n",
    "    for fl in bloss_chck:\n",
    "        now_day = blossom_date(change_day, fl)\n",
    "        if now_day >= max_day:\n",
    "            max_day = now_day\n",
    "    print(max_day, now_day, change_day,kind_fl)\n",
    "    if max_day == 0:\n",
    "        kind_fl = 0  \n",
    "        break\n",
    "    \n",
    "    change_day += max_day\n",
    "    kind_fl +=1\n",
    "\n",
    "print(kind_fl)\n",
    "\n"
   ]
  },
  {
   "cell_type": "code",
   "execution_count": 16,
   "metadata": {},
   "outputs": [
    {
     "data": {
      "text/plain": [
       "91"
      ]
     },
     "execution_count": 16,
     "metadata": {},
     "output_type": "execute_result"
    }
   ],
   "source": [
    "[1, 1, 1, 1, 1, 1, 1, 1, 1, 1, 1, 1, 1, 1, 1, 1, 1, 1, 1, 1, 1, 1, 1, 1, 1, 1, 1, 1, 1, 1, 1, 1, 1, 1, 1, 1, 1, 1, 1, 1, 1, 1, 1, 1, 1, 1, 1, 1, 1, 1, 1, 1, 1, 1, 1, 1, 1, 1, 1, 1, 1, 1, 1, 1, 1, 1, 1, 1, 1, 1, 1, 1, 1, 1, 1, 1, 1, 1, 1, 1, 1, 1, 1, 1, 1, 1, 1, 1, 1, 1, 1, 0, 0, 0, 0, 0, 0, 0, 0, 0, 0, 0, 0, 0, 0, 0, 0, 0, 0, 0, 0, 0, 0, 0, 0, 0, 0, 0, 0, 0, 0, 0, 0, 0, 0, 0, 0, 0, 0, 0, 0, 0, 0, 0, 0, 0, 0, 0, 0, 0, 0, 0, 0, 0, 0, 0, 0, 0, 0, 0, 0, 0, 0, 0, 0, 0, 0, 0, 0, 0, 0, 0, 0, 0, 0, 0, 0, 0, 0, 0, 0, 0, 0, 0, 0, 0, 0, 0, 0, 0, 0, 0, 0, 0, 0, 0, 0, 0, 0, 0, 0, 0, 0, 0, 0, 0, 0, 0, 0, 0, 0, 0, 0, 0, 0, 0, 0, 0, 0, 0, 0, 0, 0, 0, 0, 0, 0, 0, 0, 0, 0, 0, 0, 0, 0, 0, 0, 0, 0, 0, 0, 0, 0, 0, 0, 0, 0, 0, 0, 0, 0, 0, 0, 0, 0, 0, 0, 0, 0, 0, 0, 0, 0, 0, 0, 0, 0, 0, 0, 0, 0, 0, 0, 0, 0, 0, 0, 0, 0, 0, 0, 0, 0, 0, 0].count(1)"
   ]
  },
  {
   "cell_type": "code",
   "execution_count": 3,
   "metadata": {},
   "outputs": [
    {
     "name": "stdin",
     "output_type": "stream",
     "text": [
      " 3 1\n"
     ]
    },
    {
     "name": "stdout",
     "output_type": "stream",
     "text": [
      "60\n"
     ]
    }
   ],
   "source": [
    "blossom_list = []\n",
    "\n",
    "day_30 = {4,6,9,11}\n",
    "\n",
    "day_31 = {1,3,5,7,8,10,12}\n",
    "def date(a,b):\n",
    "    rst = 0\n",
    "    if a == 1 :\n",
    "        rst = 0\n",
    "    else:\n",
    "        for i in range(1,a):\n",
    "            if i in day_30:\n",
    "                rst += 30\n",
    "            if i in day_31:\n",
    "                rst += 31\n",
    "            if i == 2 :\n",
    "                rst += 28\n",
    "    return print(rst+b)\n",
    "m,n = map(int,input().split())\n",
    "date(m,n)"
   ]
  },
  {
   "cell_type": "code",
   "execution_count": null,
   "metadata": {},
   "outputs": [],
   "source": [
    "print([0]*4)"
   ]
  },
  {
   "cell_type": "code",
   "execution_count": null,
   "metadata": {},
   "outputs": [],
   "source": [
    "import sys\n",
    "input=sys.stdin.readline\n",
    "\n",
    "n = int(input())\n",
    "\n",
    "blossom_list = []\n",
    "\n",
    "day_30 = {4,6,9,11}\n",
    "\n",
    "day_31 = {1,3,5,7,8,10,12}\n",
    "\n",
    "def date(a,b):\n",
    "    rst = 0\n",
    "    if a == 1 :\n",
    "        rst = 0\n",
    "    else:\n",
    "        for i in range(1,a):\n",
    "            if i in day_30:\n",
    "                rst += 30\n",
    "            elif i in day_31:\n",
    "                rst += 31\n",
    "            elif i == 2 :\n",
    "                rst += 28\n",
    "    rst += b\n",
    "    return rst\n",
    "\n",
    "for _ in range(n):\n",
    "    m_1, d_1, m_2, d_2 = map(int, input().split())\n",
    "    blossom_list.append( [ date(m_1,d_1), date(m_2,d_2) ] )\n",
    "\n",
    "blossom_list.sort()\n",
    "    \n",
    "day = 60\n",
    "kind_fl = 0\n",
    "checked_idx = 0\n",
    "\n",
    "while day<335:\n",
    "    last_check = False\n",
    "    max_date = 0\n",
    "\n",
    "    for fl in range(checked_idx,len(blossom_list)):\n",
    "        if blossom_list[fl][0]<=day<blossom_list[fl][1]:\n",
    "            last_check = True\n",
    "            if blossom_list[fl][1]>max_date:\n",
    "                max_date = blossom_list[fl][1]\n",
    "                checked_idx = fl + 1\n",
    "\n",
    "    if last_check == False:\n",
    "        kind_fl = 0\n",
    "        break\n",
    "    day = max_date\n",
    "    kind_fl += 1\n",
    "    \n",
    "\n",
    "print(kind_fl)\n",
    "        "
   ]
  }
 ],
 "metadata": {
  "kernelspec": {
   "display_name": "Python 3",
   "language": "python",
   "name": "python3"
  },
  "language_info": {
   "codemirror_mode": {
    "name": "ipython",
    "version": 3
   },
   "file_extension": ".py",
   "mimetype": "text/x-python",
   "name": "python",
   "nbconvert_exporter": "python",
   "pygments_lexer": "ipython3",
   "version": "3.8.5"
  }
 },
 "nbformat": 4,
 "nbformat_minor": 4
}
