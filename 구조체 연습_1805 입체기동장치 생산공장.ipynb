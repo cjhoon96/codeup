{
 "cells": [
  {
   "cell_type": "markdown",
   "metadata": {},
   "source": [
    "문제 설명    \n",
    "입체기동장치 생산공장에서는 거인들을 물리치기 위한 기계가 생산되고 있습니다.\n",
    "\n",
    "이 공장을 운영하는 에렌은 입체기동장치(1 ~ 100)의 식별번호(1 ~ 100)와 가스 보유량(0~10000)을 같이 관리하려고 합니다.\n",
    "\n",
    "하지만, 식별번호를 정렬할 때 가스 보유량이 뒤죽박죽 되어 버려 골머리를 앓고 있습니다.\n",
    "\n",
    "에렌을 남몰래 좋아하고 있던 미카사는 에렌이 스트레스성 탈모로 잔머리가 모두 빠지기 전에 이 문제를 해결해주려 합니다.\n",
    "\n",
    "미카사가 에렌의 스트레스성 탈모를 막을 수 있도록 프로그램을 작성해세요.\n",
    "\n",
    "식별번호가 한번 정해지면 그 입체기동장치의 가스 보유량은 정렬되더라도 변하지 않아야 합니다.\n",
    "\n",
    "입력  \n",
    "첫째 줄에 입체기동장치의 갯수 n이 입력된다. (1 <= n <= 100)\n",
    "\n",
    "둘째 줄부터 n+1째 줄까지 각 줄에 입체기동장치의 식별번호 a와 가스 보유량 b가 주어진다.\n",
    "\n",
    "a는 중복 될 수 없지만 b는 중복될 수 있다. (1 <= a <= 100), (0 <= b <= 10,000)\n",
    "\n",
    "출력  \n",
    "첫째 줄부터 n번째 줄까지 각 줄에 식별번호를 오름차순으로 정렬해 가스 보유량과 같이 출력한다.\n",
    "\n",
    "입력 예시     \n",
    "3  \n",
    "\n",
    "2 10  \n",
    "3 20  \n",
    "1 30  \n",
    "\n",
    "출력 예시  \n",
    "1 30  \n",
    "2 10  \n",
    "3 20  "
   ]
  },
  {
   "cell_type": "code",
   "execution_count": null,
   "metadata": {},
   "outputs": [],
   "source": [
    "n=int(input())\n",
    "VME_list=[]\n",
    "for _ in range(n):\n",
    "    VME_list.append(list(map(int, input().split())))\n",
    "VME_list.sort()\n",
    "for i in VME_list:\n",
    "    print(i[0],i[1])"
   ]
  }
 ],
 "metadata": {
  "kernelspec": {
   "display_name": "Python 3",
   "language": "python",
   "name": "python3"
  },
  "language_info": {
   "codemirror_mode": {
    "name": "ipython",
    "version": 3
   },
   "file_extension": ".py",
   "mimetype": "text/x-python",
   "name": "python",
   "nbconvert_exporter": "python",
   "pygments_lexer": "ipython3",
   "version": "3.8.5"
  }
 },
 "nbformat": 4,
 "nbformat_minor": 4
}
