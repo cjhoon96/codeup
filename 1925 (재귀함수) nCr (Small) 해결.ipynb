{
 "cells": [
  {
   "cell_type": "markdown",
   "metadata": {},
   "source": [
    "문제 설명       \n",
    "nCr은 n개의 원소를 가지는 집합에서 r개의 부분 집합을 고르는 조합의 수를 말한다.\n",
    "\n",
    "nCr을 일반 공식은 다음과 같다.\n",
    "\n",
    "nCr=nPrk!=n!r!⋅(n−r)!\n",
    "5C2는 다음과 같이 구할 수 있다.\n",
    "\n",
    "5C2=5!3!×2!=5×4×3×2×1(3×2×1)×(2×1)=10\n",
    "nCr을 구하는 프로그램을 작성하시오.\n",
    "\n",
    "금지 키워드 : for while goto\n",
    "입력\n",
    "n과 r이 입력된다. (1<=r<=n<=30)\n",
    "출력\n",
    "nCr의 값을 출력한다.\n",
    "\n",
    "입력 예시   \n",
    "5 2\n",
    "\n",
    "출력 예시\n",
    "10"
   ]
  },
  {
   "cell_type": "code",
   "execution_count": 18,
   "metadata": {},
   "outputs": [
    {
     "ename": "ValueError",
     "evalue": "not enough values to unpack (expected 2, got 0)",
     "output_type": "error",
     "traceback": [
      "\u001b[1;31m---------------------------------------------------------------------------\u001b[0m",
      "\u001b[1;31mValueError\u001b[0m                                Traceback (most recent call last)",
      "\u001b[1;32m<ipython-input-18-f9dc6adfc062>\u001b[0m in \u001b[0;36m<module>\u001b[1;34m\u001b[0m\n\u001b[0;32m      2\u001b[0m \u001b[0minput\u001b[0m\u001b[1;33m=\u001b[0m\u001b[0msys\u001b[0m\u001b[1;33m.\u001b[0m\u001b[0mstdin\u001b[0m\u001b[1;33m.\u001b[0m\u001b[0mreadline\u001b[0m\u001b[1;33m\u001b[0m\u001b[1;33m\u001b[0m\u001b[0m\n\u001b[0;32m      3\u001b[0m \u001b[1;33m\u001b[0m\u001b[0m\n\u001b[1;32m----> 4\u001b[1;33m \u001b[0mn\u001b[0m\u001b[1;33m,\u001b[0m\u001b[0mr\u001b[0m\u001b[1;33m=\u001b[0m\u001b[0mmap\u001b[0m\u001b[1;33m(\u001b[0m\u001b[0mint\u001b[0m\u001b[1;33m,\u001b[0m\u001b[0minput\u001b[0m\u001b[1;33m(\u001b[0m\u001b[1;33m)\u001b[0m\u001b[1;33m.\u001b[0m\u001b[0msplit\u001b[0m\u001b[1;33m(\u001b[0m\u001b[1;33m)\u001b[0m\u001b[1;33m)\u001b[0m\u001b[1;33m\u001b[0m\u001b[1;33m\u001b[0m\u001b[0m\n\u001b[0m\u001b[0;32m      5\u001b[0m \u001b[1;33m\u001b[0m\u001b[0m\n\u001b[0;32m      6\u001b[0m \u001b[0mdic\u001b[0m\u001b[1;33m=\u001b[0m\u001b[1;33m{\u001b[0m\u001b[1;36m0\u001b[0m\u001b[1;33m:\u001b[0m\u001b[1;36m1\u001b[0m\u001b[1;33m}\u001b[0m\u001b[1;33m\u001b[0m\u001b[1;33m\u001b[0m\u001b[0m\n",
      "\u001b[1;31mValueError\u001b[0m: not enough values to unpack (expected 2, got 0)"
     ]
    }
   ],
   "source": [
    "import sys\n",
    "input=sys.stdin.readline\n",
    "\n",
    "n,r=map(int,input().split())\n",
    "\n",
    "dic={0:1}\n",
    "\n",
    "def comb(n,r):\n",
    "    if r in dic:\n",
    "        return dic[r]\n",
    "    else:\n",
    "        dic[r]=int(comb(n,r-1)*(n-r+1)/r)\n",
    "        return dic[r]\n",
    "print(comb(n,r))"
   ]
  },
  {
   "cell_type": "code",
   "execution_count": null,
   "metadata": {},
   "outputs": [],
   "source": [
    "## 파스칼 삼각형으로\n",
    "\n",
    "\n",
    "import sys\n",
    "input=sys.stdin.readline\n",
    "\n",
    "n,r=map(int,input().split())\n",
    "\n",
    "dic={(n,0):1}\n",
    "\n",
    "def comb(n,r):\n",
    "    if r==0 or n==0 or n==r:\n",
    "        dic[(n,r)]=1\n",
    "        return 1\n",
    "    elif (n,r) in dic:\n",
    "        return dic[(n,r)]\n",
    "\n",
    "    else:\n",
    "        dic[(n,r)]=comb(n-1,r-1)+comb(n-1,r)\n",
    "        return dic[(n,r)]\n",
    "print(comb(n,r))"
   ]
  }
 ],
 "metadata": {
  "kernelspec": {
   "display_name": "Python 3",
   "language": "python",
   "name": "python3"
  },
  "language_info": {
   "codemirror_mode": {
    "name": "ipython",
    "version": 3
   },
   "file_extension": ".py",
   "mimetype": "text/x-python",
   "name": "python",
   "nbconvert_exporter": "python",
   "pygments_lexer": "ipython3",
   "version": "3.8.5"
  }
 },
 "nbformat": 4,
 "nbformat_minor": 4
}
