{
 "cells": [
  {
   "cell_type": "code",
   "execution_count": null,
   "metadata": {},
   "outputs": [],
   "source": [
    "v, n = map(int,input().split())\n",
    "\n",
    "graph = {}\n",
    "for _ in range(n):\n",
    "    a, b = map(int,input().split())\n",
    "    if a in graph:\n",
    "        graph[a].append(b)\n",
    "        graph[a].sort(reverse = True)\n",
    "    else:\n",
    "        graph[a] = [b]\n",
    "\n",
    "data = {j+1 for j in range(v)}\n",
    "\n",
    "def no_to(graph):\n",
    "    to_set = data.copy()\n",
    "    for to in graph.values():\n",
    "        to_set -= set(to)\n",
    "    to_set -= visit_set\n",
    "    if to_set == set():\n",
    "        return False\n",
    "    else:\n",
    "        x = min(tuple(to_set))\n",
    "        return x\n",
    "\n",
    "visit_set = set()\n",
    "order = []\n",
    "while visit_set != data :\n",
    "    a = no_to(graph)\n",
    "    if a not in graph:\n",
    "        order.append(a) \n",
    "        break\n",
    "    \n",
    "    else:\n",
    "        visit_set.add(a)\n",
    "        order.append(a)\n",
    "        del graph[a]\n",
    "\n",
    "if set(order) == data:\n",
    "    for way in order:\n",
    "        print(way)\n",
    "\n",
    "else:\n",
    "    print(-1)"
   ]
  },
  {
   "cell_type": "code",
   "execution_count": 7,
   "metadata": {},
   "outputs": [
    {
     "name": "stdout",
     "output_type": "stream",
     "text": [
      "[1, 2, 3, 1] {1, 2, 3}\n",
      "1\n",
      "1\n"
     ]
    }
   ],
   "source": [
    "a=[1,2,3,1]\n",
    "b=set(a)\n",
    "print(a,b)\n",
    "c=min(tuple(b))\n",
    "print(c)\n",
    "print(min(b))"
   ]
  },
  {
   "cell_type": "code",
   "execution_count": null,
   "metadata": {},
   "outputs": [],
   "source": [
    "v, n = map(int,input().split())\n",
    "\n",
    "graph = {}\n",
    "for _ in range(n):\n",
    "    a, b = map(int,input().split())\n",
    "    if a in graph:\n",
    "        graph[a].append(b)\n",
    "        graph[a].sort(reverse = True)\n",
    "    else:\n",
    "        graph[a] = [b]\n",
    "\n",
    "visited = [False] * v+1 # 인덱스 0은 사용 하지 않기 위해 1~8 만 필요\n",
    "\n",
    "dfs(graph, 1, visited)"
   ]
  }
 ],
 "metadata": {
  "kernelspec": {
   "display_name": "Python 3",
   "language": "python",
   "name": "python3"
  },
  "language_info": {
   "codemirror_mode": {
    "name": "ipython",
    "version": 3
   },
   "file_extension": ".py",
   "mimetype": "text/x-python",
   "name": "python",
   "nbconvert_exporter": "python",
   "pygments_lexer": "ipython3",
   "version": "3.8.5"
  }
 },
 "nbformat": 4,
 "nbformat_minor": 4
}
