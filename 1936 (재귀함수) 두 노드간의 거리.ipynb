{
 "cells": [
  {
   "cell_type": "markdown",
   "metadata": {},
   "source": [
    "문제 설명    \n",
    "21억이하로 구성된 완전 이진 트리가 있다.\n",
    "\n",
    "노드의 번호는 루트 노드에서 부터 상->하, 좌->우방향으로 1,2,3,4,... 로 차례대로 부여 된다.\n",
    "\n",
    "이 때 두 노드 a,b의 거리를 구하고자 한다.\n",
    "\n",
    "예를 들어, 3번 노드와 4번 노드의 거리는 3이고, 4번 노드와 5번 노드의 거리는 2이다.\n",
    "\n",
    "\n",
    "\n",
    "금지 키워드 : for while goto\n",
    "입력\n",
    "두 노드 a,b가 입력된다.(1<=a,b<=2,100,000,000)\n",
    "\n",
    "출력\n",
    "두 노드 a,b의 거리를 출력한다.\n",
    "\n",
    "입력 예시   \n",
    "3 4\n",
    "\n",
    "출력 예시\n",
    "3"
   ]
  },
  {
   "cell_type": "code",
   "execution_count": 1,
   "metadata": {},
   "outputs": [
    {
     "ename": "ValueError",
     "evalue": "not enough values to unpack (expected 2, got 0)",
     "output_type": "error",
     "traceback": [
      "\u001b[1;31m---------------------------------------------------------------------------\u001b[0m",
      "\u001b[1;31mValueError\u001b[0m                                Traceback (most recent call last)",
      "\u001b[1;32m<ipython-input-1-823529763136>\u001b[0m in \u001b[0;36m<module>\u001b[1;34m\u001b[0m\n\u001b[0;32m      2\u001b[0m \u001b[0minput\u001b[0m\u001b[1;33m=\u001b[0m\u001b[0msys\u001b[0m\u001b[1;33m.\u001b[0m\u001b[0mstdin\u001b[0m\u001b[1;33m.\u001b[0m\u001b[0mreadline\u001b[0m\u001b[1;33m\u001b[0m\u001b[1;33m\u001b[0m\u001b[0m\n\u001b[0;32m      3\u001b[0m \u001b[1;33m\u001b[0m\u001b[0m\n\u001b[1;32m----> 4\u001b[1;33m \u001b[0ma\u001b[0m\u001b[1;33m,\u001b[0m\u001b[0mb\u001b[0m\u001b[1;33m=\u001b[0m\u001b[0mmap\u001b[0m\u001b[1;33m(\u001b[0m\u001b[0mint\u001b[0m\u001b[1;33m,\u001b[0m\u001b[0minput\u001b[0m\u001b[1;33m(\u001b[0m\u001b[1;33m)\u001b[0m\u001b[1;33m.\u001b[0m\u001b[0msplit\u001b[0m\u001b[1;33m(\u001b[0m\u001b[1;33m)\u001b[0m\u001b[1;33m)\u001b[0m\u001b[1;33m\u001b[0m\u001b[1;33m\u001b[0m\u001b[0m\n\u001b[0m\u001b[0;32m      5\u001b[0m \u001b[1;33m\u001b[0m\u001b[0m\n\u001b[0;32m      6\u001b[0m \u001b[0mcount\u001b[0m\u001b[1;33m=\u001b[0m\u001b[1;36m0\u001b[0m\u001b[1;33m\u001b[0m\u001b[1;33m\u001b[0m\u001b[0m\n",
      "\u001b[1;31mValueError\u001b[0m: not enough values to unpack (expected 2, got 0)"
     ]
    }
   ],
   "source": [
    "import sys\n",
    "input=sys.stdin.readline\n",
    "\n",
    "a,b=map(int,input().split())\n",
    "\n",
    "count=0\n",
    "a_dic=[a]\n",
    "b_dic=[b]\n",
    "\n",
    "check=0\n",
    "\n",
    "while check==0:\n",
    "    a//=2\n",
    "    b//=2\n",
    "    a_dic.append(a)\n",
    "    b_dic.append(b)\n",
    "    if a in b_dic:\n",
    "        check=1\n",
    "    elif b in a_dic:\n",
    "        check=2\n",
    "\n",
    "if check==1:\n",
    "    count=len(a_dic)-1+b_dic.index(a)\n",
    "else:\n",
    "    count=len(b_dic)-1+a_dic.index(b)\n",
    "\n",
    "print(count)"
   ]
  },
  {
   "cell_type": "code",
   "execution_count": null,
   "metadata": {},
   "outputs": [],
   "source": []
  }
 ],
 "metadata": {
  "kernelspec": {
   "display_name": "Python 3",
   "language": "python",
   "name": "python3"
  },
  "language_info": {
   "codemirror_mode": {
    "name": "ipython",
    "version": 3
   },
   "file_extension": ".py",
   "mimetype": "text/x-python",
   "name": "python",
   "nbconvert_exporter": "python",
   "pygments_lexer": "ipython3",
   "version": "3.8.5"
  }
 },
 "nbformat": 4,
 "nbformat_minor": 4
}
