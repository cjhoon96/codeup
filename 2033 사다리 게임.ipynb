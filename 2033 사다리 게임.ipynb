{
 "cells": [
  {
   "cell_type": "markdown",
   "metadata": {},
   "source": [
    "문제 설명      \n",
    "주영이는 사다리 게임을 좋아한다.\n",
    "\n",
    "그는 긴 사다리도 쉽게 결과를 알 수 있게 사다리 타기 게임의 결과를 구하는 프로그램을 작성하려고 한다.\n",
    "\n",
    "주영이를 도와주는 프로그램을 만들자.\n",
    "\n",
    "프로그램은 다음과 같이 진행된다.\n",
    "\n",
    "1. 세로 선의 개수 k와 한 선과 다른 선을 연결하는 선의 개수 n이 입력된다. (단, 2 <= k<=100, 0 <= n <= 100,000)\n",
    "\n",
    "2. n+1줄까지 두 개의 선 번호가 입력된다. 이는 두 선이 연결되었다는 뜻이다. 두 선의 번호는 1 차이다. 단, 선의 순서는 입력 순서다.\n",
    "\n",
    "(1 2후 2 3이 입력되었을 경우 1에서 시작하면 1-2가 먼저이니 2로 이동한 후 2-3이 다음이니 3으로 다시 이동한다.)\n",
    "\n",
    "3. 시작 선의 번호가 주어진다.\n",
    "\n",
    "입력\n",
    "첫째줄에 세로 선의 개수 k와 가로 선의 개수 n이 입력된다.\n",
    "\n",
    "둘째 줄 ~  n+1줄까지 두 개의 선 번호가 입력된다.\n",
    "\n",
    "n+2번째 줄에 사다리를 타는 시작 위치 번호(p)가 입력된다.\n",
    "\n",
    "출력\n",
    "p위치에서 시작하여 사다리를 탄 결과 도착하는 위치를 출력하시오.\n",
    "\n",
    "입력 예시   \n",
    "3 2\n",
    "1 2\n",
    "2 3\n",
    "1\n",
    "\n",
    "출력 예시\n",
    "3"
   ]
  },
  {
   "cell_type": "code",
   "execution_count": null,
   "metadata": {},
   "outputs": [],
   "source": [
    "import sys\n",
    "input=sys.stdin.readline\n",
    "\n",
    "k,n=map(int,input().split())\n",
    "\n",
    "line_list=[]\n",
    "for _ in range(n):\n",
    "    line_list.append(set(map(int,input().split())))\n",
    "\n",
    "num={int(input())}\n",
    "\n",
    "for line in line_list:\n",
    "    if num.issubset(line):\n",
    "        num=line-num\n",
    "num=num.pop()\n",
    "print(num)"
   ]
  }
 ],
 "metadata": {
  "kernelspec": {
   "display_name": "Python 3",
   "language": "python",
   "name": "python3"
  },
  "language_info": {
   "codemirror_mode": {
    "name": "ipython",
    "version": 3
   },
   "file_extension": ".py",
   "mimetype": "text/x-python",
   "name": "python",
   "nbconvert_exporter": "python",
   "pygments_lexer": "ipython3",
   "version": "3.8.5"
  }
 },
 "nbformat": 4,
 "nbformat_minor": 4
}
