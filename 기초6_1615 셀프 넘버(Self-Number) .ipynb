{
 "cells": [
  {
   "cell_type": "markdown",
   "metadata": {},
   "source": [
    "어떤 자연수 n이 있을 때, d(n)을 n의 각 자릿수 숫자들과 n 자신을 더한 숫자라고 정의하자.\n",
    "\n",
    "예를 들어 d(91) = 9 + 1 + 91 = 101 이 때, n을 d(n)의 제네레이터(generator)라고 한다.\n",
    "\n",
    "위의 예에서 91은 101의 제네레이터이다.\n",
    "\n",
    "어떤 숫자들은 하나 이상의 제네레이터를 가지고 있는데, 101의 제네레이터는 91 뿐 아니라 100도 있다.\n",
    "\n",
    "그런데 반대로, 제네레이터가 없는 숫자들도 있으며, 이런 숫자를 인도의 수학자 Kaprekar가 셀프 넘버(self-number)라 이름 붙였다.\n",
    "\n",
    "예를 들어 1,3,5,7,9,20,31 은 셀프 넘버 들이다. \n",
    "\n",
    "시작 값(a)과 마지막 값(b)가 입력되면 두 수 사이의 셀프 넘버들의 합을 출력하시오."
   ]
  },
  {
   "cell_type": "markdown",
   "metadata": {},
   "source": [
    "## 입력\n",
    "\n",
    "시작 값(a)과 마지막 값(b)이 공백으로 분리되어 입력된다.( 1 <= a <= b <= 5,000)\n",
    "\n",
    "## 출력\n",
    "\n",
    "두 수사이의 셀프넘버들의 합을 출력한다."
   ]
  },
  {
   "cell_type": "markdown",
   "metadata": {},
   "source": [
    "## 입력 예시   \n",
    "1 10\n",
    "\n",
    "## 출력 예시\n",
    "25"
   ]
  },
  {
   "cell_type": "code",
   "execution_count": 7,
   "metadata": {},
   "outputs": [
    {
     "name": "stdout",
     "output_type": "stream",
     "text": [
      "1 10\n",
      "25\n"
     ]
    }
   ],
   "source": [
    "rge=list(map(int, input().split()))\n",
    "sum=0\n",
    "for i in range(rge[0], rge[1]+1):\n",
    "    digit=len(str(i))\n",
    "    \n",
    "    if digit==1:\n",
    "        if i%2 != 0:\n",
    "            sum+=i\n",
    "    \n",
    "    elif digit==2:\n",
    "        for j in range(i-9*2, i):\n",
    "            if len(str(j))==1:\n",
    "                if j*2==i:\n",
    "                    break\n",
    "            elif len(str(j))==2:\n",
    "                if j%10 + j//10 + j==i:\n",
    "                    break\n",
    "        else: \n",
    "            sum+=i\n",
    "    \n",
    "\n",
    "    elif digit==3:\n",
    "        for j in range(i-9*3, i):\n",
    "            if len(str(j))==2:\n",
    "                if j%10 + j//10 + j==i:\n",
    "                    break\n",
    "            elif len(str(j))==3:\n",
    "                if j//100+(j%100)//10+j%10+j==i:\n",
    "                    break\n",
    "        else:\n",
    "            sum+=i\n",
    "   \n",
    "\n",
    "    elif digit==4:\n",
    "        for j in range(i-9*4, i):\n",
    "            if len(str(j))==3:\n",
    "                if j//100+(j%100)//10+j%10+j==i:\n",
    "                    break\n",
    "            elif len(str(j))==4:\n",
    "                if j//1000+(j%1000)//100+(j%100)//10+j%10+j==i:\n",
    "                    break\n",
    "        else:\n",
    "            sum+=i\n",
    "\n",
    "print(sum)"
   ]
  }
 ],
 "metadata": {
  "kernelspec": {
   "display_name": "Python 3",
   "language": "python",
   "name": "python3"
  },
  "language_info": {
   "codemirror_mode": {
    "name": "ipython",
    "version": 3
   },
   "file_extension": ".py",
   "mimetype": "text/x-python",
   "name": "python",
   "nbconvert_exporter": "python",
   "pygments_lexer": "ipython3",
   "version": "3.8.5"
  }
 },
 "nbformat": 4,
 "nbformat_minor": 4
}
