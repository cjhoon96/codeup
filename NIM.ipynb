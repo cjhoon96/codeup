{
 "cells": [
  {
   "cell_type": "markdown",
   "metadata": {},
   "source": [
    "# NIM game"
   ]
  },
  {
   "cell_type": "markdown",
   "metadata": {},
   "source": [
    "## NIM Game Rule\n",
    "\n",
    "[What is NIM Game? Wikipedia](https://en.wikipedia.org/wiki/Nim)  \n",
    "[NIM 게임이란? ](https://ko.wikipedia.org/wiki/%EB%8B%98_(%EA%B2%8C%EC%9E%84))\n",
    "\n",
    "이 게임은 두 명의 플레이어가 참가한다.\n",
    "\n",
    "15개의 돌이 3개, 5개, 7개씩 총 세 줄로 나열되어있다.  \n",
    "● ● ●  \n",
    "● ● ● ● ●  \n",
    "● ● ● ● ● ● \n",
    "\n",
    "\n",
    "두 명의 플레이어들은 번갈아가며 돌들을 가져간다.  \n",
    "\n",
    "한 차례에 한 줄에서만 돌을 가져갈 수 있고, 몇 개를 가져가든 상관없다.  \n",
    "\n",
    "하지만 한 차례에 여러 줄에서 돌을 가져갈 순 없다.  \n",
    "\n",
    "마지막 돌을 가져간 플레이어가 승리한다.  \n",
    "\n",
    "\n"
   ]
  },
  {
   "cell_type": "code",
   "execution_count": 17,
   "metadata": {},
   "outputs": [],
   "source": [
    "grid = [[1,1,1],[1,1,1,1,1],[1,1,1,1,1,1,1]]\n",
    "turn = 0 # 0 : Player1's turn, 1: Player2's turn\n",
    "is_game_over = False"
   ]
  },
  {
   "cell_type": "code",
   "execution_count": 18,
   "metadata": {},
   "outputs": [],
   "source": [
    "def take_stone(row, start, end):\n",
    "    \"\"\"\n",
    "    Remove the stones in the inputed location\n",
    "    \"\"\"\n",
    "    r = row-1\n",
    "    s = start-1\n",
    "    e = end-1\n",
    "    \n",
    "    # Handling out of range input\n",
    "    if r<0 or r>2:\n",
    "        print('Wrong row!\\n')\n",
    "        player_turn()\n",
    "        return \n",
    "    \n",
    "    if s<0 or e>len(grid[r])-1:\n",
    "        print('W!\\n')\n",
    "        player_turn()\n",
    "        return \n",
    "    \n",
    "    if 0 in grid[r][s:e+1]:\n",
    "        print('Wrong!\\n')\n",
    "        player_turn()\n",
    "        return\n",
    "    \n",
    "    # Remove the stones\n",
    "    for i in range(e-s+1):\n",
    "        grid[r][s+i] = 0"
   ]
  },
  {
   "cell_type": "code",
   "execution_count": 19,
   "metadata": {},
   "outputs": [],
   "source": [
    "def reset():\n",
    "    \"\"\"\n",
    "    Reset the game\n",
    "    \"\"\"\n",
    "    global grid\n",
    "    global turn\n",
    "    global is_game_over\n",
    "    turn = 0\n",
    "    is_game_over = False\n",
    "    grid = [[1,1,1],[1,1,1,1,1],[1,1,1,1,1,1,1]]"
   ]
  },
  {
   "cell_type": "code",
   "execution_count": 20,
   "metadata": {},
   "outputs": [],
   "source": [
    "def player_turn():\n",
    "    \"\"\"\n",
    "    Input where to remove the stones.\n",
    "    \"\"\"\n",
    "    print(f\"Player{turn+1}'s turn\")\n",
    "    player_input = list(map(int, input('Enter \"row, start, end\" ').split()))\n",
    "    \n",
    "    if len(player_input) !=3:\n",
    "        print('Wrong input\\n')\n",
    "        player_turn()\n",
    "        return\n",
    "    \n",
    "    if player_input[1]>player_input[2]:\n",
    "        print('Wrong input\\n')\n",
    "        player_turn()\n",
    "        return\n",
    "    \n",
    "    else:\n",
    "        row, start, end = player_input\n",
    "        \n",
    "    take_stone(row, start, end)"
   ]
  },
  {
   "cell_type": "code",
   "execution_count": 21,
   "metadata": {},
   "outputs": [],
   "source": [
    "def is_end():\n",
    "    \"\"\"\n",
    "    Check that all stones are removed\n",
    "    \"\"\"\n",
    "    global is_game_over\n",
    "    if grid == [[0,0,0],[0,0,0,0,0],[0,0,0,0,0,0,0]]:\n",
    "        is_game_over = True\n",
    "        print(f'Player{turn+1} win!')\n",
    "        print('Game Over\\n')        "
   ]
  },
  {
   "cell_type": "code",
   "execution_count": 22,
   "metadata": {},
   "outputs": [],
   "source": [
    "def make_grid_pretty(grid):\n",
    "    \"\"\"\n",
    "    Make current game progress.\n",
    "    \"\"\"\n",
    "    result = ''\n",
    "    for row in grid:\n",
    "        for stone in row:\n",
    "            if stone == 0:\n",
    "                result+='○'\n",
    "            else:\n",
    "                result+='●'\n",
    "            result+=' '\n",
    "        result+='\\n'\n",
    "    return result"
   ]
  },
  {
   "cell_type": "code",
   "execution_count": 23,
   "metadata": {},
   "outputs": [
    {
     "name": "stdout",
     "output_type": "stream",
     "text": [
      "Player1's turn'\n"
     ]
    },
    {
     "name": "stdin",
     "output_type": "stream",
     "text": [
      "Enter \"row, start, end\"  1 3 4\n"
     ]
    },
    {
     "name": "stdout",
     "output_type": "stream",
     "text": [
      "W!\n",
      "\n",
      "Player1's turn'\n"
     ]
    },
    {
     "name": "stdin",
     "output_type": "stream",
     "text": [
      "Enter \"row, start, end\"  1 3 3\n"
     ]
    },
    {
     "name": "stdout",
     "output_type": "stream",
     "text": [
      "● ● ○ \n",
      "● ● ● ● ● \n",
      "● ● ● ● ● ● ● \n",
      "\n",
      "Player2's turn'\n"
     ]
    },
    {
     "name": "stdin",
     "output_type": "stream",
     "text": [
      "Enter \"row, start, end\"  2 3 5\n"
     ]
    },
    {
     "name": "stdout",
     "output_type": "stream",
     "text": [
      "● ● ○ \n",
      "● ● ○ ○ ○ \n",
      "● ● ● ● ● ● ● \n",
      "\n",
      "Player1's turn'\n"
     ]
    },
    {
     "name": "stdin",
     "output_type": "stream",
     "text": [
      "Enter \"row, start, end\"  3 5 7\n"
     ]
    },
    {
     "name": "stdout",
     "output_type": "stream",
     "text": [
      "● ● ○ \n",
      "● ● ○ ○ ○ \n",
      "● ● ● ● ○ ○ ○ \n",
      "\n",
      "Player2's turn'\n"
     ]
    },
    {
     "name": "stdin",
     "output_type": "stream",
     "text": [
      "Enter \"row, start, end\"  1 1 2\n"
     ]
    },
    {
     "name": "stdout",
     "output_type": "stream",
     "text": [
      "○ ○ ○ \n",
      "● ● ○ ○ ○ \n",
      "● ● ● ● ○ ○ ○ \n",
      "\n",
      "Player1's turn'\n"
     ]
    },
    {
     "name": "stdin",
     "output_type": "stream",
     "text": [
      "Enter \"row, start, end\"  2 1 2\n"
     ]
    },
    {
     "name": "stdout",
     "output_type": "stream",
     "text": [
      "○ ○ ○ \n",
      "○ ○ ○ ○ ○ \n",
      "● ● ● ● ○ ○ ○ \n",
      "\n",
      "Player2's turn'\n"
     ]
    },
    {
     "name": "stdin",
     "output_type": "stream",
     "text": [
      "Enter \"row, start, end\"  3 1 4\n"
     ]
    },
    {
     "name": "stdout",
     "output_type": "stream",
     "text": [
      "○ ○ ○ \n",
      "○ ○ ○ ○ ○ \n",
      "○ ○ ○ ○ ○ ○ ○ \n",
      "\n",
      "Player2 win!\n",
      "Game Over\n",
      "\n"
     ]
    },
    {
     "name": "stdin",
     "output_type": "stream",
     "text": [
      "Restart? Y/N n\n"
     ]
    }
   ],
   "source": [
    "# Playing Game\n",
    "while True:\n",
    "    while not(is_game_over):\n",
    "        player_turn()\n",
    "        print(make_grid_pretty(grid))\n",
    "        is_end()\n",
    "        turn = (turn+1)%2\n",
    "    re = input('Restart? Y/N')\n",
    "    if re not in ['Y','y']:\n",
    "        break\n",
    "    else:\n",
    "        reset()"
   ]
  }
 ],
 "metadata": {
  "kernelspec": {
   "display_name": "Python 3",
   "language": "python",
   "name": "python3"
  },
  "language_info": {
   "codemirror_mode": {
    "name": "ipython",
    "version": 3
   },
   "file_extension": ".py",
   "mimetype": "text/x-python",
   "name": "python",
   "nbconvert_exporter": "python",
   "pygments_lexer": "ipython3",
   "version": "3.8.5"
  }
 },
 "nbformat": 4,
 "nbformat_minor": 4
}
