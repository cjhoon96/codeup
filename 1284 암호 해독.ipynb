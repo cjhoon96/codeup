{
 "cells": [
  {
   "cell_type": "markdown",
   "metadata": {},
   "source": [
    "문제 설명    \n",
    "두 소수의 곱을 암호로 사용하는 알고리즘은 큰 수의 소인수분해가 어렵기 때문에 안전하다고 알려져있다.\n",
    "\n",
    "그렇지만, 만약 두 소수를 잊어버리면 어떻게 될까? 굉장히 난감할 것이다.\n",
    "\n",
    "이에 대비해 어떤 수(n)가 입력되면 두 소수의 곱으로 나타낼 수 있으면 두 소수를 오름차순으로 출력하고,\n",
    "\n",
    "그렇지 않으면 \"wrong number\"를 출력하는 프로그램을 작성하시오.\n",
    "\n",
    "입력\n",
    "어떤 수 n이 입력된다.(단, 1<=n<=10,000,000)\n",
    "\n",
    "출력\n",
    "n을 두 소수의 곱으로 나타낼 수 있으면 두 수를 오름차순으로 출력한다.\n",
    "\n",
    "(단, 가능한 소수 중 가장 작은 소수와의 곱으로 나타낸다.)\n",
    "\n",
    "하고, 그렇지 않으면 \"wrong number\"를 출력한다.\n",
    "\n",
    "입력 예시   \n",
    "21\n",
    "\n",
    "출력 예시\n",
    "3 7"
   ]
  },
  {
   "cell_type": "code",
   "execution_count": 1,
   "metadata": {},
   "outputs": [
    {
     "ename": "SyntaxError",
     "evalue": "invalid syntax (<ipython-input-1-79980fd946b5>, line 18)",
     "output_type": "error",
     "traceback": [
      "\u001b[1;36m  File \u001b[1;32m\"<ipython-input-1-79980fd946b5>\"\u001b[1;36m, line \u001b[1;32m18\u001b[0m\n\u001b[1;33m    오답!!\u001b[0m\n\u001b[1;37m      ^\u001b[0m\n\u001b[1;31mSyntaxError\u001b[0m\u001b[1;31m:\u001b[0m invalid syntax\n"
     ]
    }
   ],
   "source": [
    "n=int(input(0))\n",
    "m=0\n",
    "l=[]\n",
    "for i in range(2,n):\n",
    "    if n%i==0:\n",
    "        m+=1\n",
    "        l.append(i)\n",
    "    if m==3:\n",
    "        print(\"wrong number\")\n",
    "        break\n",
    "else:\n",
    "    if n==2:   \n",
    "        print(l[0],l[1])\n",
    "    else:\n",
    "        print(\"wrong number\")\n",
    "        \n",
    "        \n",
    "오답!!\n"
   ]
  },
  {
   "cell_type": "code",
   "execution_count": 4,
   "metadata": {},
   "outputs": [
    {
     "ename": "SyntaxError",
     "evalue": "invalid syntax (<ipython-input-4-0102c7c7d3da>, line 35)",
     "output_type": "error",
     "traceback": [
      "\u001b[1;36m  File \u001b[1;32m\"<ipython-input-4-0102c7c7d3da>\"\u001b[1;36m, line \u001b[1;32m35\u001b[0m\n\u001b[1;33m    시간 초과!!\u001b[0m\n\u001b[1;37m       ^\u001b[0m\n\u001b[1;31mSyntaxError\u001b[0m\u001b[1;31m:\u001b[0m invalid syntax\n"
     ]
    }
   ],
   "source": [
    "n=int(input())\n",
    "m=0\n",
    "def p(a):\n",
    "    for i in range(2,a):\n",
    "        if a%i==0:\n",
    "            return False \n",
    "    else:\n",
    "        return True\n",
    "\n",
    "\n",
    "dic={2:True,3:True}\n",
    "for i in range(4,n+1):\n",
    "    dic[i]=p(i)\n",
    "print(dic)\n",
    "\n",
    "l=[]\n",
    "for j in range(2,n):\n",
    "    if dic[j]==False:\n",
    "        print(\"wrong number\")\n",
    "        break\n",
    "    elif n%i==0:\n",
    "        m+=1\n",
    "        l.append(i)\n",
    "        print(l)\n",
    "    if m==3:\n",
    "        print(\"wrong number\")\n",
    "        break\n",
    "else:\n",
    "    if n==2:   \n",
    "        print(l[0],l[1])\n",
    "    else:\n",
    "        print(\"wrong number\")\n",
    "        \n",
    "        \n",
    "시간 초과!!"
   ]
  },
  {
   "cell_type": "code",
   "execution_count": 24,
   "metadata": {},
   "outputs": [
    {
     "name": "stdout",
     "output_type": "stream",
     "text": [
      "1\n",
      "wrong number\n"
     ]
    }
   ],
   "source": [
    "from math import sqrt\n",
    "n=int(input())\n",
    "m=0\n",
    "def p(a):\n",
    "    if a in [2,3]:\n",
    "        return True\n",
    "    else:\n",
    "        for i in range(2,int(sqrt(a))+1):\n",
    "            if a%i==0:\n",
    "                return False \n",
    "        else:\n",
    "            return True\n",
    "\n",
    "if n==1:\n",
    "    print(\"wrong number\")\n",
    "else:\n",
    "    for j in range(2,n+1):\n",
    "        if n%j==0:\n",
    "            break\n",
    "    if j==n:\n",
    "        print(\"wrong number\")\n",
    "    else:\n",
    "        if p(int(n/j))==True:\n",
    "            print(j,int(n/j))\n",
    "        else:\n",
    "            print(\"wrong number\")"
   ]
  }
 ],
 "metadata": {
  "kernelspec": {
   "display_name": "Python 3",
   "language": "python",
   "name": "python3"
  },
  "language_info": {
   "codemirror_mode": {
    "name": "ipython",
    "version": 3
   },
   "file_extension": ".py",
   "mimetype": "text/x-python",
   "name": "python",
   "nbconvert_exporter": "python",
   "pygments_lexer": "ipython3",
   "version": "3.8.5"
  }
 },
 "nbformat": 4,
 "nbformat_minor": 4
}
