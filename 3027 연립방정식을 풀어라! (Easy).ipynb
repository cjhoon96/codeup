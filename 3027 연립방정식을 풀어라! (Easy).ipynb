{
 "cells": [
  {
   "cell_type": "markdown",
   "metadata": {},
   "source": [
    "# 문제 설명      \n",
    "모범생 선우와 모범생 주원이는 수업 시간에 땡땡이를 치고 기숙사에서 자유를 만끽(?)하려 했으나 선생님께 걸리고 말았다.\n",
    "\n",
    "선생님은 선우와 주원이에게 땡땡이 친 벌로 자기가 내는 연립방정식 문제를 1초 안에 못 맞힐 때마다 벌점 1점씩을 주겠다고 하셨다.\n",
    "\n",
    "다행히 선생님은 선우와 주원이가 처음 걸린 것을 고려하여, 미지수가 2개인 1차 연립방정식만을 문제로 내겠다고 하셨다.\n",
    "\n",
    "선생님은 ax+by=c 꼴의 방정식 2개를 말해주는 동시에, 스톱워치로 1초를 센다.\n",
    "\n",
    "그리고 선우와 주원이가 1초 안에 연립방정식을 풀어서 만족하는 x, y 값을 말해야 한다.\n",
    "\n",
    "선우와 주원이가 벌점을 많이 받아 기숙사에서 퇴사당하지 않도록 이들을 도와 주는 프로그램을 만들어 보자.\n",
    "\n",
    "## 입력  \n",
    "두 줄에 걸쳐 ax+by=c 꼴의 1차 연립방정식 2개가 주어진다.\n",
    "\n",
    "계수와 상수항은 모두 0이 아닌 정수이며, −100,000 이상 100,000 이하이다.\n",
    "\n",
    "만약 계수가 1 또는 −1이라면 1을 생략하고 주어진다.\n",
    "\n",
    "입력되는 각 항과 등호 사이에는 공백이 없다.\n",
    "\n",
    "## 출력\n",
    "연립방정식을 만족하는 (x,y) 순서쌍이 한 개 있다면, x와 y의 값을 아래 출력 예시에 맞게 출력한다.\n",
    "\n",
    "연립방정식을 만족하는 (x,y) 순서쌍이 무한히 많다면, Indeterminate를 출력한다.\n",
    "\n",
    "연립방정식을 만족하는 (x,y) 순서쌍이 없다면, Impossible을 출력한다.\n",
    "\n",
    " \n",
    "\n",
    "해가 존재하는 모든 테스트 케이스에 대해, 해는 정수 범위이다.\n",
    "\n",
    "## 입력 예시   \n",
    "2x+5y=9  \n",
    "3x-2y=4  \n",
    "\n",
    "## 출력 예시\n",
    "x = 2  \n",
    "y = 1  \n",
    "\n",
    "## 도움말\n",
    "## 입력 예시 2)\n",
    "\n",
    "-x+y=3  \n",
    "\n",
    "2x-2y=6  \n",
    "\n",
    " \n",
    "\n",
    "## 출력 예시 2)\n",
    "\n",
    "Impossible"
   ]
  },
  {
   "cell_type": "code",
   "execution_count": 42,
   "metadata": {},
   "outputs": [
    {
     "name": "stdout",
     "output_type": "stream",
     "text": [
      "2x+5y=9\n",
      "3x-2y=4\n",
      "[1, 5, 1] [1, -2, 1]\n",
      "x = 1\n",
      "y = 0\n"
     ]
    }
   ],
   "source": [
    "def make_int(a):\n",
    "    if '-' in a:\n",
    "        sign=-1\n",
    "        a=a[1:]\n",
    "    elif '+' in a:\n",
    "        sign=1\n",
    "        a=a[1:]\n",
    "    else:\n",
    "        sign=1\n",
    "    if len(a)==0:\n",
    "        a=1\n",
    "    return sign*int(a)\n",
    "\n",
    "def make_eq(a):\n",
    "    x_idx=a.find('x')\n",
    "    y_idx=a.find('y')\n",
    "    x=a[:x_idx]\n",
    "    y=a[x_idx+1:y_idx]\n",
    "    z=a[y_idx+2:]\n",
    "    x, y, z =make_int(x), make_int(y), make_int(z)\n",
    "    return [x,y,z]\n",
    "\n",
    "eq_1=make_eq(input())\n",
    "eq_2=make_eq(input())\n",
    "print(eq_1, eq_2)\n",
    "for_y=[]\n",
    "\n",
    "for i in range(3):\n",
    "    for_y.append(eq_2[0]*eq_1[i]-eq_1[0]*eq_2[i])\n",
    "\n",
    "if for_y[1]==0 and for_y[2]==0:\n",
    "    print('Indeterminate')\n",
    "    \n",
    "elif for_y[1]==0 and for_y[2]!=0:\n",
    "    print('Impossible')\n",
    "\n",
    "else:\n",
    "    y=for_y[2]/for_y[1]\n",
    "    x=(eq_1[2]-eq_1[1]*y)/eq_1[0]\n",
    "    print('x = %d\\ny = %d'%(x,y))"
   ]
  },
  {
   "cell_type": "markdown",
   "metadata": {},
   "source": [
    "import re\n",
    "eq1_list=re.split('[x,y,=]',input())\n",
    "eq2_list=re.split('[x,y,=]',input())\n",
    "print(eq1_list)\n",
    "print(eq2_list\n",
    "2x+5y=9\n",
    "3x-2y=4"
   ]
  },
  {
   "cell_type": "code",
   "execution_count": 6,
   "metadata": {},
   "outputs": [
    {
     "ename": "SyntaxError",
     "evalue": "invalid syntax (<ipython-input-6-cb71aca87cb0>, line 5)",
     "output_type": "error",
     "traceback": [
      "\u001b[1;36m  File \u001b[1;32m\"<ipython-input-6-cb71aca87cb0>\"\u001b[1;36m, line \u001b[1;32m5\u001b[0m\n\u001b[1;33m    2x-y=3\u001b[0m\n\u001b[1;37m     ^\u001b[0m\n\u001b[1;31mSyntaxError\u001b[0m\u001b[1;31m:\u001b[0m invalid syntax\n"
     ]
    }
   ],
   "source": [
    "a='+2'\n",
    "int(a)\n",
    "print(a)\n",
    "print(type(a))\n",
    "2x-y=3\n",
    "-13x-2y=16"
   ]
  },
  {
   "cell_type": "code",
   "execution_count": 14,
   "metadata": {},
   "outputs": [
    {
     "name": "stdout",
     "output_type": "stream",
     "text": [
      "23\n"
     ]
    }
   ],
   "source": [
    "import string\n",
    "def make_int(a):\n",
    "    if '-' in a:\n",
    "        sign=-1\n",
    "    else:\n",
    "        sign=1\n",
    "    a=a.strip(string.punctuation)\n",
    "    return sign*int(a)\n",
    "\n",
    "print(make_int('-23'))"
   ]
  },
  {
   "cell_type": "code",
   "execution_count": 37,
   "metadata": {},
   "outputs": [
    {
     "name": "stdout",
     "output_type": "stream",
     "text": [
      "-9\n"
     ]
    }
   ],
   "source": [
    "def make_int(a):\n",
    "    if '-' in a:\n",
    "        sign=-1\n",
    "        a=a[1:]\n",
    "    elif '+' in a:\n",
    "        sign=1\n",
    "        a=a[1:]\n",
    "    else:\n",
    "        sign=1\n",
    "        a=a[1:]\n",
    "        \n",
    "    a=a.strip(string.punctuation)\n",
    "    if len(a)==0:\n",
    "        a=1\n",
    "    return sign*int(a)\n",
    "print(make_int('-9'))"
   ]
  },
  {
   "cell_type": "code",
   "execution_count": null,
   "metadata": {},
   "outputs": [],
   "source": []
  }
 ],
 "metadata": {
  "kernelspec": {
   "display_name": "Python 3",
   "language": "python",
   "name": "python3"
  },
  "language_info": {
   "codemirror_mode": {
    "name": "ipython",
    "version": 3
   },
   "file_extension": ".py",
   "mimetype": "text/x-python",
   "name": "python",
   "nbconvert_exporter": "python",
   "pygments_lexer": "ipython3",
   "version": "3.8.5"
  }
 },
 "nbformat": 4,
 "nbformat_minor": 4
}
