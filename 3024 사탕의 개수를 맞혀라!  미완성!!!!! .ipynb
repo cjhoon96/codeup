{
 "cells": [
  {
   "cell_type": "markdown",
   "metadata": {},
   "source": [
    "## 문제 설명    \n",
    "사탕을 좋아하는 북곽이는 오늘도 사탕을 먹기 위해 곽북이의 사탕 가게에 들렀다.\n",
    "\n",
    "다만 사탕 가게에서 사탕을 무조건 살 수 있는 것은 아니고, 사탕 가게 주인인 곽북이가 내는 퀴즈를 맞혀야 사탕을 살 수 있다.\n",
    "\n",
    "곽북이의 퀴즈는 다음과 같다.\n",
    "\n",
    "곽북이가 사탕 몇 개를 집은 뒤, 집은 사탕의 개수를 2로 나눈 나머지 m2, 3으로 나눈 나머지 m3, 4로 나눈 나머지 m4, ..., n으로 나눈 나머지 mn을 차례대로 알려 준다.\n",
    "\n",
    "이 때 이를 만족하는 가장 작은 사탕 개수를 맞혀야 한다.\n",
    "\n",
    "그런데 가끔씩 곽북이가 몇몇 개의 나머지를 잘못 알려 줘서 조건을 만족하는 사탕의 개수가 존재하지 않을 때도 있다. 이 경우는 \"Not Exist\"라고 말하면 된다.\n",
    "\n",
    "사탕을 먹고 싶어 하는 북곽이를 도와 주는 프로그램을 만들어 보자.\n",
    "\n",
    "## 입력\n",
    "첫 번째 줄에 2 이상 100,000 이하의 자연수 n이 입력된다.\n",
    "\n",
    "이후 두 번째 줄부터 n번째 줄까지 사탕의 개수를 2부터 n까지 나눈 나머지 m2, m3, ..., mn이 입력된다.\n",
    "\n",
    " \n",
    "\n",
    "## 출력\n",
    "주어진 나머지에 맞는 가장 작은 사탕의 개수를 출력한다.\n",
    "\n",
    "만약 조건을 만족하는 사탕의 개수가 존재하지 않는다면 \"Not Exist\"를 출력한다.\n",
    "\n",
    "이때 어떤 테스트 케이스에서도 답은 int형 범위를 넘지 않음이 보장되어 있다.\n",
    "\n",
    " \n",
    "\n",
    "## 입력 예시   \n",
    "10  \n",
    "1  \n",
    "\n",
    "2\n",
    "\n",
    "3\n",
    "\n",
    "4\n",
    "\n",
    "5\n",
    "\n",
    "6\n",
    "\n",
    "7\n",
    "\n",
    "8\n",
    "\n",
    "9  \n",
    "\n",
    "## 출력 예시\n",
    "2519"
   ]
  },
  {
   "cell_type": "code",
   "execution_count": 36,
   "metadata": {},
   "outputs": [
    {
     "name": "stdout",
     "output_type": "stream",
     "text": [
      "10\n",
      "1\n",
      "2\n",
      "3\n",
      "4\n",
      "5\n",
      "6\n",
      "7\n",
      "8\n",
      "9\n",
      "2519\n"
     ]
    }
   ],
   "source": [
    "n=int(input())\n",
    "num_list=[]\n",
    "for i in range(n-1):\n",
    "    num_list.append(int(input()))\n",
    "\n",
    "ab_n=num_list[-1]\n",
    "\n",
    "while True:\n",
    "    for i in range(n-2):\n",
    "        if ab_n%(i+2)!=num_list[i]:\n",
    "            ab_n+=n\n",
    "            break\n",
    "    else:\n",
    "        break\n",
    "        \n",
    "\n",
    "print(ab_n)\n",
    "        "
   ]
  }
 ],
 "metadata": {
  "kernelspec": {
   "display_name": "Python 3",
   "language": "python",
   "name": "python3"
  },
  "language_info": {
   "codemirror_mode": {
    "name": "ipython",
    "version": 3
   },
   "file_extension": ".py",
   "mimetype": "text/x-python",
   "name": "python",
   "nbconvert_exporter": "python",
   "pygments_lexer": "ipython3",
   "version": "3.8.5"
  }
 },
 "nbformat": 4,
 "nbformat_minor": 4
}
